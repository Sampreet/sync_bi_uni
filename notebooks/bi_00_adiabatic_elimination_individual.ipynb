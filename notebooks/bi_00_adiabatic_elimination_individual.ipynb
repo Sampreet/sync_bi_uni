{
 "cells": [
  {
   "cell_type": "markdown",
   "metadata": {},
   "source": [
    "# Adiabatic Elimination for Bidirectional Configuration"
   ]
  },
  {
   "source": [
    "## Initialization"
   ],
   "cell_type": "markdown",
   "metadata": {}
  },
  {
   "cell_type": "code",
   "execution_count": 1,
   "metadata": {},
   "outputs": [],
   "source": [
    "# dependencies\n",
    "from IPython.display import display, Math\n",
    "from sympy import init_printing, latex\n",
    "from sympy import conjugate, diff, E, Function, I, solve, sqrt, Symbol, symbols\n",
    "from sympy.physics.quantum import Dagger\n",
    "# use mathjax renderer for faster load times\n",
    "init_printing(use_latex='mathjax')"
   ]
  },
  {
   "cell_type": "code",
   "execution_count": 2,
   "metadata": {},
   "outputs": [],
   "source": [
    "# time\n",
    "t = symbols('t', real=True, positive=True)\n",
    "# positive parameters\n",
    "g_L, g_R, gamma_L, gamma_R, kappa_L, kappa_R, omega_L, omega_R = symbols('g_{L}, g_{R}, \\\\gamma_{L}, \\\\gamma_{R}, \\\\kappa_{L}, \\\\kappa_{R}, \\\\omega_{L}, \\\\omega_{R}', real=True, positive=True)\n",
    "# real-valued parameters\n",
    "Delta_L, Delta_R, lamb = symbols('\\\\Delta_{L}, \\\\Delta_{R}, \\\\lambda', real=True) \n",
    "# transformed parameters\n",
    "Gamma_L, Gamma_R, gamma, kappa = symbols('\\\\Gamma_{L}, \\\\Gamma_{R}, \\\\gamma, \\\\kappa', real=True, positive=True)\n",
    "delta = symbols('delta', real=True)\n",
    "chi, eta_L, eta_R, G_L, G_R = symbols('\\\\chi, \\\\eta_{L}, \\\\eta_{R}, G_{L}, G_{R}', complex=True)\n",
    "chi_R, chi_I = symbols('\\\\chi_{R}, \\\\chi_{I}', real=True)\n",
    "\n",
    "# classical amplitudes\n",
    "alpha_L, alpha_R, beta_L, beta_R = symbols('\\\\alpha_{L}, \\\\alpha_{R}, \\\\beta_{L}, \\\\beta_{R}', complex=True)\n",
    "# quantum fluctuations\n",
    "a_L_t = Function('\\\\hat{a}_{L}', commutative=False)(t)\n",
    "b_L_t = Function('\\\\hat{b}_{L}', commutative=False)(t)\n",
    "a_R_t = Function('\\\\hat{a}_{R}', commutative=False)(t)\n",
    "b_R_t = Function('\\\\hat{b}_{R}', commutative=False)(t)\n",
    "# input noises\n",
    "a_L_in_t = Function('\\\\hat{a}_{L}^{in}', commutative=False)(t)\n",
    "b_L_in_t = Function('\\\\hat{b}_{L}^{in}', commutative=False)(t)\n",
    "a_R_in_t = Function('\\\\hat{a}_{R}^{in}', commutative=False)(t)\n",
    "b_R_in_t = Function('\\\\hat{b}_{R}^{in}', commutative=False)(t)\n",
    "\n",
    "# transformed fluctuations\n",
    "a_L_tilde_t = Function('\\\\hat{\\\\tilde{a}}_{L}', commutative=False)(t)\n",
    "b_L_tilde_t = Function('\\\\hat{\\\\tilde{b}}_{L}', commutative=False)(t)\n",
    "a_R_tilde_t = Function('\\\\hat{\\\\tilde{a}}_{R}', commutative=False)(t)\n",
    "b_R_tilde_t = Function('\\\\hat{\\\\tilde{b}}_{R}', commutative=False)(t)\n",
    "# transformed noises# new bath operators\n",
    "a_L_in_tilde_t = Function('\\\\hat{\\\\tilde{a}}_{L}^{in}', commutative=False)(t)\n",
    "b_L_in_tilde_t = Function('\\\\hat{\\\\tilde{b}}_{L}^{in}', commutative=False)(t)\n",
    "a_R_in_tilde_t = Function('\\\\hat{\\\\tilde{a}}_{R}^{in}', commutative=False)(t)\n",
    "b_R_in_tilde_t = Function('\\\\hat{\\\\tilde{b}}_{R}^{in}', commutative=False)(t)\n",
    "\n",
    "# correlation expectation values\n",
    "b_L_tilde_dagger_b_L_tilde_expect_t = Function('\\\\langle \\\\hat{\\\\tilde{b}}_{L}^{\\\\dagger} \\\\hat{\\\\tilde{b}}_{L} \\\\rangle', complex=True)(t)\n",
    "b_L_tilde_dagger_b_R_tilde_expect_t = Function('\\\\langle \\\\hat{\\\\tilde{b}}_{L}^{\\\\dagger} \\\\hat{\\\\tilde{b}}_{R} \\\\rangle', complex=True)(t)\n",
    "b_R_tilde_dagger_b_L_tilde_expect_t = Function('\\\\langle \\\\hat{\\\\tilde{b}}_{R}^{\\\\dagger} \\\\hat{\\\\tilde{b}}_{L} \\\\rangle', complex=True)(t)\n",
    "b_R_tilde_dagger_b_R_tilde_expect_t = Function('\\\\langle \\\\hat{\\\\tilde{b}}_{R}^{\\\\dagger} \\\\hat{\\\\tilde{b}}_{R} \\\\rangle', complex=True)(t)\n",
    "b_L_tilde_dagger_b_L_tilde_expect = Symbol('\\\\langle \\\\hat{\\\\tilde{b}}_{L}^{\\\\dagger} \\\\hat{\\\\tilde{b}}_{L} \\\\rangle', complex=True)\n",
    "b_L_tilde_dagger_b_R_tilde_expect = Symbol('\\\\langle \\\\hat{\\\\tilde{b}}_{L}^{\\\\dagger} \\\\hat{\\\\tilde{b}}_{R} \\\\rangle', complex=True)\n",
    "b_R_tilde_dagger_b_L_tilde_expect = Symbol('\\\\langle \\\\hat{\\\\tilde{b}}_{R}^{\\\\dagger} \\\\hat{\\\\tilde{b}}_{L} \\\\rangle', complex=True)\n",
    "b_R_tilde_dagger_b_R_tilde_expect = Symbol('\\\\langle \\\\hat{\\\\tilde{b}}_{R}^{\\\\dagger} \\\\hat{\\\\tilde{b}}_{R} \\\\rangle', complex=True)"
   ]
  },
  {
   "source": [
    "## Quantum Langevin Equations"
   ],
   "cell_type": "markdown",
   "metadata": {}
  },
  {
   "cell_type": "code",
   "execution_count": 3,
   "metadata": {},
   "outputs": [
    {
     "output_type": "display_data",
     "data": {
      "text/plain": "<IPython.core.display.Math object>",
      "text/latex": "$\\displaystyle \\dot{\\hat{a}}_{L} (t) = i \\alpha_{L} g_{L} \\left(\\hat{b}_{L}{\\left(t \\right)} + \\hat{b}_{L}{\\left(t \\right)}^{\\dagger}\\right) + \\sqrt{2} \\sqrt{\\kappa_{L}} \\hat{a}_{L}^{in}{\\left(t \\right)} + i \\lambda \\hat{a}_{R}{\\left(t \\right)} + \\left(i \\Delta_{L} - \\kappa_{L}\\right) \\hat{a}_{L}{\\left(t \\right)}$"
     },
     "metadata": {}
    },
    {
     "output_type": "display_data",
     "data": {
      "text/plain": "<IPython.core.display.Math object>",
      "text/latex": "$\\displaystyle \\dot{\\hat{b}}_{L} (t) = \\sqrt{2} \\sqrt{\\gamma_{L}} \\hat{b}_{L}^{in}{\\left(t \\right)} + i g_{L} \\left(\\alpha_{L} \\hat{a}_{L}{\\left(t \\right)}^{\\dagger} + \\overline{\\alpha_{L}} \\hat{a}_{L}{\\left(t \\right)}\\right) + \\left(- \\gamma_{L} - i \\omega_{L}\\right) \\hat{b}_{L}{\\left(t \\right)}$"
     },
     "metadata": {}
    },
    {
     "output_type": "display_data",
     "data": {
      "text/plain": "<IPython.core.display.Math object>",
      "text/latex": "$\\displaystyle \\dot{\\hat{a}}_{R} (t) = i \\alpha_{R} g_{R} \\left(\\hat{b}_{R}{\\left(t \\right)} + \\hat{b}_{R}{\\left(t \\right)}^{\\dagger}\\right) + \\sqrt{2} \\sqrt{\\kappa_{R}} \\hat{a}_{R}^{in}{\\left(t \\right)} + i \\lambda \\hat{a}_{L}{\\left(t \\right)} + \\left(i \\Delta_{R} - \\kappa_{R}\\right) \\hat{a}_{R}{\\left(t \\right)}$"
     },
     "metadata": {}
    },
    {
     "output_type": "display_data",
     "data": {
      "text/plain": "<IPython.core.display.Math object>",
      "text/latex": "$\\displaystyle \\dot{\\hat{b}}_{R} (t) = \\sqrt{2} \\sqrt{\\gamma_{R}} \\hat{b}_{R}^{in}{\\left(t \\right)} + i g_{R} \\left(\\alpha_{R} \\hat{a}_{R}{\\left(t \\right)}^{\\dagger} + \\overline{\\alpha_{R}} \\hat{a}_{R}{\\left(t \\right)}\\right) + \\left(- \\gamma_{R} - i \\omega_{R}\\right) \\hat{b}_{R}{\\left(t \\right)}$"
     },
     "metadata": {}
    }
   ],
   "source": [
    "# rate equations\n",
    "expr_da_L_dt_t = (- kappa_L + I * Delta_L) * a_L_t + I * g_L * alpha_L * (Dagger(b_L_t) + b_L_t) + I * lamb * a_R_t + sqrt(2 * kappa_L) * a_L_in_t\n",
    "display(Math('\\\\dot{\\\\hat{a}}_{L} (t) = ' + latex(expr_da_L_dt_t)))\n",
    "expr_db_L_dt_t = (- gamma_L - I * omega_L) * b_L_t + I * g_L * (conjugate(alpha_L) * a_L_t + Dagger(a_L_t) * alpha_L) + sqrt(2 * gamma_L) * b_L_in_t\n",
    "display(Math('\\\\dot{\\\\hat{b}}_{L} (t) = ' + latex(expr_db_L_dt_t)))\n",
    "expr_da_R_dt_t = (- kappa_R + I * Delta_R) * a_R_t + I * g_R * alpha_R * (Dagger(b_R_t) + b_R_t) + I * lamb * a_L_t + sqrt(2 * kappa_R) * a_R_in_t\n",
    "display(Math('\\\\dot{\\\\hat{a}}_{R} (t) = ' + latex(expr_da_R_dt_t)))\n",
    "expr_db_R_dt_t = (- gamma_R - I * omega_R) * b_R_t + I * g_R * (conjugate(alpha_R) * a_R_t + Dagger(a_R_t) * alpha_R) + sqrt(2 * gamma_R) * b_R_in_t\n",
    "display(Math('\\\\dot{\\\\hat{b}}_{R} (t) = ' + latex(expr_db_R_dt_t)))"
   ]
  },
  {
   "cell_type": "markdown",
   "metadata": {},
   "source": [
    "## Transformations"
   ]
  },
  {
   "cell_type": "code",
   "execution_count": 4,
   "metadata": {},
   "outputs": [
    {
     "output_type": "display_data",
     "data": {
      "text/plain": "<IPython.core.display.Math object>",
      "text/latex": "$\\displaystyle \\hat{\\tilde{a}}_{L}{\\left(t \\right)} = e^{- i \\omega_{L} t} \\hat{a}_{L}{\\left(t \\right)}, \\quad \\hat{\\tilde{b}}_{L}{\\left(t \\right)} = e^{i \\omega_{L} t} \\hat{b}_{L}{\\left(t \\right)}$"
     },
     "metadata": {}
    },
    {
     "output_type": "display_data",
     "data": {
      "text/plain": "<IPython.core.display.Math object>",
      "text/latex": "$\\displaystyle \\hat{\\tilde{a}}_{R}{\\left(t \\right)} = e^{- i \\omega_{R} t} \\hat{a}_{R}{\\left(t \\right)}, \\quad \\hat{\\tilde{b}}_{R}{\\left(t \\right)} = e^{i \\omega_{R} t} \\hat{b}_{R}{\\left(t \\right)}$"
     },
     "metadata": {}
    },
    {
     "output_type": "display_data",
     "data": {
      "text/plain": "<IPython.core.display.Math object>",
      "text/latex": "$\\displaystyle \\Delta_{L} = \\omega_{L}, \\quad \\Delta_{R} = \\omega_{R}$"
     },
     "metadata": {}
    },
    {
     "output_type": "display_data",
     "data": {
      "text/plain": "<IPython.core.display.Math object>",
      "text/latex": "$\\displaystyle \\hat{\\tilde{a}}_{L}^{in}{\\left(t \\right)} = e^{- i \\omega_{L} t} \\hat{a}_{L}^{in}{\\left(t \\right)}, \\quad \\hat{\\tilde{b}}_{L}^{in}{\\left(t \\right)} = e^{i \\omega_{L} t} \\hat{b}_{L}^{in}{\\left(t \\right)}$"
     },
     "metadata": {}
    },
    {
     "output_type": "display_data",
     "data": {
      "text/plain": "<IPython.core.display.Math object>",
      "text/latex": "$\\displaystyle \\hat{\\tilde{a}}_{R}^{in}{\\left(t \\right)} = e^{- i \\omega_{R} t} \\hat{a}_{R}^{in}{\\left(t \\right)}, \\quad \\hat{\\tilde{b}}_{R}^{in}{\\left(t \\right)} = e^{i \\omega_{R} t} \\hat{b}_{R}^{in}{\\left(t \\right)}$"
     },
     "metadata": {}
    },
    {
     "output_type": "display_data",
     "data": {
      "text/plain": "<IPython.core.display.Math object>",
      "text/latex": "$\\displaystyle \\dot{\\hat{\\tilde{a}}}_{L} (t) = i \\alpha_{L} g_{L} \\hat{\\tilde{b}}_{L}{\\left(t \\right)}^{\\dagger} + i \\alpha_{L} g_{L} e^{- 2 i \\omega_{L} t} \\hat{\\tilde{b}}_{L}{\\left(t \\right)} + \\sqrt{2} \\sqrt{\\kappa_{L}} \\hat{\\tilde{a}}_{L}^{in}{\\left(t \\right)} - \\kappa_{L} \\hat{\\tilde{a}}_{L}{\\left(t \\right)} + i \\lambda e^{- i \\omega_{L} t} e^{i \\omega_{R} t} \\hat{\\tilde{a}}_{R}{\\left(t \\right)}$"
     },
     "metadata": {}
    },
    {
     "output_type": "display_data",
     "data": {
      "text/plain": "<IPython.core.display.Math object>",
      "text/latex": "$\\displaystyle \\dot{\\hat{\\tilde{b}}}_{L} (t) = i \\alpha_{L} g_{L} \\hat{\\tilde{a}}_{L}{\\left(t \\right)}^{\\dagger} + \\sqrt{2} \\sqrt{\\gamma_{L}} \\hat{\\tilde{b}}_{L}^{in}{\\left(t \\right)} - \\gamma_{L} \\hat{\\tilde{b}}_{L}{\\left(t \\right)} + i g_{L} e^{2 i \\omega_{L} t} \\overline{\\alpha_{L}} \\hat{\\tilde{a}}_{L}{\\left(t \\right)}$"
     },
     "metadata": {}
    },
    {
     "output_type": "display_data",
     "data": {
      "text/plain": "<IPython.core.display.Math object>",
      "text/latex": "$\\displaystyle \\dot{\\hat{\\tilde{a}}}_{R} (t) = i \\alpha_{R} g_{R} \\hat{\\tilde{b}}_{R}{\\left(t \\right)}^{\\dagger} + i \\alpha_{R} g_{R} e^{- 2 i \\omega_{R} t} \\hat{\\tilde{b}}_{R}{\\left(t \\right)} + \\sqrt{2} \\sqrt{\\kappa_{R}} \\hat{\\tilde{a}}_{R}^{in}{\\left(t \\right)} - \\kappa_{R} \\hat{\\tilde{a}}_{R}{\\left(t \\right)} + i \\lambda e^{i \\omega_{L} t} e^{- i \\omega_{R} t} \\hat{\\tilde{a}}_{L}{\\left(t \\right)}$"
     },
     "metadata": {}
    },
    {
     "output_type": "display_data",
     "data": {
      "text/plain": "<IPython.core.display.Math object>",
      "text/latex": "$\\displaystyle \\dot{\\hat{\\tilde{b}}}_{R} (t) = i \\alpha_{R} g_{R} \\hat{\\tilde{a}}_{R}{\\left(t \\right)}^{\\dagger} + \\sqrt{2} \\sqrt{\\gamma_{R}} \\hat{\\tilde{b}}_{R}^{in}{\\left(t \\right)} - \\gamma_{R} \\hat{\\tilde{b}}_{R}{\\left(t \\right)} + i g_{R} e^{2 i \\omega_{R} t} \\overline{\\alpha_{R}} \\hat{\\tilde{a}}_{R}{\\left(t \\right)}$"
     },
     "metadata": {}
    }
   ],
   "source": [
    "# fluctuation transformations\n",
    "expr_a_L_tilde_t = a_L_t * E**(- I * omega_L * t)\n",
    "expr_b_L_tilde_t = b_L_t * E**(I * omega_L * t)\n",
    "expr_a_R_tilde_t = a_R_t * E**(- I * omega_R * t)\n",
    "expr_b_R_tilde_t = b_R_t * E**(I * omega_R * t)\n",
    "# noise transformations\n",
    "expr_a_L_in_tilde_t = a_L_in_t * E**(- I * omega_L * t)\n",
    "expr_b_L_in_tilde_t = b_L_in_t * E**(I * omega_L * t)\n",
    "expr_a_R_in_tilde_t = a_R_in_t * E**(- I * omega_R * t)\n",
    "expr_b_R_in_tilde_t = b_R_in_t * E**(I * omega_R * t)\n",
    "# substitution list\n",
    "list_subs = [\n",
    "    (a_L_t, a_L_tilde_t * a_L_t / expr_a_L_tilde_t),\n",
    "    (b_L_t, b_L_tilde_t * b_L_t / expr_b_L_tilde_t), \n",
    "    (a_R_t, a_R_tilde_t * a_R_t / expr_a_R_tilde_t),\n",
    "    (b_R_t, b_R_tilde_t * b_R_t / expr_b_R_tilde_t),\n",
    "    (expr_a_L_in_tilde_t, a_L_in_tilde_t),\n",
    "    (expr_b_L_in_tilde_t, b_L_in_tilde_t),\n",
    "    (expr_a_R_in_tilde_t, a_R_in_tilde_t),\n",
    "    (expr_b_R_in_tilde_t, b_R_in_tilde_t),\n",
    "    (Delta_L, omega_L), \n",
    "    (Delta_R, omega_R),\n",
    "]\n",
    "# display\n",
    "display(Math(latex(a_L_tilde_t) + ' = ' + latex(expr_a_L_tilde_t) + ', \\\\quad ' + latex(b_L_tilde_t) + ' = ' + latex(expr_b_L_tilde_t)))\n",
    "display(Math(latex(a_R_tilde_t) + ' = ' + latex(expr_a_R_tilde_t) + ', \\\\quad ' + latex(b_R_tilde_t) + ' = ' + latex(expr_b_R_tilde_t)))\n",
    "display(Math(latex(Delta_L) + ' = ' + latex(omega_L) + ', \\\\quad ' + latex(Delta_R) + ' = ' + latex(omega_R)))\n",
    "display(Math(latex(a_L_in_tilde_t) + ' = ' + latex(expr_a_L_in_tilde_t) + ', \\\\quad ' + latex(b_L_in_tilde_t) + ' = ' + latex(expr_b_L_in_tilde_t)))\n",
    "display(Math(latex(a_R_in_tilde_t) + ' = ' + latex(expr_a_R_in_tilde_t) + ', \\\\quad ' + latex(b_R_in_tilde_t) + ' = ' + latex(expr_b_R_in_tilde_t)))\n",
    "\n",
    "# transformed equations\n",
    "# differentiate and substitute rates in first step \n",
    "# substitute other variables in second step\n",
    "expr_da_L_tilde_dt_t = diff(expr_a_L_tilde_t, t).subs(diff(a_L_t), expr_da_L_dt_t).expand()\n",
    "expr_da_L_tilde_dt_t = expr_da_L_tilde_dt_t.subs(expr_a_L_tilde_t, a_L_tilde_t).subs(list_subs)\n",
    "display(Math('\\\\dot{\\\\hat{\\\\tilde{a}}}_{L} (t) = ' + latex(expr_da_L_tilde_dt_t)))\n",
    "expr_db_L_tilde_dt_t = diff(expr_b_L_tilde_t, t).subs(diff(b_L_t), expr_db_L_dt_t).expand()\n",
    "expr_db_L_tilde_dt_t = expr_db_L_tilde_dt_t.subs(expr_b_L_tilde_t, b_L_tilde_t).subs(list_subs)\n",
    "display(Math('\\\\dot{\\\\hat{\\\\tilde{b}}}_{L} (t) = ' + latex(expr_db_L_tilde_dt_t)))\n",
    "expr_da_R_tilde_dt_t = diff(expr_a_R_tilde_t, t).subs(diff(a_R_t), expr_da_R_dt_t).expand()\n",
    "expr_da_R_tilde_dt_t = expr_da_R_tilde_dt_t.subs(expr_a_R_tilde_t, a_R_tilde_t).subs(list_subs)\n",
    "display(Math('\\\\dot{\\\\hat{\\\\tilde{a}}}_{R} (t) = ' + latex(expr_da_R_tilde_dt_t)))\n",
    "expr_db_R_tilde_dt_t = diff(expr_b_R_tilde_t, t).subs(diff(b_R_t), expr_db_R_dt_t).expand()\n",
    "expr_db_R_tilde_dt_t = expr_db_R_tilde_dt_t.subs(expr_b_R_tilde_t, b_R_tilde_t).subs(list_subs)\n",
    "display(Math('\\\\dot{\\\\hat{\\\\tilde{b}}}_{R} (t) = ' + latex(expr_db_R_tilde_dt_t)))"
   ]
  },
  {
   "cell_type": "code",
   "execution_count": 5,
   "metadata": {},
   "outputs": [
    {
     "output_type": "display_data",
     "data": {
      "text/plain": "<IPython.core.display.Math object>",
      "text/latex": "$\\displaystyle G_{L} = \\alpha_{L} g_{L}, \\quad G_{R} = \\alpha_{R} g_{R}$"
     },
     "metadata": {}
    },
    {
     "output_type": "display_data",
     "data": {
      "text/plain": "<IPython.core.display.Math object>",
      "text/latex": "$\\displaystyle \\delta = - \\omega_{L} + \\omega_{R}$"
     },
     "metadata": {}
    },
    {
     "output_type": "display_data",
     "data": {
      "text/plain": "<IPython.core.display.Math object>",
      "text/latex": "$\\displaystyle \\dot{\\hat{\\tilde{a}}}_{L} (t) = i G_{L} \\hat{\\tilde{b}}_{L}{\\left(t \\right)}^{\\dagger} + \\sqrt{2} \\sqrt{\\kappa_{L}} \\hat{\\tilde{a}}_{L}^{in}{\\left(t \\right)} - \\kappa_{L} \\hat{\\tilde{a}}_{L}{\\left(t \\right)} + i \\lambda e^{i \\delta t} \\hat{\\tilde{a}}_{R}{\\left(t \\right)}$"
     },
     "metadata": {}
    },
    {
     "output_type": "display_data",
     "data": {
      "text/plain": "<IPython.core.display.Math object>",
      "text/latex": "$\\displaystyle \\dot{\\hat{\\tilde{b}}}_{L} (t) = i G_{L} \\hat{\\tilde{a}}_{L}{\\left(t \\right)}^{\\dagger} + \\sqrt{2} \\sqrt{\\gamma_{L}} \\hat{\\tilde{b}}_{L}^{in}{\\left(t \\right)} - \\gamma_{L} \\hat{\\tilde{b}}_{L}{\\left(t \\right)}$"
     },
     "metadata": {}
    },
    {
     "output_type": "display_data",
     "data": {
      "text/plain": "<IPython.core.display.Math object>",
      "text/latex": "$\\displaystyle \\dot{\\hat{\\tilde{a}}}_{R} (t) = i G_{R} \\hat{\\tilde{b}}_{R}{\\left(t \\right)}^{\\dagger} + \\sqrt{2} \\sqrt{\\kappa_{R}} \\hat{\\tilde{a}}_{R}^{in}{\\left(t \\right)} - \\kappa_{R} \\hat{\\tilde{a}}_{R}{\\left(t \\right)} + i \\lambda e^{- i \\delta t} \\hat{\\tilde{a}}_{L}{\\left(t \\right)}$"
     },
     "metadata": {}
    },
    {
     "output_type": "display_data",
     "data": {
      "text/plain": "<IPython.core.display.Math object>",
      "text/latex": "$\\displaystyle \\dot{\\hat{\\tilde{b}}}_{R} (t) = i G_{R} \\hat{\\tilde{a}}_{R}{\\left(t \\right)}^{\\dagger} + \\sqrt{2} \\sqrt{\\gamma_{R}} \\hat{\\tilde{b}}_{R}^{in}{\\left(t \\right)} - \\gamma_{R} \\hat{\\tilde{b}}_{R}{\\left(t \\right)}$"
     },
     "metadata": {}
    }
   ],
   "source": [
    "# effective values\n",
    "expr_delta = omega_R - omega_L\n",
    "expr_G_L = g_L * alpha_L\n",
    "expr_G_R = g_R * alpha_R\n",
    "# substitution list\n",
    "list_subs = [\n",
    "    (omega_R, delta + omega_L),\n",
    "    (expr_G_L, G_L), \n",
    "    (expr_G_R, G_R)\n",
    "]\n",
    "# display\n",
    "display(Math(latex(G_L) + ' = ' + latex(expr_G_L) + ', \\\\quad ' + latex(G_R) + ' = ' + latex(expr_G_R)))\n",
    "display(Math(latex(delta) + ' = ' + latex(expr_delta)))\n",
    "\n",
    "# approximated equations\n",
    "# substitute parameters and ignore fast rotating terms\n",
    "expr_da_L_tilde_dt_approx_t = expr_da_L_tilde_dt_t.subs(list_subs).expand().subs(E**(- 2 * I * omega_L * t), 0)\n",
    "display(Math('\\\\dot{\\\\hat{\\\\tilde{a}}}_{L} (t) = ' + latex(expr_da_L_tilde_dt_approx_t)))\n",
    "expr_db_L_tilde_dt_approx_t = expr_db_L_tilde_dt_t.subs(list_subs).expand().subs(E**(2 * I * omega_L * t), 0)\n",
    "display(Math('\\\\dot{\\\\hat{\\\\tilde{b}}}_{L} (t) = ' + latex(expr_db_L_tilde_dt_approx_t)))\n",
    "expr_da_R_tilde_dt_approx_t = expr_da_R_tilde_dt_t.subs(list_subs).expand().subs(E**(- 2 * I * omega_L * t), 0)\n",
    "display(Math('\\\\dot{\\\\hat{\\\\tilde{a}}}_{R} (t) = ' + latex(expr_da_R_tilde_dt_approx_t)))\n",
    "expr_db_R_tilde_dt_approx_t = expr_db_R_tilde_dt_t.subs(list_subs).expand().subs(E**(2 * I * omega_L * t), 0)\n",
    "display(Math('\\\\dot{\\\\hat{\\\\tilde{b}}}_{R} (t) = ' + latex(expr_db_R_tilde_dt_approx_t)))"
   ]
  },
  {
   "cell_type": "markdown",
   "metadata": {},
   "source": [
    "## Adiabatic Elimination"
   ]
  },
  {
   "cell_type": "code",
   "execution_count": 6,
   "metadata": {},
   "outputs": [
    {
     "output_type": "display_data",
     "data": {
      "text/plain": "<IPython.core.display.Math object>",
      "text/latex": "$\\displaystyle \\hat{\\tilde{a}}_{L} = \\frac{i G_{L} \\kappa_{R} \\hat{\\tilde{b}}_{L}{\\left(t \\right)}^{\\dagger}}{\\kappa_{L} \\kappa_{R} + \\lambda^{2}} - \\frac{G_{R} \\lambda e^{i \\delta t} \\hat{\\tilde{b}}_{R}{\\left(t \\right)}^{\\dagger}}{\\kappa_{L} \\kappa_{R} + \\lambda^{2}} + \\frac{\\sqrt{2} \\sqrt{\\kappa_{L}} \\kappa_{R} \\hat{\\tilde{a}}_{L}^{in}{\\left(t \\right)}}{\\kappa_{L} \\kappa_{R} + \\lambda^{2}} + \\frac{\\sqrt{2} i \\sqrt{\\kappa_{R}} \\lambda e^{i \\delta t} \\hat{\\tilde{a}}_{R}^{in}{\\left(t \\right)}}{\\kappa_{L} \\kappa_{R} + \\lambda^{2}}$"
     },
     "metadata": {}
    },
    {
     "output_type": "display_data",
     "data": {
      "text/plain": "<IPython.core.display.Math object>",
      "text/latex": "$\\displaystyle \\hat{\\tilde{a}}_{R} = - \\frac{G_{L} \\lambda \\hat{\\tilde{b}}_{L}{\\left(t \\right)}^{\\dagger}}{\\kappa_{L} \\kappa_{R} e^{i \\delta t} + \\lambda^{2} e^{i \\delta t}} + \\frac{i G_{R} \\kappa_{L} \\hat{\\tilde{b}}_{R}{\\left(t \\right)}^{\\dagger}}{\\kappa_{L} \\kappa_{R} + \\lambda^{2}} + \\frac{\\sqrt{2} i \\sqrt{\\kappa_{L}} \\lambda \\hat{\\tilde{a}}_{L}^{in}{\\left(t \\right)}}{\\kappa_{L} \\kappa_{R} e^{i \\delta t} + \\lambda^{2} e^{i \\delta t}} + \\frac{\\sqrt{2} \\kappa_{L} \\sqrt{\\kappa_{R}} \\hat{\\tilde{a}}_{R}^{in}{\\left(t \\right)}}{\\kappa_{L} \\kappa_{R} + \\lambda^{2}}$"
     },
     "metadata": {}
    },
    {
     "output_type": "display_data",
     "data": {
      "text/plain": "<IPython.core.display.Math object>",
      "text/latex": "$\\displaystyle \\dot{\\hat{\\tilde{b}}}_{L} (t) = \\frac{\\sqrt{2} i G_{L} \\sqrt{\\kappa_{L}} \\kappa_{R} \\hat{\\tilde{a}}_{L}^{in}{\\left(t \\right)}^{\\dagger}}{\\kappa_{L} \\kappa_{R} + \\lambda^{2}} + \\frac{\\sqrt{2} G_{L} \\sqrt{\\kappa_{R}} \\lambda \\hat{\\tilde{a}}_{R}^{in}{\\left(t \\right)}^{\\dagger}}{\\kappa_{L} \\kappa_{R} e^{i \\delta t} + \\lambda^{2} e^{i \\delta t}} + \\frac{G_{L} \\kappa_{R} \\overline{G_{L}} \\hat{\\tilde{b}}_{L}{\\left(t \\right)}}{\\kappa_{L} \\kappa_{R} + \\lambda^{2}} - \\frac{i G_{L} \\lambda \\overline{G_{R}} \\hat{\\tilde{b}}_{R}{\\left(t \\right)}}{\\kappa_{L} \\kappa_{R} e^{i \\delta t} + \\lambda^{2} e^{i \\delta t}} + \\sqrt{2} \\sqrt{\\gamma_{L}} \\hat{\\tilde{b}}_{L}^{in}{\\left(t \\right)} - \\gamma_{L} \\hat{\\tilde{b}}_{L}{\\left(t \\right)}$"
     },
     "metadata": {}
    },
    {
     "output_type": "display_data",
     "data": {
      "text/plain": "<IPython.core.display.Math object>",
      "text/latex": "$\\displaystyle \\dot{\\hat{\\tilde{b}}}_{R} (t) = \\frac{\\sqrt{2} G_{R} \\sqrt{\\kappa_{L}} \\lambda \\hat{\\tilde{a}}_{L}^{in}{\\left(t \\right)}^{\\dagger}}{\\kappa_{L} \\kappa_{R} e^{- i \\delta t} + \\lambda^{2} e^{- i \\delta t}} + \\frac{\\sqrt{2} i G_{R} \\kappa_{L} \\sqrt{\\kappa_{R}} \\hat{\\tilde{a}}_{R}^{in}{\\left(t \\right)}^{\\dagger}}{\\kappa_{L} \\kappa_{R} + \\lambda^{2}} + \\frac{G_{R} \\kappa_{L} \\overline{G_{R}} \\hat{\\tilde{b}}_{R}{\\left(t \\right)}}{\\kappa_{L} \\kappa_{R} + \\lambda^{2}} - \\frac{i G_{R} \\lambda \\overline{G_{L}} \\hat{\\tilde{b}}_{L}{\\left(t \\right)}}{\\kappa_{L} \\kappa_{R} e^{- i \\delta t} + \\lambda^{2} e^{- i \\delta t}} + \\sqrt{2} \\sqrt{\\gamma_{R}} \\hat{\\tilde{b}}_{R}^{in}{\\left(t \\right)} - \\gamma_{R} \\hat{\\tilde{b}}_{R}{\\left(t \\right)}$"
     },
     "metadata": {}
    }
   ],
   "source": [
    "# obtain solutions for optical modes\n",
    "sols = solve([expr_da_R_tilde_dt_approx_t, expr_da_L_tilde_dt_approx_t], [a_R_tilde_t, a_L_tilde_t])\n",
    "expr_a_L_tilde_adia_t = sols[0][1].expand()\n",
    "display(Math('\\\\hat{\\\\tilde{a}}_{L} = ' + latex(expr_a_L_tilde_adia_t)))\n",
    "expr_a_R_tilde_adia_t = sols[0][0].expand()\n",
    "display(Math('\\\\hat{\\\\tilde{a}}_{R} = ' + latex(expr_a_R_tilde_adia_t)))\n",
    "\n",
    "# substitution list\n",
    "list_subs = [\n",
    "    (a_L_tilde_t, expr_a_L_tilde_adia_t), \n",
    "    (a_R_tilde_t, expr_a_R_tilde_adia_t)\n",
    "]\n",
    "# mechanical mode equations\n",
    "expr_db_L_tilde_dt_adia_t = expr_db_L_tilde_dt_approx_t.subs(list_subs).expand()\n",
    "display(Math('\\\\dot{\\\\hat{\\\\tilde{b}}}_{L} (t) = ' + latex(expr_db_L_tilde_dt_adia_t)))\n",
    "expr_db_R_tilde_dt_adia_t = expr_db_R_tilde_dt_approx_t.subs(list_subs).expand()\n",
    "display(Math('\\\\dot{\\\\hat{\\\\tilde{b}}}_{R} (t) = ' + latex(expr_db_R_tilde_dt_adia_t)))"
   ]
  },
  {
   "cell_type": "code",
   "execution_count": 7,
   "metadata": {},
   "outputs": [
    {
     "output_type": "display_data",
     "data": {
      "text/plain": "<IPython.core.display.Math object>",
      "text/latex": "$\\displaystyle \\chi = \\frac{G_{R} \\lambda \\overline{G_{L}}}{\\kappa_{L} \\kappa_{R} + \\lambda^{2}}$"
     },
     "metadata": {}
    },
    {
     "output_type": "display_data",
     "data": {
      "text/plain": "<IPython.core.display.Math object>",
      "text/latex": "$\\displaystyle \\Gamma_{L} = \\frac{G_{L} \\kappa_{R} \\overline{G_{L}}}{\\kappa_{L} \\kappa_{R} + \\lambda^{2}}, \\quad \\Gamma_{R} = \\frac{G_{R} \\kappa_{L} \\overline{G_{R}}}{\\kappa_{L} \\kappa_{R} + \\lambda^{2}}$"
     },
     "metadata": {}
    },
    {
     "output_type": "display_data",
     "data": {
      "text/plain": "<IPython.core.display.Math object>",
      "text/latex": "$\\displaystyle \\eta_{L} = \\frac{\\sqrt{2} G_{L} \\sqrt{\\kappa_{L}} \\kappa_{R}}{\\kappa_{L} \\kappa_{R} + \\lambda^{2}}, \\quad \\eta_{R} = \\frac{\\sqrt{2} G_{R} \\kappa_{L} \\sqrt{\\kappa_{R}}}{\\kappa_{L} \\kappa_{R} + \\lambda^{2}}$"
     },
     "metadata": {}
    },
    {
     "output_type": "display_data",
     "data": {
      "text/plain": "<IPython.core.display.Math object>",
      "text/latex": "$\\displaystyle \\dot{\\hat{\\tilde{b}}}_{1} (t) = \\Gamma_{L} \\hat{\\tilde{b}}_{L}{\\left(t \\right)} + \\eta_{L} \\left(i \\hat{\\tilde{a}}_{L}^{in}{\\left(t \\right)}^{\\dagger} + \\frac{\\lambda e^{- i \\delta t} \\hat{\\tilde{a}}_{R}^{in}{\\left(t \\right)}^{\\dagger}}{\\sqrt{\\kappa_{L}} \\sqrt{\\kappa_{R}}}\\right) + \\sqrt{2} \\sqrt{\\gamma_{L}} \\hat{\\tilde{b}}_{L}^{in}{\\left(t \\right)} - \\gamma_{L} \\hat{\\tilde{b}}_{L}{\\left(t \\right)} - i e^{- i \\delta t} \\overline{\\chi} \\hat{\\tilde{b}}_{R}{\\left(t \\right)}$"
     },
     "metadata": {}
    },
    {
     "output_type": "display_data",
     "data": {
      "text/plain": "<IPython.core.display.Math object>",
      "text/latex": "$\\displaystyle \\dot{\\hat{\\tilde{b}}}_{R} (t) = \\Gamma_{R} \\hat{\\tilde{b}}_{R}{\\left(t \\right)} - i \\chi e^{i \\delta t} \\hat{\\tilde{b}}_{L}{\\left(t \\right)} + \\eta_{R} \\left(i \\hat{\\tilde{a}}_{R}^{in}{\\left(t \\right)}^{\\dagger} + \\frac{\\lambda e^{i \\delta t} \\hat{\\tilde{a}}_{L}^{in}{\\left(t \\right)}^{\\dagger}}{\\sqrt{\\kappa_{L}} \\sqrt{\\kappa_{R}}}\\right) + \\sqrt{2} \\sqrt{\\gamma_{R}} \\hat{\\tilde{b}}_{R}^{in}{\\left(t \\right)} - \\gamma_{R} \\hat{\\tilde{b}}_{R}{\\left(t \\right)}$"
     },
     "metadata": {}
    }
   ],
   "source": [
    "# substituted values\n",
    "expr_chi = lamb * conjugate(G_L) * G_R / (kappa_L * kappa_R + lamb**2)\n",
    "expr_eta_L = sqrt(2) * G_L * sqrt(kappa_L) * kappa_R / (kappa_L * kappa_R + lamb**2)\n",
    "expr_eta_R = sqrt(2) * G_R * kappa_L * sqrt(kappa_R) / (kappa_L * kappa_R + lamb**2)\n",
    "expr_Gamma_L = G_L * kappa_R * conjugate(G_L) / (kappa_L * kappa_R + lamb**2)\n",
    "expr_Gamma_R = G_R * kappa_L * conjugate(G_R) / (kappa_L * kappa_R + lamb**2)\n",
    "# substitution list\n",
    "list_subs = [\n",
    "    (expr_chi, chi),\n",
    "    (conjugate(expr_chi), conjugate(chi)),\n",
    "    (expr_Gamma_L, Gamma_L),\n",
    "    (expr_Gamma_R, Gamma_R),\n",
    "    (expr_eta_L / sqrt(kappa_L) / kappa_R, eta_L / sqrt(kappa_L) / kappa_R),\n",
    "    (expr_eta_R / kappa_L / sqrt(kappa_R), eta_R / kappa_L / sqrt(kappa_R))\n",
    "]\n",
    "# display\n",
    "display(Math(latex(chi) + ' = ' + latex(expr_chi)))\n",
    "display(Math(latex(Gamma_L) + ' = ' + latex(expr_Gamma_L) + ', \\\\quad ' + latex(Gamma_R) + ' = ' + latex(expr_Gamma_R)))\n",
    "display(Math(latex(eta_L) + ' = ' + latex(expr_eta_L) + ', \\\\quad ' + latex(eta_R) + ' = ' + latex(expr_eta_R)))\n",
    "\n",
    "# substituted equations\n",
    "expr_db_L_tilde_dt_subs_t = expr_db_L_tilde_dt_adia_t.collect(E**(I * delta * t)).subs(list_subs).expand()\n",
    "display(Math('\\\\dot{\\\\hat{\\\\tilde{b}}}_{1} (t) = ' + latex(expr_db_L_tilde_dt_subs_t.collect(eta_L))))\n",
    "expr_db_R_tilde_dt_subs_t = expr_db_R_tilde_dt_adia_t.collect(E**(- I * delta * t)).subs(list_subs).expand()\n",
    "display(Math('\\\\dot{\\\\hat{\\\\tilde{b}}}_{R} (t) = ' + latex(expr_db_R_tilde_dt_subs_t.collect(eta_R))))"
   ]
  },
  {
   "source": [
    "## Identical Cavities"
   ],
   "cell_type": "markdown",
   "metadata": {}
  },
  {
   "cell_type": "code",
   "execution_count": 8,
   "metadata": {},
   "outputs": [
    {
     "output_type": "display_data",
     "data": {
      "text/plain": "<IPython.core.display.Math object>",
      "text/latex": "$\\displaystyle \\gamma_{L} = \\gamma_{R} = \\gamma, \\quad \\kappa_{L} = \\kappa_{R} = \\kappa$"
     },
     "metadata": {}
    },
    {
     "output_type": "display_data",
     "data": {
      "text/plain": "<IPython.core.display.Math object>",
      "text/latex": "$\\displaystyle \\dot{\\hat{\\tilde{b}}}_{L} (t) = \\Gamma_{L} \\hat{\\tilde{b}}_{L}{\\left(t \\right)} + \\eta_{L} \\left(i \\hat{\\tilde{a}}_{L}^{in}{\\left(t \\right)}^{\\dagger} + \\frac{\\lambda e^{- i \\delta t} \\hat{\\tilde{a}}_{R}^{in}{\\left(t \\right)}^{\\dagger}}{\\kappa}\\right) + \\sqrt{2} \\sqrt{\\gamma} \\hat{\\tilde{b}}_{L}^{in}{\\left(t \\right)} - \\gamma \\hat{\\tilde{b}}_{L}{\\left(t \\right)} - i e^{- i \\delta t} \\overline{\\chi} \\hat{\\tilde{b}}_{R}{\\left(t \\right)}$"
     },
     "metadata": {}
    },
    {
     "output_type": "display_data",
     "data": {
      "text/plain": "<IPython.core.display.Math object>",
      "text/latex": "$\\displaystyle \\dot{\\hat{\\tilde{b}}}_{R} (t) = \\Gamma_{R} \\hat{\\tilde{b}}_{R}{\\left(t \\right)} - i \\chi e^{i \\delta t} \\hat{\\tilde{b}}_{L}{\\left(t \\right)} + \\eta_{R} \\left(i \\hat{\\tilde{a}}_{R}^{in}{\\left(t \\right)}^{\\dagger} + \\frac{\\lambda e^{i \\delta t} \\hat{\\tilde{a}}_{L}^{in}{\\left(t \\right)}^{\\dagger}}{\\kappa}\\right) + \\sqrt{2} \\sqrt{\\gamma} \\hat{\\tilde{b}}_{R}^{in}{\\left(t \\right)} - \\gamma \\hat{\\tilde{b}}_{R}{\\left(t \\right)}$"
     },
     "metadata": {}
    }
   ],
   "source": [
    "# substitution list\n",
    "list_subs = [\n",
    "    (gamma_L, gamma),\n",
    "    (gamma_R, gamma),\n",
    "    (kappa_L, kappa),\n",
    "    (kappa_R, kappa)\n",
    "]\n",
    "# display\n",
    "display(Math(latex(gamma_L) + ' = ' + latex(gamma_R) + ' = ' + latex(gamma) + ', \\\\quad ' + latex(kappa_L) + ' = ' + latex(kappa_R) + ' = ' + latex(kappa)))\n",
    "\n",
    "# substituted equations\n",
    "expr_db_L_tilde_dt_identical_t = expr_db_L_tilde_dt_subs_t.subs(list_subs)\n",
    "display(Math('\\\\dot{\\\\hat{\\\\tilde{b}}}_{L} (t) = ' + latex(expr_db_L_tilde_dt_identical_t.collect(eta_L))))\n",
    "expr_db_R_tilde_dt_identical_t = expr_db_R_tilde_dt_subs_t.subs(list_subs)\n",
    "display(Math('\\\\dot{\\\\hat{\\\\tilde{b}}}_{R} (t) = ' + latex(expr_db_R_tilde_dt_identical_t.collect(eta_R))))"
   ]
  },
  {
   "source": [
    "## Phonon Correlations"
   ],
   "cell_type": "markdown",
   "metadata": {}
  },
  {
   "cell_type": "code",
   "execution_count": 9,
   "metadata": {},
   "outputs": [
    {
     "output_type": "display_data",
     "data": {
      "text/plain": "<IPython.core.display.Math object>",
      "text/latex": "$\\displaystyle \\frac{d \\langle \\hat{\\tilde{b}}_{L}^{\\dagger} \\hat{\\tilde{b}}_{L} \\rangle}{d t} (t) = i \\chi \\langle \\hat{\\tilde{b}}_{R}^{\\dagger} \\hat{\\tilde{b}}_{L} \\rangle{\\left(t \\right)} e^{i \\delta t} + \\left(2 \\Gamma_{L} - 2 \\gamma\\right) \\langle \\hat{\\tilde{b}}_{L}^{\\dagger} \\hat{\\tilde{b}}_{L} \\rangle{\\left(t \\right)} - i \\langle \\hat{\\tilde{b}}_{L}^{\\dagger} \\hat{\\tilde{b}}_{R} \\rangle{\\left(t \\right)} e^{- i \\delta t} \\overline{\\chi}$"
     },
     "metadata": {}
    },
    {
     "output_type": "display_data",
     "data": {
      "text/plain": "<IPython.core.display.Math object>",
      "text/latex": "$\\displaystyle \\frac{d \\langle \\hat{\\tilde{b}}_{L}^{\\dagger} \\hat{\\tilde{b}}_{R} \\rangle}{d t} (t) = - i \\chi \\langle \\hat{\\tilde{b}}_{L}^{\\dagger} \\hat{\\tilde{b}}_{L} \\rangle{\\left(t \\right)} e^{i \\delta t} + i \\chi \\langle \\hat{\\tilde{b}}_{R}^{\\dagger} \\hat{\\tilde{b}}_{R} \\rangle{\\left(t \\right)} e^{i \\delta t} + \\left(\\Gamma_{L} + \\Gamma_{R} - 2 \\gamma\\right) \\langle \\hat{\\tilde{b}}_{L}^{\\dagger} \\hat{\\tilde{b}}_{R} \\rangle{\\left(t \\right)}$"
     },
     "metadata": {}
    },
    {
     "output_type": "display_data",
     "data": {
      "text/plain": "<IPython.core.display.Math object>",
      "text/latex": "$\\displaystyle \\frac{d \\langle \\hat{\\tilde{b}}_{R}^{\\dagger} \\hat{\\tilde{b}}_{L} \\rangle}{d t} (t) = \\left(\\Gamma_{L} + \\Gamma_{R} - 2 \\gamma\\right) \\langle \\hat{\\tilde{b}}_{R}^{\\dagger} \\hat{\\tilde{b}}_{L} \\rangle{\\left(t \\right)} + i \\langle \\hat{\\tilde{b}}_{L}^{\\dagger} \\hat{\\tilde{b}}_{L} \\rangle{\\left(t \\right)} e^{- i \\delta t} \\overline{\\chi} - i \\langle \\hat{\\tilde{b}}_{R}^{\\dagger} \\hat{\\tilde{b}}_{R} \\rangle{\\left(t \\right)} e^{- i \\delta t} \\overline{\\chi}$"
     },
     "metadata": {}
    },
    {
     "output_type": "display_data",
     "data": {
      "text/plain": "<IPython.core.display.Math object>",
      "text/latex": "$\\displaystyle \\frac{d \\langle \\hat{\\tilde{b}}_{R}^{\\dagger} \\hat{\\tilde{b}}_{R} \\rangle}{d t} (t) = - i \\chi \\langle \\hat{\\tilde{b}}_{R}^{\\dagger} \\hat{\\tilde{b}}_{L} \\rangle{\\left(t \\right)} e^{i \\delta t} + \\left(2 \\Gamma_{R} - 2 \\gamma\\right) \\langle \\hat{\\tilde{b}}_{R}^{\\dagger} \\hat{\\tilde{b}}_{R} \\rangle{\\left(t \\right)} + i \\langle \\hat{\\tilde{b}}_{L}^{\\dagger} \\hat{\\tilde{b}}_{R} \\rangle{\\left(t \\right)} e^{- i \\delta t} \\overline{\\chi}$"
     },
     "metadata": {}
    }
   ],
   "source": [
    "# substitution list\n",
    "list_subs = [\n",
    "    (a_L_in_tilde_t, 0),\n",
    "    (b_L_in_tilde_t, 0),\n",
    "    (a_R_in_tilde_t, 0),\n",
    "    (b_R_in_tilde_t, 0),\n",
    "    (Dagger(b_L_tilde_t) * b_L_tilde_t, b_L_tilde_dagger_b_L_tilde_expect_t),\n",
    "    (Dagger(b_L_tilde_t) * b_R_tilde_t, b_L_tilde_dagger_b_R_tilde_expect_t),\n",
    "    (Dagger(b_R_tilde_t) * b_L_tilde_t, b_R_tilde_dagger_b_L_tilde_expect_t),\n",
    "    (Dagger(b_R_tilde_t) * b_R_tilde_t, b_R_tilde_dagger_b_R_tilde_expect_t)\n",
    "]\n",
    "\n",
    "# intermode correlations\n",
    "expr_db_L_tilde_dagger_b_L_tilde_expect_dt_t = (Dagger(expr_db_L_tilde_dt_identical_t).doit() * b_L_tilde_t + Dagger(b_L_tilde_t) * expr_db_L_tilde_dt_identical_t).expand().subs(list_subs)\n",
    "display(Math('\\\\frac{d \\\\langle \\\\hat{\\\\tilde{b}}_{L}^{\\\\dagger} \\\\hat{\\\\tilde{b}}_{L} \\\\rangle}{d t} (t) = ' + latex(expr_db_L_tilde_dagger_b_L_tilde_expect_dt_t.collect(b_L_tilde_dagger_b_L_tilde_expect_t))))\n",
    "expr_db_L_tilde_dagger_b_R_tilde_expect_dt_t = (Dagger(expr_db_L_tilde_dt_identical_t).doit() * b_R_tilde_t + Dagger(b_L_tilde_t) * expr_db_R_tilde_dt_identical_t).expand().subs(list_subs)\n",
    "display(Math('\\\\frac{d \\\\langle \\\\hat{\\\\tilde{b}}_{L}^{\\\\dagger} \\\\hat{\\\\tilde{b}}_{R} \\\\rangle}{d t} (t) = ' + latex(expr_db_L_tilde_dagger_b_R_tilde_expect_dt_t.collect(b_L_tilde_dagger_b_R_tilde_expect_t))))\n",
    "expr_db_R_tilde_dagger_b_L_tilde_expect_dt_t = (Dagger(expr_db_R_tilde_dt_identical_t).doit() * b_L_tilde_t + Dagger(b_R_tilde_t) * expr_db_L_tilde_dt_identical_t).expand().subs(list_subs)\n",
    "display(Math('\\\\frac{d \\\\langle \\\\hat{\\\\tilde{b}}_{R}^{\\\\dagger} \\\\hat{\\\\tilde{b}}_{L} \\\\rangle}{d t} (t) = ' + latex(expr_db_R_tilde_dagger_b_L_tilde_expect_dt_t.collect(b_R_tilde_dagger_b_L_tilde_expect_t))))\n",
    "expr_db_R_tilde_dagger_b_R_tilde_expect_dt_t = (Dagger(expr_db_R_tilde_dt_identical_t).doit() * b_R_tilde_t + Dagger(b_R_tilde_t) * expr_db_R_tilde_dt_identical_t).expand().subs(list_subs)\n",
    "display(Math('\\\\frac{d \\\\langle \\\\hat{\\\\tilde{b}}_{R}^{\\\\dagger} \\\\hat{\\\\tilde{b}}_{R} \\\\rangle}{d t} (t) = ' + latex(expr_db_R_tilde_dagger_b_R_tilde_expect_dt_t.collect(b_R_tilde_dagger_b_R_tilde_expect_t))))"
   ]
  },
  {
   "cell_type": "code",
   "execution_count": 10,
   "metadata": {},
   "outputs": [
    {
     "output_type": "display_data",
     "data": {
      "text/plain": "<IPython.core.display.Math object>",
      "text/latex": "$\\displaystyle \\frac{d(\\langle \\hat{\\tilde{b}}_{R}^{\\dagger} \\hat{\\tilde{b}}_{R} \\rangle + \\langle \\hat{\\tilde{b}}_{L}^{\\dagger} \\hat{\\tilde{b}}_{L} \\rangle)}{d t} = \\langle \\hat{\\tilde{b}}_{L}^{\\dagger} \\hat{\\tilde{b}}_{L} \\rangle \\left(2 \\Gamma_{L} - 2 \\gamma\\right) + \\langle \\hat{\\tilde{b}}_{R}^{\\dagger} \\hat{\\tilde{b}}_{R} \\rangle \\left(2 \\Gamma_{R} - 2 \\gamma\\right)$"
     },
     "metadata": {}
    },
    {
     "output_type": "display_data",
     "data": {
      "text/plain": "<IPython.core.display.Math object>",
      "text/latex": "$\\displaystyle \\frac{d(\\langle \\hat{\\tilde{b}}_{R}^{\\dagger} \\hat{\\tilde{b}}_{R} \\rangle - \\langle \\hat{\\tilde{b}}_{L}^{\\dagger} \\hat{\\tilde{b}}_{L} \\rangle)}{d t} = \\frac{2 i G_{L} \\lambda \\langle \\hat{\\tilde{b}}_{L}^{\\dagger} \\hat{\\tilde{b}}_{R} \\rangle \\overline{G_{R}}}{\\kappa^{2} e^{i \\delta t} + \\lambda^{2} e^{i \\delta t}} - \\frac{2 i G_{R} \\lambda \\langle \\hat{\\tilde{b}}_{R}^{\\dagger} \\hat{\\tilde{b}}_{L} \\rangle e^{i \\delta t} \\overline{G_{L}}}{\\kappa^{2} + \\lambda^{2}} + \\langle \\hat{\\tilde{b}}_{L}^{\\dagger} \\hat{\\tilde{b}}_{L} \\rangle \\left(- 2 \\Gamma_{L} + 2 \\gamma\\right) + \\langle \\hat{\\tilde{b}}_{R}^{\\dagger} \\hat{\\tilde{b}}_{R} \\rangle \\left(2 \\Gamma_{R} - 2 \\gamma\\right)$"
     },
     "metadata": {}
    },
    {
     "output_type": "display_data",
     "data": {
      "text/plain": "<IPython.core.display.Math object>",
      "text/latex": "$\\displaystyle \\frac{d\\langle \\hat{\\tilde{b}}_{L}^{\\dagger} \\hat{\\tilde{b}}_{R} \\rangle}{d t} = 0 \\Rightarrow \\langle \\hat{\\tilde{b}}_{L}^{\\dagger} \\hat{\\tilde{b}}_{R} \\rangle = \\frac{i G_{R} \\lambda \\left(\\langle \\hat{\\tilde{b}}_{L}^{\\dagger} \\hat{\\tilde{b}}_{L} \\rangle - \\langle \\hat{\\tilde{b}}_{R}^{\\dagger} \\hat{\\tilde{b}}_{R} \\rangle\\right) e^{i \\delta t} \\overline{G_{L}}}{\\left(\\kappa^{2} + \\lambda^{2}\\right) \\left(\\Gamma_{L} + \\Gamma_{R} - 2 \\gamma\\right)}$"
     },
     "metadata": {}
    },
    {
     "output_type": "display_data",
     "data": {
      "text/plain": "<IPython.core.display.Math object>",
      "text/latex": "$\\displaystyle \\frac{d\\langle \\hat{\\tilde{b}}_{R}^{\\dagger} \\hat{\\tilde{b}}_{L} \\rangle}{d t} = 0 \\Rightarrow \\langle \\hat{\\tilde{b}}_{R}^{\\dagger} \\hat{\\tilde{b}}_{L} \\rangle = - \\frac{i G_{L} \\lambda \\left(\\langle \\hat{\\tilde{b}}_{L}^{\\dagger} \\hat{\\tilde{b}}_{L} \\rangle - \\langle \\hat{\\tilde{b}}_{R}^{\\dagger} \\hat{\\tilde{b}}_{R} \\rangle\\right) e^{- i \\delta t} \\overline{G_{R}}}{\\left(\\kappa^{2} + \\lambda^{2}\\right) \\left(\\Gamma_{L} + \\Gamma_{R} - 2 \\gamma\\right)}$"
     },
     "metadata": {}
    },
    {
     "output_type": "display_data",
     "data": {
      "text/plain": "<IPython.core.display.Math object>",
      "text/latex": "$\\displaystyle \\frac{d\\langle \\hat{\\tilde{b}}_{L}^{\\dagger} \\hat{\\tilde{b}}_{L} \\rangle}{d t} = 0 ~ \\mathrm{and} ~ \\frac{d\\langle \\hat{\\tilde{b}}_{R}^{\\dagger} \\hat{\\tilde{b}}_{R} \\rangle}{d t} = 0 \\Rightarrow \\langle \\hat{\\tilde{b}}_{R}^{\\dagger} \\hat{\\tilde{b}}_{R} \\rangle - \\langle \\hat{\\tilde{b}}_{L}^{\\dagger} \\hat{\\tilde{b}}_{L} \\rangle = - \\frac{i \\lambda \\left(G_{L} \\langle \\hat{\\tilde{b}}_{L}^{\\dagger} \\hat{\\tilde{b}}_{R} \\rangle \\overline{G_{R}} - G_{R} \\langle \\hat{\\tilde{b}}_{R}^{\\dagger} \\hat{\\tilde{b}}_{L} \\rangle e^{2 i \\delta t} \\overline{G_{L}}\\right) \\left(\\Gamma_{L} + \\Gamma_{R} - 2 \\gamma\\right) e^{- i \\delta t}}{2 \\left(\\Gamma_{L} - \\gamma\\right) \\left(\\Gamma_{R} - \\gamma\\right) \\left(\\kappa^{2} + \\lambda^{2}\\right)}$"
     },
     "metadata": {}
    },
    {
     "output_type": "display_data",
     "data": {
      "text/plain": "<IPython.core.display.Math object>",
      "text/latex": "$\\displaystyle \\Rightarrow \\langle \\hat{\\tilde{b}}_{R}^{\\dagger} \\hat{\\tilde{b}}_{R} \\rangle - \\langle \\hat{\\tilde{b}}_{L}^{\\dagger} \\hat{\\tilde{b}}_{L} \\rangle = \\frac{\\Gamma_{L} \\Gamma_{R} \\lambda^{2} \\left(\\langle \\hat{\\tilde{b}}_{L}^{\\dagger} \\hat{\\tilde{b}}_{L} \\rangle - \\langle \\hat{\\tilde{b}}_{R}^{\\dagger} \\hat{\\tilde{b}}_{R} \\rangle\\right)}{\\left(\\Gamma_{L} - \\gamma\\right) \\left(\\Gamma_{R} - \\gamma\\right)}$"
     },
     "metadata": {}
    }
   ],
   "source": [
    "# substitution list\n",
    "list_subs = [\n",
    "    (chi, expr_chi),\n",
    "    (gamma_L, gamma),\n",
    "    (gamma_R, gamma),\n",
    "    (kappa_L, kappa),\n",
    "    (kappa_R, kappa),\n",
    "    (b_L_tilde_dagger_b_L_tilde_expect_t, b_L_tilde_dagger_b_L_tilde_expect),\n",
    "    (b_L_tilde_dagger_b_R_tilde_expect_t, b_L_tilde_dagger_b_R_tilde_expect),\n",
    "    (b_R_tilde_dagger_b_L_tilde_expect_t, b_R_tilde_dagger_b_L_tilde_expect),\n",
    "    (b_R_tilde_dagger_b_R_tilde_expect_t, b_R_tilde_dagger_b_R_tilde_expect)\n",
    "]\n",
    "list_coll = [\n",
    "    b_R_tilde_dagger_b_R_tilde_expect,\n",
    "    - b_L_tilde_dagger_b_L_tilde_expect,\n",
    "    2 * I * chi_R,\n",
    "    2 * chi_I\n",
    "]\n",
    "display(Math('\\\\frac{d(' + latex(b_R_tilde_dagger_b_R_tilde_expect) + ' + ' + latex(b_L_tilde_dagger_b_L_tilde_expect) + ')}{d t} = ' + latex((expr_db_R_tilde_dagger_b_R_tilde_expect_dt_t + expr_db_L_tilde_dagger_b_L_tilde_expect_dt_t).subs(list_subs).expand().collect(list_coll))))\n",
    "display(Math('\\\\frac{d(' + latex(b_R_tilde_dagger_b_R_tilde_expect) + ' - ' + latex(b_L_tilde_dagger_b_L_tilde_expect) + ')}{d t} = ' + latex((expr_db_R_tilde_dagger_b_R_tilde_expect_dt_t - expr_db_L_tilde_dagger_b_L_tilde_expect_dt_t).subs(list_subs).expand().collect(list_coll))))\n",
    "\n",
    "# obtain solutions for phonon correlation\n",
    "sols = solve([\n",
    "    expr_db_L_tilde_dagger_b_R_tilde_expect_dt_t.subs(list_subs),\n",
    "    expr_db_R_tilde_dagger_b_L_tilde_expect_dt_t.subs(list_subs)\n",
    "], [\n",
    "    b_L_tilde_dagger_b_R_tilde_expect,\n",
    "    b_R_tilde_dagger_b_L_tilde_expect\n",
    "])\n",
    "expr_b_L_tilde_dagger_b_R_tilde_expect = sols[b_L_tilde_dagger_b_R_tilde_expect].expand().factor().subs(- Gamma_L - Gamma_R + 2 * gamma + I * delta, I * (delta + I * (Gamma_L + Gamma_R - 2 * gamma)))\n",
    "display(Math('\\\\frac{d' + latex(b_L_tilde_dagger_b_R_tilde_expect) + '}{d t} = 0 \\\\Rightarrow ' + latex(b_L_tilde_dagger_b_R_tilde_expect) + ' = ' + latex(expr_b_L_tilde_dagger_b_R_tilde_expect)))\n",
    "expr_b_R_tilde_dagger_b_L_tilde_expect = sols[b_R_tilde_dagger_b_L_tilde_expect].expand().factor().subs(Gamma_L + Gamma_R - 2 * gamma + I * delta, I * (delta - I * (Gamma_L + Gamma_R - 2 * gamma)))\n",
    "display(Math('\\\\frac{d' + latex(b_R_tilde_dagger_b_L_tilde_expect) + '}{d t} = 0 \\\\Rightarrow ' + latex(b_R_tilde_dagger_b_L_tilde_expect) + ' = ' + latex(expr_b_R_tilde_dagger_b_L_tilde_expect)))\n",
    "\n",
    "# obtain solutions for phonon correlation\n",
    "sols = solve([\n",
    "    expr_db_L_tilde_dagger_b_L_tilde_expect_dt_t.subs(list_subs),\n",
    "    expr_db_R_tilde_dagger_b_R_tilde_expect_dt_t.subs(list_subs)\n",
    "], [\n",
    "    b_L_tilde_dagger_b_L_tilde_expect,\n",
    "    b_R_tilde_dagger_b_R_tilde_expect\n",
    "])\n",
    "expr_n_b_diff = (sols[b_R_tilde_dagger_b_R_tilde_expect] - sols[b_L_tilde_dagger_b_L_tilde_expect]).expand().factor()\n",
    "display(Math('\\\\frac{d' + latex(b_L_tilde_dagger_b_L_tilde_expect) + '}{d t} = 0 ~ \\\\mathrm{and} ~ \\\\frac{d' + latex(b_R_tilde_dagger_b_R_tilde_expect) + '}{d t} = 0 \\\\Rightarrow ' + latex(b_R_tilde_dagger_b_R_tilde_expect) + ' - ' + latex(b_L_tilde_dagger_b_L_tilde_expect) + ' = ' + latex(expr_n_b_diff)))\n",
    "expr_n_b_diff_subs = expr_n_b_diff.subs([\n",
    "    (b_L_tilde_dagger_b_R_tilde_expect, expr_b_L_tilde_dagger_b_R_tilde_expect),\n",
    "    (b_R_tilde_dagger_b_L_tilde_expect, expr_b_R_tilde_dagger_b_L_tilde_expect),\n",
    "    (conjugate(G_L) * G_L, Gamma_L * (kappa**2 + lamb**2)),\n",
    "    (conjugate(G_R) * G_R, Gamma_R * (kappa**2 + lamb**2))\n",
    "]).expand().factor()\n",
    "display(Math('\\\\Rightarrow ' + latex(b_R_tilde_dagger_b_R_tilde_expect) + ' - ' + latex(b_L_tilde_dagger_b_L_tilde_expect) + ' = ' + latex(expr_n_b_diff_subs)))"
   ]
  }
 ],
 "metadata": {
  "kernelspec": {
   "name": "python3",
   "display_name": "Python 3.8.5 64-bit ('base': conda)"
  },
  "language_info": {
   "codemirror_mode": {
    "name": "ipython",
    "version": 3
   },
   "file_extension": ".py",
   "mimetype": "text/x-python",
   "name": "python",
   "nbconvert_exporter": "python",
   "pygments_lexer": "ipython3",
   "version": "3.8.5"
  },
  "interpreter": {
   "hash": "b3ba2566441a7c06988d0923437866b63cedc61552a5af99d1f4fb67d367b25f"
  }
 },
 "nbformat": 4,
 "nbformat_minor": 2
}