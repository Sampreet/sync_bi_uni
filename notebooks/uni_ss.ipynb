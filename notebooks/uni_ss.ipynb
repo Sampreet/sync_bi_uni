{
 "cells": [
  {
   "cell_type": "markdown",
   "metadata": {},
   "source": [
    "# Adiabatic Elimination for Bidirectional Configuration\n",
    "\n",
    "## Prerequisites"
   ]
  },
  {
   "cell_type": "code",
   "execution_count": 30,
   "metadata": {},
   "outputs": [],
   "source": [
    "# dependencies\n",
    "from IPython.display import display, Math\n",
    "from sympy import *\n",
    "from sympy.assumptions.refine import refine_abs\n",
    "from sympy.physics.quantum import Commutator, Dagger, Operator \n",
    "\n",
    "init_printing(use_latex=True)"
   ]
  },
  {
   "cell_type": "markdown",
   "metadata": {},
   "source": [
    "## Variables and Equations"
   ]
  },
  {
   "cell_type": "code",
   "execution_count": 31,
   "metadata": {},
   "outputs": [],
   "source": [
    "# parameters              \n",
    "kappa_1, kappa_2, gamma_1, gamma_2 = symbols('kappa_1, kappa_2, gamma_1, gamma_2', real=True, positive=True)\n",
    "omega_m_1, omega_m_2 = symbols('omega_m_1, omega_m_2', real=True, positive=True)                            \n",
    "Delta_0_1, Delta_0_2, g_1, g_2 = symbols('Delta^0_1, Delta^0_2, g_1, g_2', real=True)                               \n",
    "A_l = symbols('A_l', real=True, positive=True)   \n",
    "eta = symbols('eta', real=True, positive=True)                                                                    \n",
    "t = symbols('t', real=True, positive=True)   \n",
    "\n",
    "# functions\n",
    "alpha_1 = Function('alpha_1', complex=True)(t)  \n",
    "alpha_2 = Function('alpha_2', complex=True)(t)  \n",
    "beta_1 = Function('beta_1', complex=True)(t)  \n",
    "beta_2 = Function('beta_2', complex=True)(t)  "
   ]
  },
  {
   "cell_type": "code",
   "execution_count": 32,
   "metadata": {},
   "outputs": [
    {
     "output_type": "display_data",
     "data": {
      "text/plain": "<IPython.core.display.Math object>",
      "text/latex": "$\\displaystyle \\dot{\\alpha}_1 = A_{l} + i \\Delta^{0}_{1} \\alpha_{1}{\\left(t \\right)} + i g_{1} \\alpha_{1}{\\left(t \\right)} \\beta_{1}{\\left(t \\right)} + i g_{1} \\alpha_{1}{\\left(t \\right)} \\overline{\\beta_{1}{\\left(t \\right)}} - \\kappa_{1} \\alpha_{1}{\\left(t \\right)}$"
     },
     "metadata": {}
    },
    {
     "output_type": "display_data",
     "data": {
      "text/plain": "<IPython.core.display.Math object>",
      "text/latex": "$\\displaystyle \\dot{\\alpha}_1 = A_{l} \\sqrt{\\eta} + A_{l} \\sqrt{1 - \\eta} + i \\Delta^{0}_{2} \\alpha_{2}{\\left(t \\right)} - 2 \\sqrt{\\eta} \\sqrt{\\kappa_{1}} \\sqrt{\\kappa_{2}} \\alpha_{1}{\\left(t \\right)} + i g_{2} \\alpha_{1}{\\left(t \\right)} \\beta_{2}{\\left(t \\right)} + i g_{2} \\alpha_{1}{\\left(t \\right)} \\overline{\\beta_{2}{\\left(t \\right)}} - \\kappa_{2} \\alpha_{2}{\\left(t \\right)}$"
     },
     "metadata": {}
    },
    {
     "output_type": "display_data",
     "data": {
      "text/plain": "<IPython.core.display.Math object>",
      "text/latex": "$\\displaystyle \\dot{\\beta}_1 = i g_{1} \\alpha_{1}{\\left(t \\right)} \\overline{\\alpha_{1}{\\left(t \\right)}} - \\gamma_{1} \\beta_{1}{\\left(t \\right)} - i \\omega_{m 1} \\beta_{1}{\\left(t \\right)}$"
     },
     "metadata": {}
    },
    {
     "output_type": "display_data",
     "data": {
      "text/plain": "<IPython.core.display.Math object>",
      "text/latex": "$\\displaystyle \\dot{\\beta}_1 = i g_{2} \\alpha_{2}{\\left(t \\right)} \\overline{\\alpha_{2}{\\left(t \\right)}} - \\gamma_{2} \\beta_{2}{\\left(t \\right)} - i \\omega_{m 2} \\beta_{2}{\\left(t \\right)}$"
     },
     "metadata": {}
    }
   ],
   "source": [
    "# classical rate equations\n",
    "dalpha_1_dt = (- kappa_1 + I * Delta_0_1) * alpha_1 + I * g_1 * (conjugate(beta_1) + beta_1) * alpha_1 + A_l\n",
    "dalpha_2_dt = - 2 * sqrt(eta * kappa_1 * kappa_2) * alpha_1 + (- kappa_2 + I * Delta_0_2) * alpha_2 + I * g_2 * (conjugate(beta_2) + beta_2) * alpha_1 + sqrt(eta) * A_l + sqrt(1 - eta) * A_l \n",
    "dbeta_1_dt = I * g_1 * conjugate(alpha_1) * alpha_1 + (- gamma_1 - I * omega_m_1) * beta_1\n",
    "dbeta_2_dt = I * g_2 * conjugate(alpha_2) * alpha_2 + (- gamma_2 - I * omega_m_2) * beta_2\n",
    "\n",
    "dalpha_1_dt = dalpha_1_dt.expand()\n",
    "dalpha_2_dt = dalpha_2_dt.expand()\n",
    "dbeta_1_dt = dbeta_1_dt.expand()\n",
    "dbeta_2_dt = dbeta_2_dt.expand()\n",
    "\n",
    "# display classical rate equations\n",
    "# remove Math function to display LaTeX script\n",
    "display(Math('\\\\dot{\\\\alpha}_1 = ' + latex(dalpha_1_dt)))\n",
    "display(Math('\\\\dot{\\\\alpha}_1 = ' + latex(dalpha_2_dt)))\n",
    "display(Math('\\\\dot{\\\\beta}_1 = ' + latex(dbeta_1_dt)))\n",
    "display(Math('\\\\dot{\\\\beta}_1 = ' + latex(dbeta_2_dt)))"
   ]
  },
  {
   "cell_type": "markdown",
   "metadata": {},
   "source": [
    "## Transformations"
   ]
  },
  {
   "cell_type": "code",
   "execution_count": 36,
   "metadata": {
    "tags": []
   },
   "outputs": [
    {
     "output_type": "display_data",
     "data": {
      "text/plain": "<IPython.core.display.Math object>",
      "text/latex": "$\\displaystyle \\dot{X}_1 = A_{l} - \\Delta^{0}_{1} \\operatorname{Y_{1}}{\\left(t \\right)} - 2 g_{1} \\operatorname{Q_{1}}{\\left(t \\right)} \\operatorname{Y_{1}}{\\left(t \\right)} - \\kappa_{1} \\operatorname{X_{1}}{\\left(t \\right)}$"
     },
     "metadata": {}
    },
    {
     "output_type": "display_data",
     "data": {
      "text/plain": "<IPython.core.display.Math object>",
      "text/latex": "$\\displaystyle \\dot{Y}_1 = \\Delta^{0}_{1} \\operatorname{X_{1}}{\\left(t \\right)} + 2 g_{1} \\operatorname{Q_{1}}{\\left(t \\right)} \\operatorname{X_{1}}{\\left(t \\right)} - \\kappa_{1} \\operatorname{Y_{1}}{\\left(t \\right)}$"
     },
     "metadata": {}
    },
    {
     "output_type": "display_data",
     "data": {
      "text/plain": "<IPython.core.display.Math object>",
      "text/latex": "$\\displaystyle \\dot{Q}_1 = - \\gamma_{1} \\operatorname{Q_{1}}{\\left(t \\right)} + \\omega_{m 1} \\operatorname{P_{1}}{\\left(t \\right)}$"
     },
     "metadata": {}
    },
    {
     "output_type": "display_data",
     "data": {
      "text/plain": "<IPython.core.display.Math object>",
      "text/latex": "$\\displaystyle \\dot{P}_1 = g_{1} \\operatorname{X_{1}}^{2}{\\left(t \\right)} + g_{1} \\operatorname{Y_{1}}^{2}{\\left(t \\right)} - \\gamma_{1} \\operatorname{P_{1}}{\\left(t \\right)} - \\omega_{m 1} \\operatorname{Q_{1}}{\\left(t \\right)}$"
     },
     "metadata": {}
    },
    {
     "output_type": "display_data",
     "data": {
      "text/plain": "<IPython.core.display.Math object>",
      "text/latex": "$\\displaystyle \\dot{X}_2 = A_{l} \\sqrt{\\eta} + A_{l} \\sqrt{1 - \\eta} - \\Delta^{0}_{2} \\operatorname{Y_{2}}{\\left(t \\right)} - 2 \\sqrt{\\eta} \\sqrt{\\kappa_{1}} \\sqrt{\\kappa_{2}} \\operatorname{X_{1}}{\\left(t \\right)} - 2 g_{2} \\operatorname{Q_{2}}{\\left(t \\right)} \\operatorname{Y_{1}}{\\left(t \\right)} - \\kappa_{2} \\operatorname{X_{2}}{\\left(t \\right)}$"
     },
     "metadata": {}
    },
    {
     "output_type": "display_data",
     "data": {
      "text/plain": "<IPython.core.display.Math object>",
      "text/latex": "$\\displaystyle \\dot{Y}_2 = \\Delta^{0}_{2} \\operatorname{X_{2}}{\\left(t \\right)} - 2 \\sqrt{\\eta} \\sqrt{\\kappa_{1}} \\sqrt{\\kappa_{2}} \\operatorname{Y_{1}}{\\left(t \\right)} + 2 g_{2} \\operatorname{Q_{2}}{\\left(t \\right)} \\operatorname{X_{1}}{\\left(t \\right)} - \\kappa_{2} \\operatorname{Y_{2}}{\\left(t \\right)}$"
     },
     "metadata": {}
    },
    {
     "output_type": "display_data",
     "data": {
      "text/plain": "<IPython.core.display.Math object>",
      "text/latex": "$\\displaystyle \\dot{Q}_2 = - \\gamma_{2} \\operatorname{Q_{2}}{\\left(t \\right)} + \\omega_{m 2} \\operatorname{P_{2}}{\\left(t \\right)}$"
     },
     "metadata": {}
    },
    {
     "output_type": "display_data",
     "data": {
      "text/plain": "<IPython.core.display.Math object>",
      "text/latex": "$\\displaystyle \\dot{P}_2 = g_{2} \\operatorname{X_{2}}^{2}{\\left(t \\right)} + g_{2} \\operatorname{Y_{2}}^{2}{\\left(t \\right)} - \\gamma_{2} \\operatorname{P_{2}}{\\left(t \\right)} - \\omega_{m 2} \\operatorname{Q_{2}}{\\left(t \\right)}$"
     },
     "metadata": {}
    }
   ],
   "source": [
    "# real and complex functions\n",
    "X_1 = Function('X_1', real=True)(t)\n",
    "Y_1 = Function('Y_1', real=True)(t)\n",
    "Q_1 = Function('Q_1', real=True)(t)\n",
    "P_1 = Function('P_1', real=True)(t)\n",
    "X_2 = Function('X_2', real=True)(t)\n",
    "Y_2 = Function('Y_2', real=True)(t)\n",
    "Q_2 = Function('Q_2', real=True)(t)\n",
    "P_2 = Function('P_2', real=True)(t)\n",
    "\n",
    "# substitution list for modes\n",
    "sub_list = [(alpha_1, X_1 + I * Y_1), (beta_1, Q_1 + I * P_1), (alpha_2, X_2 + I * Y_2), (beta_2, Q_2 + I * P_2)]\n",
    "dX_1_dt, dY_1_dt = dalpha_1_dt.subs(sub_list).expand().as_real_imag()\n",
    "dQ_1_dt, dP_1_dt = dbeta_1_dt.subs(sub_list).expand().as_real_imag()\n",
    "dX_2_dt, dY_2_dt = dalpha_2_dt.subs(sub_list).expand().as_real_imag()\n",
    "dQ_2_dt, dP_2_dt = dbeta_2_dt.subs(sub_list).expand().as_real_imag()\n",
    "\n",
    "# refine expressions\n",
    "dX_2_dt = refine(dX_2_dt, Q.positive(1 - eta))\n",
    "dY_2_dt = refine(dY_2_dt, Q.positive(1 - eta))\n",
    "\n",
    "# substitution list for Delta and eta\n",
    "sub_list = [(Delta_0_1, Delta_0 + 2 * g)]\n",
    "\n",
    "# display classical rate equations\n",
    "# remove Math function to display LaTeX script\n",
    "display(Math('\\\\dot{X}_1 = ' + latex(dX_1_dt)))\n",
    "display(Math('\\\\dot{Y}_1 = ' + latex(dY_1_dt)))\n",
    "display(Math('\\\\dot{Q}_1 = ' + latex(dQ_1_dt)))\n",
    "display(Math('\\\\dot{P}_1 = ' + latex(dP_1_dt)))\n",
    "display(Math('\\\\dot{X}_2 = ' + latex(dX_2_dt)))\n",
    "display(Math('\\\\dot{Y}_2 = ' + latex(dY_2_dt)))\n",
    "display(Math('\\\\dot{Q}_2 = ' + latex(dQ_2_dt)))\n",
    "display(Math('\\\\dot{P}_2 = ' + latex(dP_2_dt)))"
   ]
  },
  {
   "cell_type": "code",
   "execution_count": null,
   "metadata": {},
   "outputs": [],
   "source": []
  }
 ],
 "metadata": {
  "kernelspec": {
   "display_name": "Python 3.7.6 64-bit ('base': conda)",
   "language": "python",
   "name": "python37664bitbasecondab2019f08627a42e98f52679f186c74d3"
  },
  "language_info": {
   "codemirror_mode": {
    "name": "ipython",
    "version": 3
   },
   "file_extension": ".py",
   "mimetype": "text/x-python",
   "name": "python",
   "nbconvert_exporter": "python",
   "pygments_lexer": "ipython3",
   "version": "3.7.6-final"
  }
 },
 "nbformat": 4,
 "nbformat_minor": 2
}