{
 "cells": [
  {
   "cell_type": "markdown",
   "metadata": {},
   "source": [
    "# Adiabatic Elimination for Bidirectional Configuration"
   ]
  },
  {
   "source": [
    "## Initialization"
   ],
   "cell_type": "markdown",
   "metadata": {}
  },
  {
   "cell_type": "code",
   "execution_count": 1,
   "metadata": {},
   "outputs": [],
   "source": [
    "# dependencies\n",
    "from IPython.display import display, Math\n",
    "from sympy import conjugate, diff, E, exp, Function, I, latex, solve, sqrt, symbols\n",
    "from sympy.physics.quantum import Commutator, Dagger, hbar"
   ]
  },
  {
   "cell_type": "code",
   "execution_count": 2,
   "metadata": {},
   "outputs": [],
   "source": [
    "# time\n",
    "t = symbols('t', real=True, positive=True)\n",
    "# positive parameters\n",
    "g_1, g_2, gamma_1, gamma_2, kappa_1, kappa_2, omega_1, omega_2 = symbols('g_{1}, g_{2}, \\\\gamma_{1}, \\\\gamma_{2}, \\\\kappa_{1}, \\\\kappa_{2}, \\\\omega_{1}, \\\\omega_{2}', real=True, positive=True)\n",
    "# real-valued parameters\n",
    "Delta_1, Delta_2, lamb = symbols('\\\\Delta_{1}, \\\\Delta_{2}, \\\\lambda', real=True) \n",
    "# transformed parameters\n",
    "chi_1, chi_2, Gamma_1, Gamma_2, gamma, kappa = symbols('\\\\chi_{1}, \\\\chi_{2}, \\\\Gamma_{1}, \\\\Gamma_{2}, \\\\gamma, \\\\kappa', real=True, positive=True)\n",
    "delta = symbols('delta', real=True)\n",
    "eta_1, eta_2, G_1, G_2 = symbols('\\\\eta_{2}, \\\\eta_{1}, G_{1}, G_{2}', complex=True)\n",
    "\n",
    "# classical amplitudes\n",
    "alpha_1, alpha_2, beta_1, beta_2 = symbols('\\\\alpha_{1}, \\\\alpha_{2}, \\\\beta_{1}, \\\\beta_{2}', complex=True)\n",
    "# quantum fluctuations\n",
    "a_1_t = Function('\\\\hat{a}_{1}', commutative=False)(t)\n",
    "b_1_t = Function('\\\\hat{b}_{1}', commutative=False)(t)\n",
    "a_2_t = Function('\\\\hat{a}_{2}', commutative=False)(t)\n",
    "b_2_t = Function('\\\\hat{b}_{2}', commutative=False)(t)\n",
    "# input noises\n",
    "a_in_1_t = Function('\\\\hat{a}_{1}^{in}', commutative=False)(t)\n",
    "b_in_1_t = Function('\\\\hat{b}_{1}^{in}', commutative=False)(t)\n",
    "a_in_2_t = Function('\\\\hat{a}_{2}^{in}', commutative=False)(t)\n",
    "b_in_2_t = Function('\\\\hat{b}_{2}^{in}', commutative=False)(t)\n",
    "\n",
    "# transformed fluctuations\n",
    "a_1_tilde_t = Function('\\\\hat{\\\\tilde{a}}_{1}', commutative=False)(t)\n",
    "b_1_tilde_t = Function('\\\\hat{\\\\tilde{b}}_{1}', commutative=False)(t)\n",
    "a_2_tilde_t = Function('\\\\hat{\\\\tilde{a}}_{2}', commutative=False)(t)\n",
    "b_2_tilde_t = Function('\\\\hat{\\\\tilde{b}}_{2}', commutative=False)(t)\n",
    "# transformed noises# new bath operators\n",
    "a_in_1_tilde_t = Function('\\\\hat{\\\\tilde{a}}_{1}^{in}', commutative=False)(t)\n",
    "b_in_1_tilde_t = Function('\\\\hat{\\\\tilde{b}}_{1}^{in}', commutative=False)(t)\n",
    "a_in_2_tilde_t = Function('\\\\hat{\\\\tilde{a}}_{2}^{in}', commutative=False)(t)\n",
    "b_in_2_tilde_t = Function('\\\\hat{\\\\tilde{b}}_{2}^{in}', commutative=False)(t)\n",
    "\n",
    "# correlation expectation values\n",
    "b_1_tilde_dagger_b_1_tilde_expect_t = Function('\\\\langle \\\\hat{\\\\tilde{b}}_{1}^{\\\\dagger} \\\\hat{\\\\tilde{b}}_{1} \\\\rangle', complex=True)(t)\n",
    "b_1_tilde_dagger_b_2_tilde_expect_t = Function('\\\\langle \\\\hat{\\\\tilde{b}}_{1}^{\\\\dagger} \\\\hat{\\\\tilde{b}}_{2} \\\\rangle', complex=True)(t)\n",
    "b_2_tilde_dagger_b_1_tilde_expect_t = Function('\\\\langle \\\\hat{\\\\tilde{b}}_{2}^{\\\\dagger} \\\\hat{\\\\tilde{b}}_{1} \\\\rangle', complex=True)(t)\n",
    "b_2_tilde_dagger_b_2_tilde_expect_t = Function('\\\\langle \\\\hat{\\\\tilde{b}}_{2}^{\\\\dagger} \\\\hat{\\\\tilde{b}}_{2} \\\\rangle', complex=True)(t)"
   ]
  },
  {
   "source": [
    "## Quantum Langevin Equations"
   ],
   "cell_type": "markdown",
   "metadata": {}
  },
  {
   "cell_type": "code",
   "execution_count": 3,
   "metadata": {},
   "outputs": [
    {
     "output_type": "display_data",
     "data": {
      "text/plain": "<IPython.core.display.Math object>",
      "text/latex": "$\\displaystyle \\dot{\\hat{a}}_{1} (t) = i \\alpha_{1} g_{1} \\left(\\hat{b}_{1}{\\left(t \\right)} + \\hat{b}_{1}{\\left(t \\right)}^{\\dagger}\\right) + \\sqrt{2} \\sqrt{\\kappa_{1}} \\hat{a}_{1}^{in}{\\left(t \\right)} + i \\lambda \\hat{a}_{2}{\\left(t \\right)} + \\left(i \\Delta_{1} - \\kappa_{1}\\right) \\hat{a}_{1}{\\left(t \\right)}$"
     },
     "metadata": {}
    },
    {
     "output_type": "display_data",
     "data": {
      "text/plain": "<IPython.core.display.Math object>",
      "text/latex": "$\\displaystyle \\dot{\\hat{b}}_{1} (t) = \\sqrt{2} \\sqrt{\\gamma_{1}} \\hat{b}_{1}^{in}{\\left(t \\right)} + i g_{1} \\left(\\alpha_{1} \\hat{a}_{1}{\\left(t \\right)}^{\\dagger} + \\overline{\\alpha_{1}} \\hat{a}_{1}{\\left(t \\right)}\\right) + \\left(- \\gamma_{1} - i \\omega_{1}\\right) \\hat{b}_{1}{\\left(t \\right)}$"
     },
     "metadata": {}
    },
    {
     "output_type": "display_data",
     "data": {
      "text/plain": "<IPython.core.display.Math object>",
      "text/latex": "$\\displaystyle \\dot{\\hat{a}}_{2} (t) = i \\alpha_{2} g_{2} \\left(\\hat{b}_{2}{\\left(t \\right)} + \\hat{b}_{2}{\\left(t \\right)}^{\\dagger}\\right) + \\sqrt{2} \\sqrt{\\kappa_{2}} \\hat{a}_{2}^{in}{\\left(t \\right)} + i \\lambda \\hat{a}_{1}{\\left(t \\right)} + \\left(i \\Delta_{2} - \\kappa_{2}\\right) \\hat{a}_{2}{\\left(t \\right)}$"
     },
     "metadata": {}
    },
    {
     "output_type": "display_data",
     "data": {
      "text/plain": "<IPython.core.display.Math object>",
      "text/latex": "$\\displaystyle \\dot{\\hat{b}}_{2} (t) = \\sqrt{2} \\sqrt{\\gamma_{2}} \\hat{b}_{2}^{in}{\\left(t \\right)} + i g_{2} \\left(\\alpha_{2} \\hat{a}_{2}{\\left(t \\right)}^{\\dagger} + \\overline{\\alpha_{2}} \\hat{a}_{2}{\\left(t \\right)}\\right) + \\left(- \\gamma_{2} - i \\omega_{2}\\right) \\hat{b}_{2}{\\left(t \\right)}$"
     },
     "metadata": {}
    }
   ],
   "source": [
    "# rate equations\n",
    "expr_da_1_dt = (- kappa_1 + I * Delta_1) * a_1_t + I * g_1 * alpha_1 * (Dagger(b_1_t) + b_1_t) + I * lamb * a_2_t + sqrt(2 * kappa_1) * a_in_1_t\n",
    "expr_db_1_dt = (- gamma_1 - I * omega_1) * b_1_t + I * g_1 * (conjugate(alpha_1) * a_1_t + Dagger(a_1_t) * alpha_1) + sqrt(2 * gamma_1) * b_in_1_t\n",
    "expr_da_2_dt = (- kappa_2 + I * Delta_2) * a_2_t + I * g_2 * alpha_2 * (Dagger(b_2_t) + b_2_t) + I * lamb * a_1_t + sqrt(2 * kappa_2) * a_in_2_t\n",
    "expr_db_2_dt = (- gamma_2 - I * omega_2) * b_2_t + I * g_2 * (conjugate(alpha_2) * a_2_t + Dagger(a_2_t) * alpha_2) + sqrt(2 * gamma_2) * b_in_2_t\n",
    "# display rate equations\n",
    "# remove Math function to display LaTeX script\n",
    "display(Math('\\\\dot{\\\\hat{a}}_{1} (t) = ' + latex(expr_da_1_dt)))\n",
    "display(Math('\\\\dot{\\\\hat{b}}_{1} (t) = ' + latex(expr_db_1_dt)))\n",
    "display(Math('\\\\dot{\\\\hat{a}}_{2} (t) = ' + latex(expr_da_2_dt)))\n",
    "display(Math('\\\\dot{\\\\hat{b}}_{2} (t) = ' + latex(expr_db_2_dt)))"
   ]
  },
  {
   "cell_type": "markdown",
   "metadata": {},
   "source": [
    "## Transformations"
   ]
  },
  {
   "cell_type": "code",
   "execution_count": 4,
   "metadata": {},
   "outputs": [
    {
     "output_type": "display_data",
     "data": {
      "text/plain": "<IPython.core.display.Math object>",
      "text/latex": "$\\displaystyle \\hat{\\tilde{a}}_{1}{\\left(t \\right)} = e^{- i \\Delta_{1} t} \\hat{a}_{1}{\\left(t \\right)}, \\quad \\hat{\\tilde{b}}_{1}{\\left(t \\right)} = e^{i \\omega_{1} t} \\hat{b}_{1}{\\left(t \\right)}$"
     },
     "metadata": {}
    },
    {
     "output_type": "display_data",
     "data": {
      "text/plain": "<IPython.core.display.Math object>",
      "text/latex": "$\\displaystyle \\hat{\\tilde{a}}_{2}{\\left(t \\right)} = e^{- i \\Delta_{2} t} \\hat{a}_{2}{\\left(t \\right)}, \\quad \\hat{\\tilde{b}}_{2}{\\left(t \\right)} = e^{i \\omega_{2} t} \\hat{b}_{2}{\\left(t \\right)}$"
     },
     "metadata": {}
    },
    {
     "output_type": "display_data",
     "data": {
      "text/plain": "<IPython.core.display.Math object>",
      "text/latex": "$\\displaystyle \\Delta_{1} = \\omega_{1}, \\quad \\Delta_{2} = \\omega_{2}$"
     },
     "metadata": {}
    },
    {
     "output_type": "display_data",
     "data": {
      "text/plain": "<IPython.core.display.Math object>",
      "text/latex": "$\\displaystyle \\hat{\\tilde{a}}_{1}^{in}{\\left(t \\right)} = e^{- i \\Delta_{1} t} \\hat{a}_{1}^{in}{\\left(t \\right)}, \\quad \\hat{\\tilde{b}}_{1}^{in}{\\left(t \\right)} = e^{i \\omega_{1} t} \\hat{b}_{1}^{in}{\\left(t \\right)}$"
     },
     "metadata": {}
    },
    {
     "output_type": "display_data",
     "data": {
      "text/plain": "<IPython.core.display.Math object>",
      "text/latex": "$\\displaystyle \\hat{\\tilde{a}}_{2}^{in}{\\left(t \\right)} = e^{- i \\Delta_{2} t} \\hat{a}_{2}^{in}{\\left(t \\right)}, \\quad \\hat{\\tilde{b}}_{2}^{in}{\\left(t \\right)} = e^{i \\omega_{2} t} \\hat{b}_{2}^{in}{\\left(t \\right)}$"
     },
     "metadata": {}
    },
    {
     "output_type": "display_data",
     "data": {
      "text/plain": "<IPython.core.display.Math object>",
      "text/latex": "$\\displaystyle \\dot{\\hat{\\tilde{a}}}_{1} (t) = i \\alpha_{1} g_{1} \\hat{\\tilde{b}}_{1}{\\left(t \\right)}^{\\dagger} + i \\alpha_{1} g_{1} e^{- 2 i \\omega_{1} t} \\hat{\\tilde{b}}_{1}{\\left(t \\right)} + \\sqrt{2} \\sqrt{\\kappa_{1}} \\hat{\\tilde{a}}_{1}^{in}{\\left(t \\right)} - \\kappa_{1} \\hat{\\tilde{a}}_{1}{\\left(t \\right)} + i \\lambda e^{- i \\omega_{1} t} e^{i \\omega_{2} t} \\hat{\\tilde{a}}_{2}{\\left(t \\right)}$"
     },
     "metadata": {}
    },
    {
     "output_type": "display_data",
     "data": {
      "text/plain": "<IPython.core.display.Math object>",
      "text/latex": "$\\displaystyle \\dot{\\hat{\\tilde{b}}}_{1} (t) = i \\alpha_{1} g_{1} \\hat{\\tilde{a}}_{1}{\\left(t \\right)}^{\\dagger} + \\sqrt{2} \\sqrt{\\gamma_{1}} \\hat{\\tilde{b}}_{1}^{in}{\\left(t \\right)} - \\gamma_{1} \\hat{\\tilde{b}}_{1}{\\left(t \\right)} + i g_{1} e^{2 i \\omega_{1} t} \\overline{\\alpha_{1}} \\hat{\\tilde{a}}_{1}{\\left(t \\right)}$"
     },
     "metadata": {}
    },
    {
     "output_type": "display_data",
     "data": {
      "text/plain": "<IPython.core.display.Math object>",
      "text/latex": "$\\displaystyle \\dot{\\hat{\\tilde{a}}}_{2} (t) = i \\alpha_{2} g_{2} \\hat{\\tilde{b}}_{2}{\\left(t \\right)}^{\\dagger} + i \\alpha_{2} g_{2} e^{- 2 i \\omega_{2} t} \\hat{\\tilde{b}}_{2}{\\left(t \\right)} + \\sqrt{2} \\sqrt{\\kappa_{2}} \\hat{\\tilde{a}}_{2}^{in}{\\left(t \\right)} - \\kappa_{2} \\hat{\\tilde{a}}_{2}{\\left(t \\right)} + i \\lambda e^{i \\omega_{1} t} e^{- i \\omega_{2} t} \\hat{\\tilde{a}}_{1}{\\left(t \\right)}$"
     },
     "metadata": {}
    },
    {
     "output_type": "display_data",
     "data": {
      "text/plain": "<IPython.core.display.Math object>",
      "text/latex": "$\\displaystyle \\dot{\\hat{\\tilde{b}}}_{2} (t) = i \\alpha_{2} g_{2} \\hat{\\tilde{a}}_{2}{\\left(t \\right)}^{\\dagger} + \\sqrt{2} \\sqrt{\\gamma_{2}} \\hat{\\tilde{b}}_{2}^{in}{\\left(t \\right)} - \\gamma_{2} \\hat{\\tilde{b}}_{2}{\\left(t \\right)} + i g_{2} e^{2 i \\omega_{2} t} \\overline{\\alpha_{2}} \\hat{\\tilde{a}}_{2}{\\left(t \\right)}$"
     },
     "metadata": {}
    }
   ],
   "source": [
    "# fluctuation transformations\n",
    "expr_a_1_tilde = a_1_t * E**(- I * Delta_1 * t)\n",
    "expr_b_1_tilde = b_1_t * E**(I * omega_1 * t)\n",
    "expr_a_2_tilde = a_2_t * E**(- I * Delta_2 * t)\n",
    "expr_b_2_tilde = b_2_t * E**(I * omega_2 * t)\n",
    "# noise transformations\n",
    "expr_a_in_1_tilde_t = a_in_1_t * E**(- I * Delta_1 * t)\n",
    "expr_b_in_1_tilde_t = b_in_1_t * E**(I * omega_1 * t)\n",
    "expr_a_in_2_tilde_t = a_in_2_t * E**(- I * Delta_2 * t)\n",
    "expr_b_in_2_tilde_t = b_in_2_t * E**(I * omega_2 * t)\n",
    "# substitution list\n",
    "list_subs = [\n",
    "    (a_1_t, a_1_tilde_t * a_1_t / expr_a_1_tilde),\n",
    "    (b_1_t, b_1_tilde_t * b_1_t / expr_b_1_tilde), \n",
    "    (a_2_t, a_2_tilde_t * a_2_t / expr_a_2_tilde),\n",
    "    (b_2_t, b_2_tilde_t * b_2_t / expr_b_2_tilde),\n",
    "    (expr_a_in_1_tilde_t, a_in_1_tilde_t),\n",
    "    (expr_b_in_1_tilde_t, b_in_1_tilde_t),\n",
    "    (expr_a_in_2_tilde_t, a_in_2_tilde_t),\n",
    "    (expr_b_in_2_tilde_t, b_in_2_tilde_t),\n",
    "    (Delta_1, omega_1), \n",
    "    (Delta_2, omega_2),\n",
    "]\n",
    "# display\n",
    "display(Math(latex(a_1_tilde_t) + ' = ' + latex(expr_a_1_tilde) + ', \\\\quad ' + latex(b_1_tilde_t) + ' = ' + latex(expr_b_1_tilde)))\n",
    "display(Math(latex(a_2_tilde_t) + ' = ' + latex(expr_a_2_tilde) + ', \\\\quad ' + latex(b_2_tilde_t) + ' = ' + latex(expr_b_2_tilde)))\n",
    "display(Math(latex(Delta_1) + ' = ' + latex(omega_1) + ', \\\\quad ' + latex(Delta_2) + ' = ' + latex(omega_2)))\n",
    "display(Math(latex(a_in_1_tilde_t) + ' = ' + latex(expr_a_in_1_tilde_t) + ', \\\\quad ' + latex(b_in_1_tilde_t) + ' = ' + latex(expr_b_in_1_tilde_t)))\n",
    "display(Math(latex(a_in_2_tilde_t) + ' = ' + latex(expr_a_in_2_tilde_t) + ', \\\\quad ' + latex(b_in_2_tilde_t) + ' = ' + latex(expr_b_in_2_tilde_t)))\n",
    "\n",
    "# transformed equations\n",
    "# differentiate and substitute rates in first step \n",
    "# substitute other variables in second step\n",
    "expr_da_1_tilde_dt = diff(expr_a_1_tilde, t).subs(diff(a_1_t), expr_da_1_dt).expand()\n",
    "expr_da_1_tilde_dt = expr_da_1_tilde_dt.subs(expr_a_1_tilde, a_1_tilde_t).subs(list_subs)\n",
    "display(Math('\\\\dot{\\\\hat{\\\\tilde{a}}}_{1} (t) = ' + latex(expr_da_1_tilde_dt)))\n",
    "expr_db_1_tilde_dt = diff(expr_b_1_tilde, t).subs(diff(b_1_t), expr_db_1_dt).expand()\n",
    "expr_db_1_tilde_dt = expr_db_1_tilde_dt.subs(expr_b_1_tilde, b_1_tilde_t).subs(list_subs)\n",
    "display(Math('\\\\dot{\\\\hat{\\\\tilde{b}}}_{1} (t) = ' + latex(expr_db_1_tilde_dt)))\n",
    "expr_da_2_tilde_dt = diff(expr_a_2_tilde, t).subs(diff(a_2_t), expr_da_2_dt).expand()\n",
    "expr_da_2_tilde_dt = expr_da_2_tilde_dt.subs(expr_a_2_tilde, a_2_tilde_t).subs(list_subs)\n",
    "display(Math('\\\\dot{\\\\hat{\\\\tilde{a}}}_{2} (t) = ' + latex(expr_da_2_tilde_dt)))\n",
    "expr_db_2_tilde_dt = diff(expr_b_2_tilde, t).subs(diff(b_2_t), expr_db_2_dt).expand()\n",
    "expr_db_2_tilde_dt = expr_db_2_tilde_dt.subs(expr_b_2_tilde, b_2_tilde_t).subs(list_subs)\n",
    "display(Math('\\\\dot{\\\\hat{\\\\tilde{b}}}_{2} (t) = ' + latex(expr_db_2_tilde_dt)))"
   ]
  },
  {
   "cell_type": "code",
   "execution_count": 5,
   "metadata": {},
   "outputs": [
    {
     "output_type": "display_data",
     "data": {
      "text/plain": "<IPython.core.display.Math object>",
      "text/latex": "$\\displaystyle G_{1} = \\alpha_{1} g_{1}, \\quad G_{2} = \\alpha_{2} g_{2}$"
     },
     "metadata": {}
    },
    {
     "output_type": "display_data",
     "data": {
      "text/plain": "<IPython.core.display.Math object>",
      "text/latex": "$\\displaystyle \\delta = - \\omega_{1} + \\omega_{2}$"
     },
     "metadata": {}
    },
    {
     "output_type": "display_data",
     "data": {
      "text/plain": "<IPython.core.display.Math object>",
      "text/latex": "$\\displaystyle \\dot{\\hat{\\tilde{a}}}_{1} (t) = i G_{1} \\hat{\\tilde{b}}_{1}{\\left(t \\right)}^{\\dagger} + \\sqrt{2} \\sqrt{\\kappa_{1}} \\hat{\\tilde{a}}_{1}^{in}{\\left(t \\right)} - \\kappa_{1} \\hat{\\tilde{a}}_{1}{\\left(t \\right)} + i \\lambda e^{i \\delta t} \\hat{\\tilde{a}}_{2}{\\left(t \\right)}$"
     },
     "metadata": {}
    },
    {
     "output_type": "display_data",
     "data": {
      "text/plain": "<IPython.core.display.Math object>",
      "text/latex": "$\\displaystyle \\dot{\\hat{\\tilde{b}}}_{1} (t) = i G_{1} \\hat{\\tilde{a}}_{1}{\\left(t \\right)}^{\\dagger} + \\sqrt{2} \\sqrt{\\gamma_{1}} \\hat{\\tilde{b}}_{1}^{in}{\\left(t \\right)} - \\gamma_{1} \\hat{\\tilde{b}}_{1}{\\left(t \\right)}$"
     },
     "metadata": {}
    },
    {
     "output_type": "display_data",
     "data": {
      "text/plain": "<IPython.core.display.Math object>",
      "text/latex": "$\\displaystyle \\dot{\\hat{\\tilde{a}}}_{2} (t) = i G_{2} \\hat{\\tilde{b}}_{2}{\\left(t \\right)}^{\\dagger} + \\sqrt{2} \\sqrt{\\kappa_{2}} \\hat{\\tilde{a}}_{2}^{in}{\\left(t \\right)} - \\kappa_{2} \\hat{\\tilde{a}}_{2}{\\left(t \\right)} + i \\lambda e^{- i \\delta t} \\hat{\\tilde{a}}_{1}{\\left(t \\right)}$"
     },
     "metadata": {}
    },
    {
     "output_type": "display_data",
     "data": {
      "text/plain": "<IPython.core.display.Math object>",
      "text/latex": "$\\displaystyle \\dot{\\hat{\\tilde{b}}}_{2} (t) = i G_{2} \\hat{\\tilde{a}}_{2}{\\left(t \\right)}^{\\dagger} + \\sqrt{2} \\sqrt{\\gamma_{2}} \\hat{\\tilde{b}}_{2}^{in}{\\left(t \\right)} - \\gamma_{2} \\hat{\\tilde{b}}_{2}{\\left(t \\right)}$"
     },
     "metadata": {}
    }
   ],
   "source": [
    "# effective values\n",
    "expr_delta = omega_2 - omega_1\n",
    "expr_G_1 = g_1 * alpha_1\n",
    "expr_G_2 = g_2 * alpha_2\n",
    "# substitution list\n",
    "list_subs = [\n",
    "    (omega_2, delta + omega_1),\n",
    "    (expr_G_1, G_1), \n",
    "    (expr_G_2, G_2)\n",
    "]\n",
    "# display\n",
    "display(Math(latex(G_1) + ' = ' + latex(expr_G_1) + ', \\\\quad ' + latex(G_2) + ' = ' + latex(expr_G_2)))\n",
    "display(Math(latex(delta) + ' = ' + latex(expr_delta)))\n",
    "\n",
    "# approximated equations\n",
    "# substitute parameters and ignore fast rotating terms\n",
    "expr_da_1_tilde_dt_approx = expr_da_1_tilde_dt.subs(list_subs).expand().subs(E**(- 2 * I * omega_1 * t), 0)\n",
    "display(Math('\\\\dot{\\\\hat{\\\\tilde{a}}}_{1} (t) = ' + latex(expr_da_1_tilde_dt_approx)))\n",
    "expr_db_1_tilde_dt_approx = expr_db_1_tilde_dt.subs(list_subs).expand().subs(E**(2 * I * omega_1 * t), 0)\n",
    "display(Math('\\\\dot{\\\\hat{\\\\tilde{b}}}_{1} (t) = ' + latex(expr_db_1_tilde_dt_approx)))\n",
    "expr_da_2_tilde_dt_approx = expr_da_2_tilde_dt.subs(list_subs).expand().subs(E**(- 2 * I * omega_1 * t), 0)\n",
    "display(Math('\\\\dot{\\\\hat{\\\\tilde{a}}}_{2} (t) = ' + latex(expr_da_2_tilde_dt_approx)))\n",
    "expr_db_2_tilde_dt_approx = expr_db_2_tilde_dt.subs(list_subs).expand().subs(E**(2 * I * omega_1 * t), 0)\n",
    "display(Math('\\\\dot{\\\\hat{\\\\tilde{b}}}_{2} (t) = ' + latex(expr_db_2_tilde_dt_approx)))"
   ]
  },
  {
   "cell_type": "markdown",
   "metadata": {},
   "source": [
    "## Adiabatic Elimination"
   ]
  },
  {
   "cell_type": "code",
   "execution_count": 6,
   "metadata": {},
   "outputs": [
    {
     "output_type": "display_data",
     "data": {
      "text/plain": "<IPython.core.display.Math object>",
      "text/latex": "$\\displaystyle \\hat{\\tilde{a}}_{1} = \\frac{i G_{1} \\kappa_{2} \\hat{\\tilde{b}}_{1}{\\left(t \\right)}^{\\dagger}}{\\kappa_{1} \\kappa_{2} + \\lambda^{2}} - \\frac{G_{2} \\lambda e^{i \\delta t} \\hat{\\tilde{b}}_{2}{\\left(t \\right)}^{\\dagger}}{\\kappa_{1} \\kappa_{2} + \\lambda^{2}} + \\frac{\\sqrt{2} \\sqrt{\\kappa_{1}} \\kappa_{2} \\hat{\\tilde{a}}_{1}^{in}{\\left(t \\right)}}{\\kappa_{1} \\kappa_{2} + \\lambda^{2}} + \\frac{\\sqrt{2} i \\sqrt{\\kappa_{2}} \\lambda e^{i \\delta t} \\hat{\\tilde{a}}_{2}^{in}{\\left(t \\right)}}{\\kappa_{1} \\kappa_{2} + \\lambda^{2}}$"
     },
     "metadata": {}
    },
    {
     "output_type": "display_data",
     "data": {
      "text/plain": "<IPython.core.display.Math object>",
      "text/latex": "$\\displaystyle \\hat{\\tilde{a}}_{2} = - \\frac{G_{1} \\lambda \\hat{\\tilde{b}}_{1}{\\left(t \\right)}^{\\dagger}}{\\kappa_{1} \\kappa_{2} e^{i \\delta t} + \\lambda^{2} e^{i \\delta t}} + \\frac{i G_{2} \\kappa_{1} \\hat{\\tilde{b}}_{2}{\\left(t \\right)}^{\\dagger}}{\\kappa_{1} \\kappa_{2} + \\lambda^{2}} + \\frac{\\sqrt{2} i \\sqrt{\\kappa_{1}} \\lambda \\hat{\\tilde{a}}_{1}^{in}{\\left(t \\right)}}{\\kappa_{1} \\kappa_{2} e^{i \\delta t} + \\lambda^{2} e^{i \\delta t}} + \\frac{\\sqrt{2} \\kappa_{1} \\sqrt{\\kappa_{2}} \\hat{\\tilde{a}}_{2}^{in}{\\left(t \\right)}}{\\kappa_{1} \\kappa_{2} + \\lambda^{2}}$"
     },
     "metadata": {}
    },
    {
     "output_type": "display_data",
     "data": {
      "text/plain": "<IPython.core.display.Math object>",
      "text/latex": "$\\displaystyle \\dot{\\hat{\\tilde{b}}}_{1} (t) = \\frac{\\sqrt{2} i G_{1} \\sqrt{\\kappa_{1}} \\kappa_{2} \\hat{\\tilde{a}}_{1}^{in}{\\left(t \\right)}^{\\dagger}}{\\kappa_{1} \\kappa_{2} + \\lambda^{2}} + \\frac{\\sqrt{2} G_{1} \\sqrt{\\kappa_{2}} \\lambda \\hat{\\tilde{a}}_{2}^{in}{\\left(t \\right)}^{\\dagger}}{\\kappa_{1} \\kappa_{2} e^{i \\delta t} + \\lambda^{2} e^{i \\delta t}} + \\frac{G_{1} \\kappa_{2} \\overline{G_{1}} \\hat{\\tilde{b}}_{1}{\\left(t \\right)}}{\\kappa_{1} \\kappa_{2} + \\lambda^{2}} - \\frac{i G_{1} \\lambda \\overline{G_{2}} \\hat{\\tilde{b}}_{2}{\\left(t \\right)}}{\\kappa_{1} \\kappa_{2} e^{i \\delta t} + \\lambda^{2} e^{i \\delta t}} + \\sqrt{2} \\sqrt{\\gamma_{1}} \\hat{\\tilde{b}}_{1}^{in}{\\left(t \\right)} - \\gamma_{1} \\hat{\\tilde{b}}_{1}{\\left(t \\right)}$"
     },
     "metadata": {}
    },
    {
     "output_type": "display_data",
     "data": {
      "text/plain": "<IPython.core.display.Math object>",
      "text/latex": "$\\displaystyle \\dot{\\hat{\\tilde{b}}}_{2} (t) = \\frac{\\sqrt{2} G_{2} \\sqrt{\\kappa_{1}} \\lambda \\hat{\\tilde{a}}_{1}^{in}{\\left(t \\right)}^{\\dagger}}{\\kappa_{1} \\kappa_{2} e^{- i \\delta t} + \\lambda^{2} e^{- i \\delta t}} + \\frac{\\sqrt{2} i G_{2} \\kappa_{1} \\sqrt{\\kappa_{2}} \\hat{\\tilde{a}}_{2}^{in}{\\left(t \\right)}^{\\dagger}}{\\kappa_{1} \\kappa_{2} + \\lambda^{2}} + \\frac{G_{2} \\kappa_{1} \\overline{G_{2}} \\hat{\\tilde{b}}_{2}{\\left(t \\right)}}{\\kappa_{1} \\kappa_{2} + \\lambda^{2}} - \\frac{i G_{2} \\lambda \\overline{G_{1}} \\hat{\\tilde{b}}_{1}{\\left(t \\right)}}{\\kappa_{1} \\kappa_{2} e^{- i \\delta t} + \\lambda^{2} e^{- i \\delta t}} + \\sqrt{2} \\sqrt{\\gamma_{2}} \\hat{\\tilde{b}}_{2}^{in}{\\left(t \\right)} - \\gamma_{2} \\hat{\\tilde{b}}_{2}{\\left(t \\right)}$"
     },
     "metadata": {}
    }
   ],
   "source": [
    "# obtain solutions for optical modes\n",
    "sols = solve([expr_da_2_tilde_dt_approx, expr_da_1_tilde_dt_approx], [a_2_tilde_t, a_1_tilde_t])\n",
    "expr_a_1_tilde_adia = sols[0][1].expand()\n",
    "expr_a_2_tilde_adia = sols[0][0].expand()\n",
    "# display solutions\n",
    "display(Math('\\\\hat{\\\\tilde{a}}_{1} = ' + latex(expr_a_1_tilde_adia)))\n",
    "display(Math('\\\\hat{\\\\tilde{a}}_{2} = ' + latex(expr_a_2_tilde_adia)))\n",
    "\n",
    "# substitution list\n",
    "list_subs = [\n",
    "    (a_1_tilde_t, expr_a_1_tilde_adia), \n",
    "    (a_2_tilde_t, expr_a_2_tilde_adia)\n",
    "]\n",
    "# mechanical mode equations\n",
    "expr_db_1_tilde_dt_adia = expr_db_1_tilde_dt_approx.subs(list_subs).expand()\n",
    "display(Math('\\\\dot{\\\\hat{\\\\tilde{b}}}_{1} (t) = ' + latex(expr_db_1_tilde_dt_adia)))\n",
    "expr_db_2_tilde_dt_adia = expr_db_2_tilde_dt_approx.subs(list_subs).expand()\n",
    "display(Math('\\\\dot{\\\\hat{\\\\tilde{b}}}_{2} (t) = ' + latex(expr_db_2_tilde_dt_adia)))"
   ]
  },
  {
   "cell_type": "code",
   "execution_count": 7,
   "metadata": {},
   "outputs": [
    {
     "output_type": "display_data",
     "data": {
      "text/plain": "<IPython.core.display.Math object>",
      "text/latex": "$\\displaystyle \\chi_{1} = \\frac{G_{2} \\lambda \\overline{G_{1}}}{\\kappa_{1} \\kappa_{2} + \\lambda^{2}}, \\quad \\chi_{2} = \\frac{G_{1} \\lambda \\overline{G_{2}}}{\\kappa_{1} \\kappa_{2} + \\lambda^{2}}$"
     },
     "metadata": {}
    },
    {
     "output_type": "display_data",
     "data": {
      "text/plain": "<IPython.core.display.Math object>",
      "text/latex": "$\\displaystyle \\Gamma_{1} = \\frac{G_{1} \\kappa_{2} \\overline{G_{1}}}{\\kappa_{1} \\kappa_{2} + \\lambda^{2}}, \\quad \\Gamma_{2} = \\frac{G_{2} \\kappa_{1} \\overline{G_{2}}}{\\kappa_{1} \\kappa_{2} + \\lambda^{2}}$"
     },
     "metadata": {}
    },
    {
     "output_type": "display_data",
     "data": {
      "text/plain": "<IPython.core.display.Math object>",
      "text/latex": "$\\displaystyle \\eta_{2} = \\frac{G_{1} \\kappa_{2}}{\\kappa_{1} \\kappa_{2} + \\lambda^{2}}, \\quad \\eta_{1} = \\frac{G_{2} \\kappa_{1}}{\\kappa_{1} \\kappa_{2} + \\lambda^{2}}$"
     },
     "metadata": {}
    },
    {
     "output_type": "display_data",
     "data": {
      "text/plain": "<IPython.core.display.Math object>",
      "text/latex": "$\\displaystyle \\dot{\\hat{\\tilde{b}}}_{1} (t) = \\Gamma_{1} \\hat{\\tilde{b}}_{1}{\\left(t \\right)} - i \\chi_{2} e^{- i \\delta t} \\hat{\\tilde{b}}_{2}{\\left(t \\right)} + \\sqrt{2} i \\eta_{2} \\sqrt{\\kappa_{1}} \\hat{\\tilde{a}}_{1}^{in}{\\left(t \\right)}^{\\dagger} + \\frac{\\sqrt{2} \\eta_{2} \\lambda e^{- i \\delta t} \\hat{\\tilde{a}}_{2}^{in}{\\left(t \\right)}^{\\dagger}}{\\sqrt{\\kappa_{2}}} + \\sqrt{2} \\sqrt{\\gamma_{1}} \\hat{\\tilde{b}}_{1}^{in}{\\left(t \\right)} - \\gamma_{1} \\hat{\\tilde{b}}_{1}{\\left(t \\right)}$"
     },
     "metadata": {}
    },
    {
     "output_type": "display_data",
     "data": {
      "text/plain": "<IPython.core.display.Math object>",
      "text/latex": "$\\displaystyle \\dot{\\hat{\\tilde{b}}}_{2} (t) = \\Gamma_{2} \\hat{\\tilde{b}}_{2}{\\left(t \\right)} - i \\chi_{1} e^{i \\delta t} \\hat{\\tilde{b}}_{1}{\\left(t \\right)} + \\sqrt{2} i \\eta_{1} \\sqrt{\\kappa_{2}} \\hat{\\tilde{a}}_{2}^{in}{\\left(t \\right)}^{\\dagger} + \\frac{\\sqrt{2} \\eta_{1} \\lambda e^{i \\delta t} \\hat{\\tilde{a}}_{1}^{in}{\\left(t \\right)}^{\\dagger}}{\\sqrt{\\kappa_{1}}} + \\sqrt{2} \\sqrt{\\gamma_{2}} \\hat{\\tilde{b}}_{2}^{in}{\\left(t \\right)} - \\gamma_{2} \\hat{\\tilde{b}}_{2}{\\left(t \\right)}$"
     },
     "metadata": {}
    }
   ],
   "source": [
    "# substituted values\n",
    "expr_chi_1 = G_2 * lamb * conjugate(G_1) / (kappa_1 * kappa_2 + lamb**2)\n",
    "expr_chi_2 = G_1 * lamb * conjugate(G_2) / (kappa_1 * kappa_2 + lamb**2)\n",
    "expr_eta_1 = G_1 * kappa_2 / (kappa_1 * kappa_2 + lamb**2)\n",
    "expr_eta_2 = G_2 * kappa_1 / (kappa_1 * kappa_2 + lamb**2)\n",
    "expr_Gamma_1 = G_1 * kappa_2 * conjugate(G_1) / (kappa_1 * kappa_2 + lamb**2)\n",
    "expr_Gamma_2 = G_2 * kappa_1 * conjugate(G_2) / (kappa_1 * kappa_2 + lamb**2)\n",
    "# substitution list\n",
    "list_subs = [\n",
    "    (expr_chi_1, chi_1),\n",
    "    (expr_chi_2, chi_2),\n",
    "    (expr_Gamma_1, Gamma_1),\n",
    "    (expr_Gamma_2, Gamma_2),\n",
    "    (expr_eta_1 / kappa_2, eta_1 / kappa_2),\n",
    "    (expr_eta_2 / kappa_1, eta_2 / kappa_1)\n",
    "]\n",
    "# display\n",
    "display(Math(latex(chi_1) + ' = ' + latex(expr_chi_1) + ', \\\\quad ' + latex(chi_2) + ' = ' + latex(expr_chi_2)))\n",
    "display(Math(latex(Gamma_1) + ' = ' + latex(expr_Gamma_1) + ', \\\\quad ' + latex(Gamma_2) + ' = ' + latex(expr_Gamma_2)))\n",
    "display(Math(latex(eta_1) + ' = ' + latex(expr_eta_1) + ', \\\\quad ' + latex(eta_2) + ' = ' + latex(expr_eta_2)))\n",
    "\n",
    "# substituted equations\n",
    "expr_db_1_tilde_dt_subs = expr_db_1_tilde_dt_adia.collect(E**(I * delta * t)).subs(list_subs).expand()\n",
    "display(Math('\\\\dot{\\\\hat{\\\\tilde{b}}}_{1} (t) = ' + latex(expr_db_1_tilde_dt_subs)))\n",
    "expr_db_2_tilde_dt_subs = expr_db_2_tilde_dt_adia.collect(E**(- I * delta * t)).subs(list_subs).expand()\n",
    "display(Math('\\\\dot{\\\\hat{\\\\tilde{b}}}_{2} (t) = ' + latex(expr_db_2_tilde_dt_subs)))"
   ]
  },
  {
   "source": [
    "## Identical Cavities"
   ],
   "cell_type": "markdown",
   "metadata": {}
  },
  {
   "cell_type": "code",
   "execution_count": 8,
   "metadata": {},
   "outputs": [
    {
     "output_type": "display_data",
     "data": {
      "text/plain": "<IPython.core.display.Math object>",
      "text/latex": "$\\displaystyle \\gamma_{1} = \\gamma_{2} = \\gamma, \\quad \\kappa_{1} = \\kappa_{2} = \\kappa, \\quad \\delta = 0$"
     },
     "metadata": {}
    },
    {
     "output_type": "display_data",
     "data": {
      "text/plain": "<IPython.core.display.Math object>",
      "text/latex": "$\\displaystyle \\dot{\\hat{\\tilde{b}}}_{1} (t) = \\Gamma_{1} \\hat{\\tilde{b}}_{1}{\\left(t \\right)} - i \\chi_{2} \\hat{\\tilde{b}}_{2}{\\left(t \\right)} + \\eta_{2} \\left(\\sqrt{2} i \\sqrt{\\kappa} \\hat{\\tilde{a}}_{1}^{in}{\\left(t \\right)}^{\\dagger} + \\frac{\\sqrt{2} \\lambda \\hat{\\tilde{a}}_{2}^{in}{\\left(t \\right)}^{\\dagger}}{\\sqrt{\\kappa}}\\right) + \\sqrt{2} \\sqrt{\\gamma} \\hat{\\tilde{b}}_{1}^{in}{\\left(t \\right)} - \\gamma \\hat{\\tilde{b}}_{1}{\\left(t \\right)}$"
     },
     "metadata": {}
    },
    {
     "output_type": "display_data",
     "data": {
      "text/plain": "<IPython.core.display.Math object>",
      "text/latex": "$\\displaystyle \\dot{\\hat{\\tilde{b}}}_{2} (t) = \\Gamma_{2} \\hat{\\tilde{b}}_{2}{\\left(t \\right)} - i \\chi_{1} \\hat{\\tilde{b}}_{1}{\\left(t \\right)} + \\eta_{1} \\left(\\sqrt{2} i \\sqrt{\\kappa} \\hat{\\tilde{a}}_{2}^{in}{\\left(t \\right)}^{\\dagger} + \\frac{\\sqrt{2} \\lambda \\hat{\\tilde{a}}_{1}^{in}{\\left(t \\right)}^{\\dagger}}{\\sqrt{\\kappa}}\\right) + \\sqrt{2} \\sqrt{\\gamma} \\hat{\\tilde{b}}_{2}^{in}{\\left(t \\right)} - \\gamma \\hat{\\tilde{b}}_{2}{\\left(t \\right)}$"
     },
     "metadata": {}
    }
   ],
   "source": [
    "# substitution list\n",
    "list_subs = [\n",
    "    (delta, 0),\n",
    "    (gamma_1, gamma),\n",
    "    (gamma_2, gamma),\n",
    "    (kappa_1, kappa),\n",
    "    (kappa_2, kappa)\n",
    "]\n",
    "# display\n",
    "display(Math(latex(gamma_1) + ' = ' + latex(gamma_2) + ' = ' + latex(gamma) + ', \\\\quad ' + latex(kappa_1) + ' = ' + latex(kappa_2) + ' = ' + latex(kappa) + ', \\\\quad ' + latex(delta) + ' = 0'))\n",
    "\n",
    "# substituted equations\n",
    "expr_db_1_tilde_dt_identical = expr_db_1_tilde_dt_subs.subs(list_subs)\n",
    "display(Math('\\\\dot{\\\\hat{\\\\tilde{b}}}_{1} (t) = ' + latex(expr_db_1_tilde_dt_identical.collect(eta_1))))\n",
    "expr_db_2_tilde_dt_identical = expr_db_2_tilde_dt_subs.subs(list_subs)\n",
    "display(Math('\\\\dot{\\\\hat{\\\\tilde{b}}}_{2} (t) = ' + latex(expr_db_2_tilde_dt_identical.collect(eta_2))))"
   ]
  },
  {
   "source": [
    "## Phonon Correlations"
   ],
   "cell_type": "markdown",
   "metadata": {}
  },
  {
   "cell_type": "code",
   "execution_count": 9,
   "metadata": {},
   "outputs": [
    {
     "output_type": "display_data",
     "data": {
      "text/plain": "<IPython.core.display.Math object>",
      "text/latex": "$\\displaystyle \\frac{d \\langle \\hat{\\tilde{b}}_{1}^{\\dagger} \\hat{\\tilde{b}}_{1} \\rangle}{d t} (t) = - i \\chi_{2} \\langle \\hat{\\tilde{b}}_{1}^{\\dagger} \\hat{\\tilde{b}}_{2} \\rangle{\\left(t \\right)} + i \\chi_{2} \\langle \\hat{\\tilde{b}}_{2}^{\\dagger} \\hat{\\tilde{b}}_{1} \\rangle{\\left(t \\right)} + \\left(2 \\Gamma_{1} - 2 \\gamma\\right) \\langle \\hat{\\tilde{b}}_{1}^{\\dagger} \\hat{\\tilde{b}}_{1} \\rangle{\\left(t \\right)}$"
     },
     "metadata": {}
    },
    {
     "output_type": "display_data",
     "data": {
      "text/plain": "<IPython.core.display.Math object>",
      "text/latex": "$\\displaystyle \\frac{d \\langle \\hat{\\tilde{b}}_{2}^{\\dagger} \\hat{\\tilde{b}}_{2} \\rangle}{d t} (t) = i \\chi_{1} \\langle \\hat{\\tilde{b}}_{1}^{\\dagger} \\hat{\\tilde{b}}_{2} \\rangle{\\left(t \\right)} - i \\chi_{1} \\langle \\hat{\\tilde{b}}_{2}^{\\dagger} \\hat{\\tilde{b}}_{1} \\rangle{\\left(t \\right)} + \\left(2 \\Gamma_{2} - 2 \\gamma\\right) \\langle \\hat{\\tilde{b}}_{2}^{\\dagger} \\hat{\\tilde{b}}_{2} \\rangle{\\left(t \\right)}$"
     },
     "metadata": {}
    },
    {
     "output_type": "display_data",
     "data": {
      "text/plain": "<IPython.core.display.Math object>",
      "text/latex": "$\\displaystyle \\frac{d \\langle \\hat{\\tilde{b}}_{1}^{\\dagger} \\hat{\\tilde{b}}_{2} \\rangle}{d t} (t) = - i \\chi_{1} \\langle \\hat{\\tilde{b}}_{1}^{\\dagger} \\hat{\\tilde{b}}_{1} \\rangle{\\left(t \\right)} + i \\chi_{2} \\langle \\hat{\\tilde{b}}_{2}^{\\dagger} \\hat{\\tilde{b}}_{2} \\rangle{\\left(t \\right)} + \\left(\\Gamma_{1} + \\Gamma_{2} - 2 \\gamma\\right) \\langle \\hat{\\tilde{b}}_{1}^{\\dagger} \\hat{\\tilde{b}}_{2} \\rangle{\\left(t \\right)}$"
     },
     "metadata": {}
    }
   ],
   "source": [
    "# substitution list\n",
    "list_subs = [\n",
    "    (a_in_1_tilde_t, 0),\n",
    "    (b_in_1_tilde_t, 0),\n",
    "    (a_in_2_tilde_t, 0),\n",
    "    (b_in_2_tilde_t, 0),\n",
    "    (Dagger(b_1_tilde_t) * b_1_tilde_t, b_1_tilde_dagger_b_1_tilde_expect_t),\n",
    "    (Dagger(b_1_tilde_t) * b_2_tilde_t, b_1_tilde_dagger_b_2_tilde_expect_t),\n",
    "    (Dagger(b_2_tilde_t) * b_1_tilde_t, b_2_tilde_dagger_b_1_tilde_expect_t),\n",
    "    (Dagger(b_2_tilde_t) * b_2_tilde_t, b_2_tilde_dagger_b_2_tilde_expect_t)\n",
    "]\n",
    "\n",
    "# intermode correlations\n",
    "expr_db_1_dagger_b_1_tilde_dt_expect = (Dagger(expr_db_1_tilde_dt_identical).doit() * b_1_tilde_t + Dagger(b_1_tilde_t) * expr_db_1_tilde_dt_identical).expand().subs(list_subs)\n",
    "display(Math('\\\\frac{d \\\\langle \\\\hat{\\\\tilde{b}}_{1}^{\\\\dagger} \\\\hat{\\\\tilde{b}}_{1} \\\\rangle}{d t} (t) = ' + latex(expr_db_1_dagger_b_1_tilde_dt_expect.collect(b_1_tilde_dagger_b_1_tilde_expect_t))))\n",
    "expr_db_2_dagger_b_2_tilde_dt_expect = (Dagger(expr_db_2_tilde_dt_identical).doit() * b_2_tilde_t + Dagger(b_2_tilde_t) * expr_db_2_tilde_dt_identical).expand().subs(list_subs)\n",
    "display(Math('\\\\frac{d \\\\langle \\\\hat{\\\\tilde{b}}_{2}^{\\\\dagger} \\\\hat{\\\\tilde{b}}_{2} \\\\rangle}{d t} (t) = ' + latex(expr_db_2_dagger_b_2_tilde_dt_expect.collect(b_2_tilde_dagger_b_2_tilde_expect_t))))\n",
    "expr_db_1_dagger_b_2_tilde_dt_expect = (Dagger(expr_db_1_tilde_dt_identical).doit() * b_2_tilde_t + Dagger(b_1_tilde_t) * expr_db_2_tilde_dt_identical).expand().subs(list_subs)\n",
    "display(Math('\\\\frac{d \\\\langle \\\\hat{\\\\tilde{b}}_{1}^{\\\\dagger} \\\\hat{\\\\tilde{b}}_{2} \\\\rangle}{d t} (t) = ' + latex(expr_db_1_dagger_b_2_tilde_dt_expect.collect(b_1_tilde_dagger_b_2_tilde_expect_t))))"
   ]
  }
 ],
 "metadata": {
  "kernelspec": {
   "name": "python3",
   "display_name": "Python 3.8.5 64-bit ('base': conda)"
  },
  "language_info": {
   "codemirror_mode": {
    "name": "ipython",
    "version": 3
   },
   "file_extension": ".py",
   "mimetype": "text/x-python",
   "name": "python",
   "nbconvert_exporter": "python",
   "pygments_lexer": "ipython3",
   "version": "3.8.5"
  },
  "interpreter": {
   "hash": "b3ba2566441a7c06988d0923437866b63cedc61552a5af99d1f4fb67d367b25f"
  }
 },
 "nbformat": 4,
 "nbformat_minor": 2
}