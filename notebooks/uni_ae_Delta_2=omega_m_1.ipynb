{
 "cells": [
  {
   "cell_type": "markdown",
   "metadata": {},
   "source": [
    "# Adiabatic Elimination for Bidirectional Configuration\n",
    "\n",
    "## Prerequisites"
   ]
  },
  {
   "cell_type": "code",
   "execution_count": 9,
   "metadata": {},
   "outputs": [],
   "source": [
    "# dependencies\n",
    "from IPython.display import display, Math\n",
    "from sympy import *\n",
    "from sympy.physics.quantum import Commutator, Dagger, Operator \n",
    "\n",
    "init_printing(use_latex=True)"
   ]
  },
  {
   "cell_type": "markdown",
   "metadata": {},
   "source": [
    "## Variables and Equations"
   ]
  },
  {
   "cell_type": "code",
   "execution_count": 10,
   "metadata": {},
   "outputs": [],
   "source": [
    "# parameters\n",
    "alpha_1, alpha_2, beta_1, beta_2 = symbols('alpha_1, alpha_2, beta_1, beta_2', complex=True)                \n",
    "kappa_1, kappa_2, gamma_1, gamma_2 = symbols('kappa_1, kappa_2, gamma_1, gamma_2', real=True, positive=True)\n",
    "omega_m_1, omega_m_2 = symbols('omega_m_1, omega_m_2', real=True, positive=True)                            \n",
    "Delta_1, Delta_2, g_1, g_2 = symbols('Delta_1, Delta_2, g_1, g_2', real=True)                               \n",
    "eta = symbols('eta', real=True, positive=True)                                                                    \n",
    "t = symbols('t', real=True, positive=True)                                                                                 \n",
    "# mode fluctuation operators\n",
    "a_1_t = Function('\\\\hat{a}_1')(t)\n",
    "a_2_t = Function('\\\\hat{a}_2')(t)\n",
    "b_1_t = Function('\\\\hat{b}_1')(t)\n",
    "b_2_t = Function('\\\\hat{b}_2')(t)\n",
    "\n",
    "# bath operators\n",
    "a_in_1_t = Function('\\\\hat{a}^{in}_1')(t)\n",
    "a_in_2_t = Function('\\\\hat{a}^{in}_2')(t)\n",
    "b_in_1_t = Function('\\\\hat{b}^{in}_1')(t)\n",
    "b_in_2_t = Function('\\\\hat{b}^{in}_2')(t)\n",
    "a_out_1_t = Function('\\\\hat{a}^{out}_1')(t)"
   ]
  },
  {
   "cell_type": "code",
   "execution_count": 11,
   "metadata": {},
   "outputs": [
    {
     "output_type": "display_data",
     "data": {
      "text/plain": "<IPython.core.display.Math object>",
      "text/latex": "$\\displaystyle \\dot{\\hat{a}}_1(t) = i \\alpha_{1} g_{1} \\left(\\hat{b}_1{\\left(t \\right)} + \\hat{b}_1{\\left(t \\right)}^{\\dagger}\\right) + \\sqrt{2} \\sqrt{\\kappa_{1}} \\hat{a}^{in}_1{\\left(t \\right)} + \\left(i \\Delta_{1} - \\kappa_{1}\\right) \\hat{a}_1{\\left(t \\right)}$"
     },
     "metadata": {}
    },
    {
     "output_type": "display_data",
     "data": {
      "text/plain": "<IPython.core.display.Math object>",
      "text/latex": "$\\displaystyle \\dot{\\hat{a}}_2(t) = i \\Delta_{2} \\hat{a}_2{\\left(t \\right)} + i \\alpha_{2} g_{2} \\hat{b}_2{\\left(t \\right)} + i \\alpha_{2} g_{2} \\hat{b}_2{\\left(t \\right)}^{\\dagger} - 2 \\sqrt{\\eta} \\sqrt{\\kappa_{1}} \\sqrt{\\kappa_{2}} \\hat{a}_1{\\left(t \\right)} + \\sqrt{2} \\sqrt{\\eta} \\sqrt{\\kappa_{2}} \\hat{a}^{in}_1{\\left(t \\right)} + \\sqrt{2} \\sqrt{\\kappa_{2}} \\sqrt{1 - \\eta} \\hat{a}^{in}_2{\\left(t \\right)} - \\kappa_{2} \\hat{a}_2{\\left(t \\right)}$"
     },
     "metadata": {}
    },
    {
     "output_type": "display_data",
     "data": {
      "text/plain": "<IPython.core.display.Math object>",
      "text/latex": "$\\displaystyle \\dot{\\hat{b}}_1(t) = i g_{1} \\left(\\alpha_{1} \\hat{a}_1{\\left(t \\right)}^{\\dagger} + \\hat{a}_1{\\left(t \\right)} \\overline{\\alpha_{1}}\\right) + \\sqrt{2} \\sqrt{\\gamma_{1}} \\hat{b}^{in}_1{\\left(t \\right)} + \\left(- \\gamma_{1} - i \\omega_{m 1}\\right) \\hat{b}_1{\\left(t \\right)}$"
     },
     "metadata": {}
    },
    {
     "output_type": "display_data",
     "data": {
      "text/plain": "<IPython.core.display.Math object>",
      "text/latex": "$\\displaystyle \\dot{\\hat{b}}_2(t) = i g_{2} \\left(\\alpha_{2} \\hat{a}_2{\\left(t \\right)}^{\\dagger} + \\hat{a}_2{\\left(t \\right)} \\overline{\\alpha_{2}}\\right) + \\sqrt{2} \\sqrt{\\gamma_{2}} \\hat{b}^{in}_2{\\left(t \\right)} + \\left(- \\gamma_{2} - i \\omega_{m 2}\\right) \\hat{b}_2{\\left(t \\right)}$"
     },
     "metadata": {}
    }
   ],
   "source": [
    "# rate equations\n",
    "da_1_dt = (- kappa_1 + I * Delta_1) * a_1_t + I * g_1 * alpha_1 * (Dagger(b_1_t) + b_1_t) + sqrt(2 * kappa_1) * a_in_1_t\n",
    "da_2_dt = (- kappa_2 + I * Delta_2) * a_2_t + I * g_2 * alpha_2 * (Dagger(b_2_t) + b_2_t) + sqrt(2 * kappa_2) * a_in_2_t\n",
    "db_1_dt = (- gamma_1 - I * omega_m_1) * b_1_t + I * g_1 * (conjugate(alpha_1) * a_1_t + Dagger(a_1_t) * alpha_1) + sqrt(2 * gamma_1) * b_in_1_t\n",
    "db_2_dt = (- gamma_2 - I * omega_m_2) * b_2_t + I * g_2 * (conjugate(alpha_2) * a_2_t + Dagger(a_2_t) * alpha_2) + sqrt(2 * gamma_2) * b_in_2_t\n",
    "\n",
    "# unidirectional transfer\n",
    "a_out_1 = a_in_1_t - sqrt(2 * kappa_1) * a_1_t\n",
    "a_in_2 = sqrt(eta) * a_out_1 + sqrt(1 - eta) * a_in_2_t \n",
    "\n",
    "# updated rate equations\n",
    "da_2_dt = da_2_dt.subs(a_in_2_t, a_in_2).expand()\n",
    "\n",
    "# display updated rate equations\n",
    "# remove Math function to display LaTeX script\n",
    "display(Math('\\\\dot{\\\\hat{a}}_1(t) = ' + latex(da_1_dt)))\n",
    "display(Math('\\\\dot{\\\\hat{a}}_2(t) = ' + latex(da_2_dt)))\n",
    "display(Math('\\\\dot{\\\\hat{b}}_1(t) = ' + latex(db_1_dt)))\n",
    "display(Math('\\\\dot{\\\\hat{b}}_2(t) = ' + latex(db_2_dt)))"
   ]
  },
  {
   "cell_type": "markdown",
   "metadata": {},
   "source": [
    "## Transformations"
   ]
  },
  {
   "cell_type": "code",
   "execution_count": 12,
   "metadata": {},
   "outputs": [],
   "source": [
    "# new operators\n",
    "a_1_tilde_t = Function('\\\\hat{\\\\tilde{a}}_1')(t)\n",
    "a_2_tilde_t = Function('\\\\hat{\\\\tilde{a}}_2')(t)\n",
    "b_1_tilde_t = Function('\\\\hat{\\\\tilde{b}}_1')(t)\n",
    "b_2_tilde_t = Function('\\\\hat{\\\\tilde{b}}_2')(t)\n",
    "\n",
    "# transformations\n",
    "a_1_tilde = a_1_t * E**(- I * Delta_1 * t)\n",
    "a_2_tilde = a_2_t * E**(- I * Delta_2 * t)\n",
    "b_1_tilde = b_1_t * E**(I * omega_m_1 * t)\n",
    "b_2_tilde = b_2_t * E**(I * omega_m_1 * t)"
   ]
  },
  {
   "cell_type": "code",
   "execution_count": 13,
   "metadata": {},
   "outputs": [
    {
     "output_type": "display_data",
     "data": {
      "text/plain": "<IPython.core.display.Math object>",
      "text/latex": "$\\displaystyle \\hat{\\tilde{a}}_1(t) = \\hat{a}_1{\\left(t \\right)} e^{- i \\Delta_{1} t}$"
     },
     "metadata": {}
    },
    {
     "output_type": "display_data",
     "data": {
      "text/plain": "<IPython.core.display.Math object>",
      "text/latex": "$\\displaystyle \\hat{\\tilde{a}}_2(t) = \\hat{a}_2{\\left(t \\right)} e^{- i \\Delta_{2} t}$"
     },
     "metadata": {}
    },
    {
     "output_type": "display_data",
     "data": {
      "text/plain": "<IPython.core.display.Math object>",
      "text/latex": "$\\displaystyle \\hat{\\tilde{b}}_1(t) = \\hat{b}_1{\\left(t \\right)} e^{i \\omega_{m 1} t}$"
     },
     "metadata": {}
    },
    {
     "output_type": "display_data",
     "data": {
      "text/plain": "<IPython.core.display.Math object>",
      "text/latex": "$\\displaystyle \\hat{\\tilde{b}}_2(t) = \\hat{b}_2{\\left(t \\right)} e^{i \\omega_{m 1} t}$"
     },
     "metadata": {}
    },
    {
     "output_type": "display_data",
     "data": {
      "text/plain": "<IPython.core.display.Math object>",
      "text/latex": "$\\displaystyle \\dot{\\hat{\\tilde{a}}}_1 = i \\alpha_{1} g_{1} \\hat{\\tilde{b}}_1{\\left(t \\right)} e^{- i \\Delta_{1} t} e^{- i \\omega_{m 1} t} + i \\alpha_{1} g_{1} e^{- i \\Delta_{1} t} e^{i \\omega_{m 1} t} \\hat{\\tilde{b}}_1{\\left(t \\right)}^{\\dagger} + \\sqrt{2} \\sqrt{\\kappa_{1}} \\hat{a}^{in}_1{\\left(t \\right)} e^{- i \\Delta_{1} t} - \\kappa_{1} \\hat{\\tilde{a}}_1{\\left(t \\right)}$"
     },
     "metadata": {}
    },
    {
     "output_type": "display_data",
     "data": {
      "text/plain": "<IPython.core.display.Math object>",
      "text/latex": "$\\displaystyle \\dot{\\hat{\\tilde{a}}}_2 = i \\alpha_{2} g_{2} \\hat{\\tilde{b}}_2{\\left(t \\right)} e^{- i \\Delta_{2} t} e^{- i \\omega_{m 1} t} + i \\alpha_{2} g_{2} e^{- i \\Delta_{2} t} e^{i \\omega_{m 1} t} \\hat{\\tilde{b}}_2{\\left(t \\right)}^{\\dagger} - 2 \\sqrt{\\eta} \\sqrt{\\kappa_{1}} \\sqrt{\\kappa_{2}} \\hat{\\tilde{a}}_1{\\left(t \\right)} e^{i \\Delta_{1} t} e^{- i \\Delta_{2} t} + \\sqrt{2} \\sqrt{\\eta} \\sqrt{\\kappa_{2}} \\hat{a}^{in}_1{\\left(t \\right)} e^{- i \\Delta_{2} t} + \\sqrt{2} \\sqrt{\\kappa_{2}} \\sqrt{1 - \\eta} \\hat{a}^{in}_2{\\left(t \\right)} e^{- i \\Delta_{2} t} - \\kappa_{2} \\hat{\\tilde{a}}_2{\\left(t \\right)}$"
     },
     "metadata": {}
    },
    {
     "output_type": "display_data",
     "data": {
      "text/plain": "<IPython.core.display.Math object>",
      "text/latex": "$\\displaystyle \\dot{\\hat{\\tilde{b}}}_1 = i \\alpha_{1} g_{1} e^{- i \\Delta_{1} t} e^{i \\omega_{m 1} t} \\hat{\\tilde{a}}_1{\\left(t \\right)}^{\\dagger} + i g_{1} \\hat{\\tilde{a}}_1{\\left(t \\right)} e^{i \\Delta_{1} t} e^{i \\omega_{m 1} t} \\overline{\\alpha_{1}} + \\sqrt{2} \\sqrt{\\gamma_{1}} \\hat{b}^{in}_1{\\left(t \\right)} e^{i \\omega_{m 1} t} - \\gamma_{1} \\hat{\\tilde{b}}_1{\\left(t \\right)}$"
     },
     "metadata": {}
    },
    {
     "output_type": "display_data",
     "data": {
      "text/plain": "<IPython.core.display.Math object>",
      "text/latex": "$\\displaystyle \\dot{\\hat{\\tilde{b}}}_2 = i \\alpha_{2} g_{2} e^{- i \\Delta_{2} t} e^{i \\omega_{m 1} t} \\hat{\\tilde{a}}_2{\\left(t \\right)}^{\\dagger} + i g_{2} \\hat{\\tilde{a}}_2{\\left(t \\right)} e^{i \\Delta_{2} t} e^{i \\omega_{m 1} t} \\overline{\\alpha_{2}} + \\sqrt{2} \\sqrt{\\gamma_{2}} \\hat{b}^{in}_2{\\left(t \\right)} e^{i \\omega_{m 1} t} - \\gamma_{2} \\hat{\\tilde{b}}_2{\\left(t \\right)} + i \\omega_{m 1} \\hat{\\tilde{b}}_2{\\left(t \\right)} - i \\omega_{m 2} \\hat{\\tilde{b}}_2{\\left(t \\right)}$"
     },
     "metadata": {}
    }
   ],
   "source": [
    "# substition list\n",
    "# optical modes\n",
    "sub_list = [(a_1_t, a_1_tilde_t * a_1_t / a_1_tilde), (a_2_t, a_2_tilde_t * a_2_t / a_2_tilde)]\n",
    "# mechanical modes\n",
    "sub_list.extend([(b_1_t, b_1_tilde_t * b_1_t / b_1_tilde), (b_2_t, b_2_tilde_t * b_2_t / b_2_tilde)])\n",
    "\n",
    "# new rate equations\n",
    "# 1st optical mode\n",
    "# differentiate and substitute rates in first step \n",
    "da_1_tilde_dt = diff(a_1_tilde, t).subs(diff(a_1_t), da_1_dt).expand()\n",
    "# substitute other variables in second step\n",
    "da_1_tilde_dt = da_1_tilde_dt.subs(a_1_tilde, a_1_tilde_t).subs(sub_list)\n",
    "# 2nd optical mode\n",
    "da_2_tilde_dt = diff(a_2_tilde, t).subs(diff(a_2_t), da_2_dt).expand()\n",
    "da_2_tilde_dt = da_2_tilde_dt.subs(a_2_tilde, a_2_tilde_t).subs(sub_list)\n",
    "# 1st mechanical mode\n",
    "db_1_tilde_dt = diff(b_1_tilde, t).subs(diff(b_1_t), db_1_dt).expand()\n",
    "db_1_tilde_dt = db_1_tilde_dt.subs(b_1_tilde, b_1_tilde_t).subs(sub_list)\n",
    "# 2nd mechanical mode\n",
    "db_2_tilde_dt = diff(b_2_tilde, t).subs(diff(b_2_t), db_2_dt).expand()\n",
    "db_2_tilde_dt = db_2_tilde_dt.subs(b_2_tilde, b_2_tilde_t).subs(sub_list)\n",
    "\n",
    "# display transformations\n",
    "display(Math('\\\\hat{\\\\tilde{a}}_1(t) = ' + latex(a_1_tilde)))\n",
    "display(Math('\\\\hat{\\\\tilde{a}}_2(t) = ' + latex(a_2_tilde)))\n",
    "display(Math('\\\\hat{\\\\tilde{b}}_1(t) = ' + latex(b_1_tilde)))\n",
    "display(Math('\\\\hat{\\\\tilde{b}}_2(t) = ' + latex(b_2_tilde)))\n",
    "\n",
    "# display new rate equations\n",
    "display(Math('\\\\dot{\\\\hat{\\\\tilde{a}}}_1 = ' + latex(da_1_tilde_dt)))\n",
    "display(Math('\\\\dot{\\\\hat{\\\\tilde{a}}}_2 = ' + latex(da_2_tilde_dt)))\n",
    "display(Math('\\\\dot{\\\\hat{\\\\tilde{b}}}_1 = ' + latex(db_1_tilde_dt)))\n",
    "display(Math('\\\\dot{\\\\hat{\\\\tilde{b}}}_2 = ' + latex(db_2_tilde_dt)))"
   ]
  },
  {
   "cell_type": "code",
   "execution_count": 14,
   "metadata": {},
   "outputs": [
    {
     "output_type": "display_data",
     "data": {
      "text/plain": "<IPython.core.display.Math object>",
      "text/latex": "$\\displaystyle \\dot{\\hat{\\tilde{a}}}_1 = i \\alpha_{1} g_{1} \\hat{\\tilde{b}}_1{\\left(t \\right)} e^{- 2 i \\omega_{m 1} t} + i \\alpha_{1} g_{1} \\hat{\\tilde{b}}_1{\\left(t \\right)}^{\\dagger} + \\sqrt{2} \\sqrt{\\kappa_{1}} \\hat{\\tilde{a}}^{in}_1{\\left(t \\right)} - \\kappa_{1} \\hat{\\tilde{a}}_1{\\left(t \\right)}$"
     },
     "metadata": {}
    },
    {
     "output_type": "display_data",
     "data": {
      "text/plain": "<IPython.core.display.Math object>",
      "text/latex": "$\\displaystyle \\dot{\\hat{\\tilde{a}}}_2 = i \\alpha_{2} g_{2} \\hat{\\tilde{b}}_2{\\left(t \\right)} e^{- 2 i \\omega_{m 1} t} + i \\alpha_{2} g_{2} \\hat{\\tilde{b}}_2{\\left(t \\right)}^{\\dagger} - 2 \\sqrt{\\eta} \\sqrt{\\kappa_{1}} \\sqrt{\\kappa_{2}} \\hat{\\tilde{a}}_1{\\left(t \\right)} + \\sqrt{2} \\sqrt{\\eta} \\sqrt{\\kappa_{2}} \\hat{\\tilde{a}}^{in}_1{\\left(t \\right)} + \\sqrt{2} \\sqrt{\\kappa_{2}} \\sqrt{1 - \\eta} \\hat{\\tilde{a}}^{in}_2{\\left(t \\right)} - \\kappa_{2} \\hat{\\tilde{a}}_2{\\left(t \\right)}$"
     },
     "metadata": {}
    },
    {
     "output_type": "display_data",
     "data": {
      "text/plain": "<IPython.core.display.Math object>",
      "text/latex": "$\\displaystyle \\dot{\\hat{\\tilde{b}}}_1 = i \\alpha_{1} g_{1} \\hat{\\tilde{a}}_1{\\left(t \\right)}^{\\dagger} + i g_{1} \\hat{\\tilde{a}}_1{\\left(t \\right)} e^{2 i \\omega_{m 1} t} \\overline{\\alpha_{1}} + \\sqrt{2} \\sqrt{\\gamma_{1}} \\hat{\\tilde{b}}^{in}_1{\\left(t \\right)} - \\gamma_{1} \\hat{\\tilde{b}}_1{\\left(t \\right)}$"
     },
     "metadata": {}
    },
    {
     "output_type": "display_data",
     "data": {
      "text/plain": "<IPython.core.display.Math object>",
      "text/latex": "$\\displaystyle \\dot{\\hat{\\tilde{b}}}_2 = i \\alpha_{2} g_{2} \\hat{\\tilde{a}}_2{\\left(t \\right)}^{\\dagger} + i g_{2} \\hat{\\tilde{a}}_2{\\left(t \\right)} e^{2 i \\omega_{m 1} t} \\overline{\\alpha_{2}} + \\sqrt{2} \\sqrt{\\gamma_{2}} \\hat{\\tilde{b}}^{in}_2{\\left(t \\right)} - \\gamma_{2} \\hat{\\tilde{b}}_2{\\left(t \\right)} + i \\omega_{m 1} \\hat{\\tilde{b}}_2{\\left(t \\right)} - i \\omega_{m 2} \\hat{\\tilde{b}}_2{\\left(t \\right)}$"
     },
     "metadata": {}
    }
   ],
   "source": [
    "# new bath operators\n",
    "a_in_1_tilde_t = Function('\\\\hat{\\\\tilde{a}}^{in}_1')(t)\n",
    "a_in_2_tilde_t = Function('\\\\hat{\\\\tilde{a}}^{in}_2')(t)\n",
    "b_in_1_tilde_t = Function('\\\\hat{\\\\tilde{b}}^{in}_1')(t)\n",
    "b_in_2_tilde_t = Function('\\\\hat{\\\\tilde{b}}^{in}_2')(t)\n",
    "\n",
    "# transformations\n",
    "a_in_1_tilde = a_in_1_t * E**(- I * omega_m_1 * t)\n",
    "a_in_2_tilde = a_in_2_t * E**(- I * omega_m_1 * t)\n",
    "b_in_1_tilde = b_in_1_t * E**(I * omega_m_1 * t)\n",
    "b_in_2_tilde = b_in_2_t * E**(I * omega_m_1 * t)\n",
    "\n",
    "# new rate equations\n",
    "sub_list = [(Delta_1, omega_m_1), (Delta_2, omega_m_1), (a_in_1_t, a_in_1_tilde_t * a_in_1_t / a_in_1_tilde), (a_in_2_t, a_in_2_tilde_t * a_in_2_t / a_in_2_tilde), (b_in_1_t, b_in_1_tilde_t * b_in_1_t / b_in_1_tilde), (b_in_2_t, b_in_2_tilde_t * b_in_2_t / b_in_2_tilde)]\n",
    "da_1_tilde_dt = da_1_tilde_dt.subs(sub_list)\n",
    "da_2_tilde_dt = da_2_tilde_dt.subs(sub_list)\n",
    "db_1_tilde_dt = db_1_tilde_dt.subs(sub_list)\n",
    "db_2_tilde_dt = db_2_tilde_dt.subs(sub_list)\n",
    "\n",
    "# display new rate equations\n",
    "display(Math('\\\\dot{\\\\hat{\\\\tilde{a}}}_1 = ' + latex(da_1_tilde_dt)))\n",
    "display(Math('\\\\dot{\\\\hat{\\\\tilde{a}}}_2 = ' + latex(da_2_tilde_dt)))\n",
    "display(Math('\\\\dot{\\\\hat{\\\\tilde{b}}}_1 = ' + latex(db_1_tilde_dt)))\n",
    "display(Math('\\\\dot{\\\\hat{\\\\tilde{b}}}_2 = ' + latex(db_2_tilde_dt)))\n"
   ]
  },
  {
   "cell_type": "code",
   "execution_count": 16,
   "metadata": {},
   "outputs": [
    {
     "output_type": "display_data",
     "data": {
      "text/plain": "<IPython.core.display.Math object>",
      "text/latex": "$\\displaystyle \\dot{\\hat{\\tilde{a}}}_1 = i G_{1} \\hat{\\tilde{b}}_1{\\left(t \\right)}^{\\dagger} + \\sqrt{2} \\sqrt{\\kappa_{1}} \\hat{\\tilde{a}}^{in}_1{\\left(t \\right)} - \\kappa_{1} \\hat{\\tilde{a}}_1{\\left(t \\right)}$"
     },
     "metadata": {}
    },
    {
     "output_type": "display_data",
     "data": {
      "text/plain": "<IPython.core.display.Math object>",
      "text/latex": "$\\displaystyle \\dot{\\hat{\\tilde{a}}}_2 = i G_{2} \\hat{\\tilde{b}}_2{\\left(t \\right)}^{\\dagger} - 2 \\sqrt{\\eta} \\sqrt{\\kappa_{1}} \\sqrt{\\kappa_{2}} \\hat{\\tilde{a}}_1{\\left(t \\right)} + \\sqrt{2} \\sqrt{\\eta} \\sqrt{\\kappa_{2}} \\hat{\\tilde{a}}^{in}_1{\\left(t \\right)} + \\sqrt{2} \\sqrt{\\kappa_{2}} \\sqrt{1 - \\eta} \\hat{\\tilde{a}}^{in}_2{\\left(t \\right)} - \\kappa_{2} \\hat{\\tilde{a}}_2{\\left(t \\right)}$"
     },
     "metadata": {}
    },
    {
     "output_type": "display_data",
     "data": {
      "text/plain": "<IPython.core.display.Math object>",
      "text/latex": "$\\displaystyle \\dot{\\hat{\\tilde{b}}}_1 = i G_{1} \\hat{\\tilde{a}}_1{\\left(t \\right)}^{\\dagger} + \\sqrt{2} \\sqrt{\\gamma_{1}} \\hat{\\tilde{b}}^{in}_1{\\left(t \\right)} - \\gamma_{1} \\hat{\\tilde{b}}_1{\\left(t \\right)}$"
     },
     "metadata": {}
    },
    {
     "output_type": "display_data",
     "data": {
      "text/plain": "<IPython.core.display.Math object>",
      "text/latex": "$\\displaystyle \\dot{\\hat{\\tilde{b}}}_2 = i G_{2} \\hat{\\tilde{a}}_2{\\left(t \\right)}^{\\dagger} - i \\delta \\hat{\\tilde{b}}_2{\\left(t \\right)} + \\sqrt{2} \\sqrt{\\gamma_{2}} \\hat{\\tilde{b}}^{in}_2{\\left(t \\right)} - \\gamma_{2} \\hat{\\tilde{b}}_2{\\left(t \\right)}$"
     },
     "metadata": {}
    }
   ],
   "source": [
    "# new parameters\n",
    "G_1, G_2 = symbols('G_1, G_2', complex=True)\n",
    "delta = symbols('delta', real=True)\n",
    "# substitution list\n",
    "sub_list = [(g_1 * alpha_1, G_1), (g_2 * alpha_2, G_2)]\n",
    "da_1_tilde_dt = da_1_tilde_dt.subs(sub_list)\n",
    "da_2_tilde_dt = da_2_tilde_dt.subs(sub_list)\n",
    "db_1_tilde_dt = db_1_tilde_dt.subs(sub_list)\n",
    "db_2_tilde_dt = collect(db_2_tilde_dt, I*b_2_tilde_t).subs(omega_m_2 - omega_m_1, delta)\n",
    "db_2_tilde_dt = db_2_tilde_dt.subs(sub_list)\n",
    "# ignore higher order oscillating terms\n",
    "da_1_tilde_dt = da_1_tilde_dt.subs(E**(- I * omega_m_1 * t), 0)\n",
    "da_2_tilde_dt = da_2_tilde_dt.subs(E**(- I * omega_m_1 * t), 0)\n",
    "db_1_tilde_dt = db_1_tilde_dt.subs(E**(I * omega_m_1 * t), 0)\n",
    "db_2_tilde_dt = db_2_tilde_dt.subs(E**(I * omega_m_1 * t), 0)\n",
    "# display new rate equations\n",
    "display(Math('\\\\dot{\\\\hat{\\\\tilde{a}}}_1 = ' + latex(da_1_tilde_dt)))\n",
    "display(Math('\\\\dot{\\\\hat{\\\\tilde{a}}}_2 = ' + latex(da_2_tilde_dt)))\n",
    "display(Math('\\\\dot{\\\\hat{\\\\tilde{b}}}_1 = ' + latex(db_1_tilde_dt)))\n",
    "display(Math('\\\\dot{\\\\hat{\\\\tilde{b}}}_2 = ' + latex(db_2_tilde_dt)))"
   ]
  },
  {
   "cell_type": "markdown",
   "metadata": {},
   "source": [
    "## Adiabatic Elimination"
   ]
  },
  {
   "cell_type": "code",
   "execution_count": 17,
   "metadata": {},
   "outputs": [
    {
     "output_type": "display_data",
     "data": {
      "text/plain": "<IPython.core.display.Math object>",
      "text/latex": "$\\displaystyle \\hat{\\tilde{a}}_1 = \\frac{i G_{1} \\hat{\\tilde{b}}_1{\\left(t \\right)}^{\\dagger} + \\sqrt{2} \\sqrt{\\kappa_{1}} \\hat{\\tilde{a}}^{in}_1{\\left(t \\right)}}{\\kappa_{1}}$"
     },
     "metadata": {}
    },
    {
     "output_type": "display_data",
     "data": {
      "text/plain": "<IPython.core.display.Math object>",
      "text/latex": "$\\displaystyle \\hat{\\tilde{a}}_2 = - \\frac{2 i G_{1} \\sqrt{\\eta} \\hat{\\tilde{b}}_1{\\left(t \\right)}^{\\dagger}}{\\sqrt{\\kappa_{1}} \\sqrt{\\kappa_{2}}} + \\frac{i G_{2} \\hat{\\tilde{b}}_2{\\left(t \\right)}^{\\dagger}}{\\kappa_{2}} - \\frac{\\sqrt{2} \\sqrt{\\eta} \\hat{\\tilde{a}}^{in}_1{\\left(t \\right)}}{\\sqrt{\\kappa_{2}}} + \\frac{\\sqrt{2} \\sqrt{1 - \\eta} \\hat{\\tilde{a}}^{in}_2{\\left(t \\right)}}{\\sqrt{\\kappa_{2}}}$"
     },
     "metadata": {}
    }
   ],
   "source": [
    "# obtain solutions for optical modes\n",
    "sols = solve([da_2_tilde_dt, da_1_tilde_dt], [a_2_tilde_t, a_1_tilde_t])\n",
    "a_1_tilde_adia = sols[a_1_tilde_t]\n",
    "a_2_tilde_adia = sols[a_2_tilde_t]\n",
    "# display solutions\n",
    "display(Math('\\\\hat{\\\\tilde{a}}_1 = ' + latex(a_1_tilde_adia)))\n",
    "display(Math('\\\\hat{\\\\tilde{a}}_2 = ' + latex(a_2_tilde_adia)))"
   ]
  },
  {
   "cell_type": "code",
   "execution_count": 18,
   "metadata": {},
   "outputs": [
    {
     "output_type": "display_data",
     "data": {
      "text/plain": "<IPython.core.display.Math object>",
      "text/latex": "$\\displaystyle \\dot{\\hat{\\tilde{b}}}_1 = \\frac{\\sqrt{2} i G_{1} \\hat{\\tilde{a}}^{in}_1{\\left(t \\right)}^{\\dagger}}{\\sqrt{\\kappa_{1}}} + \\sqrt{2} \\sqrt{\\gamma_{1}} \\hat{\\tilde{b}}^{in}_1{\\left(t \\right)} + \\left(\\frac{G_{1} \\overline{G_{1}}}{\\kappa_{1}} - \\gamma_{1}\\right) \\hat{\\tilde{b}}_1{\\left(t \\right)}$"
     },
     "metadata": {}
    },
    {
     "output_type": "display_data",
     "data": {
      "text/plain": "<IPython.core.display.Math object>",
      "text/latex": "$\\displaystyle \\dot{\\hat{\\tilde{b}}}_2 = - \\frac{\\sqrt{2} i G_{2} \\sqrt{\\eta} \\hat{\\tilde{a}}^{in}_1{\\left(t \\right)}^{\\dagger}}{\\sqrt{\\kappa_{2}}} - \\frac{2 G_{2} \\sqrt{\\eta} \\hat{\\tilde{b}}_1{\\left(t \\right)} \\overline{G_{1}}}{\\sqrt{\\kappa_{1}} \\sqrt{\\kappa_{2}}} + \\frac{\\sqrt{2} i G_{2} \\overline{\\sqrt{1 - \\eta}} \\hat{\\tilde{a}}^{in}_2{\\left(t \\right)}^{\\dagger}}{\\sqrt{\\kappa_{2}}} + \\sqrt{2} \\sqrt{\\gamma_{2}} \\hat{\\tilde{b}}^{in}_2{\\left(t \\right)} + \\left(\\frac{G_{2} \\overline{G_{2}}}{\\kappa_{2}} - i \\delta - \\gamma_{2}\\right) \\hat{\\tilde{b}}_2{\\left(t \\right)}$"
     },
     "metadata": {}
    }
   ],
   "source": [
    "# substitution list\n",
    "sub_list = [(a_1_tilde_t, a_1_tilde_adia), (a_2_tilde_t, a_2_tilde_adia)]\n",
    "# new mechanical mode equations\n",
    "db_1_tilde_dt = db_1_tilde_dt.subs(sub_list).expand().collect([b_1_tilde_t, b_2_tilde_t])\n",
    "db_2_tilde_dt = db_2_tilde_dt.subs(sub_list).expand().collect([b_1_tilde_t, b_2_tilde_t])\n",
    "# display new mechanical mode equations\n",
    "display(Math('\\\\dot{\\\\hat{\\\\tilde{b}}}_1 = ' + latex(db_1_tilde_dt)))\n",
    "display(Math('\\\\dot{\\\\hat{\\\\tilde{b}}}_2 = ' + latex(db_2_tilde_dt)))"
   ]
  },
  {
   "cell_type": "code",
   "execution_count": 24,
   "metadata": {},
   "outputs": [
    {
     "output_type": "display_data",
     "data": {
      "text/plain": "<IPython.core.display.Math object>",
      "text/latex": "$\\displaystyle \\Gamma_1 = \\frac{G_{1} \\overline{G_{1}}}{\\kappa_{1}}, \\Gamma_2 = \\frac{G_{2} \\overline{G_{2}}}{\\kappa_{2}}$"
     },
     "metadata": {}
    },
    {
     "output_type": "display_data",
     "data": {
      "text/plain": "<IPython.core.display.Math object>",
      "text/latex": "$\\displaystyle \\chi_1 = \\frac{2 G_{1} \\sqrt{\\eta} \\overline{G_{2}}}{\\sqrt{\\kappa_{1}} \\sqrt{\\kappa_{2}}}, \\chi_2 = \\frac{2 G_{2} \\sqrt{\\eta} \\overline{G_{1}}}{\\sqrt{\\kappa_{1}} \\sqrt{\\kappa_{2}}}$"
     },
     "metadata": {}
    },
    {
     "output_type": "display_data",
     "data": {
      "text/plain": "<IPython.core.display.Math object>",
      "text/latex": "$\\displaystyle \\dot{\\hat{\\tilde{b}}}_1 = \\frac{\\sqrt{2} i G_{1} \\hat{\\tilde{a}}^{in}_1{\\left(t \\right)}^{\\dagger}}{\\sqrt{\\kappa_{1}}} + \\sqrt{2} \\sqrt{\\gamma_{1}} \\hat{\\tilde{b}}^{in}_1{\\left(t \\right)} + \\left(\\Gamma_{1} - \\gamma_{1}\\right) \\hat{\\tilde{b}}_1{\\left(t \\right)}$"
     },
     "metadata": {}
    },
    {
     "output_type": "display_data",
     "data": {
      "text/plain": "<IPython.core.display.Math object>",
      "text/latex": "$\\displaystyle \\dot{\\hat{\\tilde{b}}}_2 = \\frac{\\sqrt{2} i G_{2} \\left(- \\sqrt{\\eta} \\hat{\\tilde{a}}^{in}_1{\\left(t \\right)}^{\\dagger} + \\sqrt{1 - \\eta} \\hat{\\tilde{a}}^{in}_2{\\left(t \\right)}^{\\dagger}\\right)}{\\sqrt{\\kappa_{2}}} - \\chi_{2} \\hat{\\tilde{b}}_1{\\left(t \\right)} + \\sqrt{2} \\sqrt{\\gamma_{2}} \\hat{\\tilde{b}}^{in}_2{\\left(t \\right)} + \\left(\\Gamma_{2} - i \\delta - \\gamma_{2}\\right) \\hat{\\tilde{b}}_2{\\left(t \\right)}$"
     },
     "metadata": {}
    }
   ],
   "source": [
    "# new parameters\n",
    "Gamma_1, Gamma_2 = symbols('Gamma_1, Gamma_2', real=True, positive=True)\n",
    "chi_1, chi_2 = symbols('chi_1, chi_2', complex=True) \n",
    "\n",
    "# parameter values\n",
    "exp_Gamma_1 = G_1 * conjugate(G_1) / kappa_1\n",
    "exp_Gamma_2 = G_2 * conjugate(G_2) / kappa_2\n",
    "exp_chi_1 = 2 * G_1 * conjugate(G_2) * sqrt(eta) / sqrt(kappa_1 * kappa_2)\n",
    "exp_chi_2 = 2 * G_2 * conjugate(G_1) * sqrt(eta) / sqrt(kappa_1 * kappa_2)\n",
    "\n",
    "# substitution list\n",
    "# new decay rates\n",
    "sub_list = [(exp_Gamma_1, Gamma_1), (exp_Gamma_2, Gamma_2), (conjugate(sqrt(1 - eta)), sqrt(1 - eta))]\n",
    "# new coupling strengths\n",
    "sub_list.extend([(exp_chi_1, chi_1), (exp_chi_2, chi_2)])\n",
    "# new mechanical mode equations\n",
    "db_1_tilde_dt = db_1_tilde_dt.subs(sub_list)\n",
    "db_2_tilde_dt = db_2_tilde_dt.subs(sub_list).collect(- I * sqrt(2 / kappa_2) * G_2)\n",
    "\n",
    "# display new parameters\n",
    "display(Math('\\Gamma_1 = ' + latex(exp_Gamma_1) + ', \\Gamma_2 = ' + latex(exp_Gamma_2)))\n",
    "display(Math('\\chi_1 = ' + latex(exp_chi_1) + ', \\chi_2 = ' + latex(exp_chi_2)))\n",
    "\n",
    "# display new mechanical mode equations\n",
    "display(Math('\\\\dot{\\\\hat{\\\\tilde{b}}}_1 = ' + latex(db_1_tilde_dt)))\n",
    "display(Math('\\\\dot{\\\\hat{\\\\tilde{b}}}_2 = ' + latex(db_2_tilde_dt)))"
   ]
  },
  {
   "cell_type": "code",
   "execution_count": null,
   "metadata": {},
   "outputs": [],
   "source": []
  }
 ],
 "metadata": {
  "kernelspec": {
   "display_name": "Python 3.7.6 64-bit ('base': conda)",
   "language": "python",
   "name": "python37664bitbasecondab2019f08627a42e98f52679f186c74d3"
  },
  "language_info": {
   "codemirror_mode": {
    "name": "ipython",
    "version": 3
   },
   "file_extension": ".py",
   "mimetype": "text/x-python",
   "name": "python",
   "nbconvert_exporter": "python",
   "pygments_lexer": "ipython3",
   "version": "3.7.6-final"
  }
 },
 "nbformat": 4,
 "nbformat_minor": 2
}