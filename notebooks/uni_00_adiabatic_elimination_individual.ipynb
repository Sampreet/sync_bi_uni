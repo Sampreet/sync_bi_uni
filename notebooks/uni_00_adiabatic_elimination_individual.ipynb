{
 "cells": [
  {
   "cell_type": "markdown",
   "metadata": {},
   "source": [
    "# Adiabatic Elimination for Unidirectionally-coupled Configuration"
   ]
  },
  {
   "source": [
    "## Initialization"
   ],
   "cell_type": "markdown",
   "metadata": {}
  },
  {
   "cell_type": "code",
   "execution_count": 1,
   "metadata": {},
   "outputs": [],
   "source": [
    "# dependencies\n",
    "from IPython.display import display, Math\n",
    "from sympy import init_printing, latex\n",
    "from sympy import conjugate, cos, diff, E, Function, I, Matrix, Symbol, sin, solve, sqrt, symbols\n",
    "from sympy.physics.quantum import Dagger, hbar\n",
    "# use mathjax renderer for faster load times\n",
    "init_printing(use_latex='mathjax')"
   ]
  },
  {
   "cell_type": "code",
   "execution_count": 2,
   "metadata": {},
   "outputs": [],
   "source": [
    "# time\n",
    "t = symbols('t', real=True, positive=True)\n",
    "# positive parameters\n",
    "eta, g_1, g_2, gamma_1, gamma_2, kappa_1, kappa_2, omega_1, omega_2 = symbols('\\\\eta, g_{1}, g_{2}, \\\\gamma_{1}, \\\\gamma_{2}, \\\\kappa_{1}, \\\\kappa_{2}, \\\\omega_{1}, \\\\omega_{2}', real=True, positive=True)\n",
    "# real-valued parameters\n",
    "Delta_1, Delta_2 = symbols('\\\\Delta_{1}, \\\\Delta_{2}', real=True) \n",
    "# transformed parameters\n",
    "Gamma_1, Gamma_2, gamma, kappa, n_th = symbols('\\\\Gamma_{1}, \\\\Gamma_{2}, \\\\gamma, \\\\kappa, n_{th}', real=True, positive=True)\n",
    "delta = symbols('delta', real=True)\n",
    "chi_1, chi_2, eta_1, eta_2, G_1, G_2 = symbols('\\\\chi_{1}, \\\\chi_{2}, \\\\eta_{1}, \\\\eta_{2}, G_{1}, G_{2}', complex=True)\n",
    "chi_1R, chi_1I, chi_2R, chi_2I, eta_1R, eta_1I, eta_2R, eta_2I = symbols('\\\\chi_{1R}, \\\\chi_{1I}, \\\\chi_{2R}, \\\\chi_{2I}, \\\\eta_{1R}, \\\\eta_{1I}, \\\\eta_{2R}, \\\\eta_{2I}', real=True)\n",
    "chi_1_plus, chi_1_minus, eta_2_plus, eta_2_minus = symbols('\\\\chi_{1}^{+}, \\\\chi_{1}^{-}, \\\\eta_{2}^{+}, \\\\eta_{2}^{-}', real=True)\n",
    "\n",
    "# classical amplitudes\n",
    "alpha_1, alpha_2, beta_1, beta_2 = symbols('\\\\alpha_{1}, \\\\alpha_{2}, \\\\beta_{1}, \\\\beta_{2}', complex=True)\n",
    "# quantum fluctuations\n",
    "a_1_t = Function('\\\\hat{a}_{1}', commutative=False)(t)\n",
    "b_1_t = Function('\\\\hat{b}_{1}', commutative=False)(t)\n",
    "a_2_t = Function('\\\\hat{a}_{2}', commutative=False)(t)\n",
    "b_2_t = Function('\\\\hat{b}_{2}', commutative=False)(t)\n",
    "# input noises\n",
    "a_1_in_t = Function('\\\\hat{a}_{1}^{in}', commutative=False)(t)\n",
    "b_1_in_t = Function('\\\\hat{b}_{1}^{in}', commutative=False)(t)\n",
    "a_2_in_t = Function('\\\\hat{a}_{2}^{in}', commutative=False)(t)\n",
    "b_2_in_t = Function('\\\\hat{b}_{2}^{in}', commutative=False)(t)\n",
    "\n",
    "# transformed fluctuations\n",
    "a_1_tilde_t = Function('\\\\hat{\\\\tilde{a}}_{1}', commutative=False)(t)\n",
    "b_1_tilde_t = Function('\\\\hat{\\\\tilde{b}}_{1}', commutative=False)(t)\n",
    "a_2_tilde_t = Function('\\\\hat{\\\\tilde{a}}_{2}', commutative=False)(t)\n",
    "b_2_tilde_t = Function('\\\\hat{\\\\tilde{b}}_{2}', commutative=False)(t)\n",
    "# transformed noises# new bath operators\n",
    "a_1_in_tilde_t = Function('\\\\hat{\\\\tilde{a}}_{1}^{in}', commutative=False)(t)\n",
    "b_1_in_tilde_t = Function('\\\\hat{\\\\tilde{b}}_{1}^{in}', commutative=False)(t)\n",
    "a_2_in_tilde_t = Function('\\\\hat{\\\\tilde{a}}_{2}^{in}', commutative=False)(t)\n",
    "b_2_in_tilde_t = Function('\\\\hat{\\\\tilde{b}}_{2}^{in}', commutative=False)(t)\n",
    "\n",
    "# rotated mechanical quadratures\n",
    "Q_1_tilde_t = Function('\\\\hat{\\\\tilde{Q}}_{1}', commutative=False)(t)\n",
    "P_1_tilde_t = Function('\\\\hat{\\\\tilde{P}}_{1}', commutative=False)(t)\n",
    "Q_2_tilde_t = Function('\\\\hat{\\\\tilde{Q}}_{2}', commutative=False)(t)\n",
    "P_2_tilde_t = Function('\\\\hat{\\\\tilde{P}}_{2}', commutative=False)(t)\n",
    "# rotated noise quadratures\n",
    "X_1_in_tilde_t = Function('\\\\hat{\\\\tilde{X}}_{1}^{in}', commutative=False)(t)\n",
    "Y_1_in_tilde_t = Function('\\\\hat{\\\\tilde{Y}}_{1}^{in}', commutative=False)(t)\n",
    "Q_1_in_tilde_t = Function('\\\\hat{\\\\tilde{Q}}_{1}^{in}', commutative=False)(t)\n",
    "P_1_in_tilde_t = Function('\\\\hat{\\\\tilde{P}}_{1}^{in}', commutative=False)(t)\n",
    "X_2_in_tilde_t = Function('\\\\hat{\\\\tilde{X}}_{2}^{in}', commutative=False)(t)\n",
    "Y_2_in_tilde_t = Function('\\\\hat{\\\\tilde{Y}}_{2}^{in}', commutative=False)(t)\n",
    "Q_2_in_tilde_t = Function('\\\\hat{\\\\tilde{Q}}_{2}^{in}', commutative=False)(t)\n",
    "P_2_in_tilde_t = Function('\\\\hat{\\\\tilde{P}}_{2}^{in}', commutative=False)(t)"
   ]
  },
  {
   "source": [
    "## Quantum Langevin Equations"
   ],
   "cell_type": "markdown",
   "metadata": {}
  },
  {
   "cell_type": "code",
   "execution_count": 3,
   "metadata": {},
   "outputs": [
    {
     "output_type": "display_data",
     "data": {
      "text/plain": "<IPython.core.display.Math object>",
      "text/latex": "$\\displaystyle \\dot{\\hat{a}}_{1} (t) = i \\alpha_{1} g_{1} \\left(\\hat{b}_{1}{\\left(t \\right)} + \\hat{b}_{1}{\\left(t \\right)}^{\\dagger}\\right) + \\sqrt{2} \\sqrt{\\kappa_{1}} \\hat{a}_{1}^{in}{\\left(t \\right)} + \\left(i \\Delta_{1} - \\kappa_{1}\\right) \\hat{a}_{1}{\\left(t \\right)}$"
     },
     "metadata": {}
    },
    {
     "output_type": "display_data",
     "data": {
      "text/plain": "<IPython.core.display.Math object>",
      "text/latex": "$\\displaystyle \\dot{\\hat{b}}_{1} (t) = \\sqrt{2} \\sqrt{\\gamma_{1}} \\hat{b}_{1}^{in}{\\left(t \\right)} + i g_{1} \\left(\\alpha_{1} \\hat{a}_{1}{\\left(t \\right)}^{\\dagger} + \\overline{\\alpha_{1}} \\hat{a}_{1}{\\left(t \\right)}\\right) + \\left(- \\gamma_{1} - i \\omega_{1}\\right) \\hat{b}_{1}{\\left(t \\right)}$"
     },
     "metadata": {}
    },
    {
     "output_type": "display_data",
     "data": {
      "text/plain": "<IPython.core.display.Math object>",
      "text/latex": "$\\displaystyle \\dot{\\hat{a}}_{2} (t) = i \\Delta_{2} \\hat{a}_{2}{\\left(t \\right)} + i \\alpha_{2} g_{2} \\hat{b}_{2}{\\left(t \\right)} + i \\alpha_{2} g_{2} \\hat{b}_{2}{\\left(t \\right)}^{\\dagger} - 2 \\sqrt{\\eta} \\sqrt{\\kappa_{1}} \\sqrt{\\kappa_{2}} \\hat{a}_{1}{\\left(t \\right)} + \\sqrt{2} \\sqrt{\\eta} \\sqrt{\\kappa_{2}} \\hat{a}_{1}^{in}{\\left(t \\right)} + \\sqrt{2} \\sqrt{\\kappa_{2}} \\sqrt{1 - \\eta} \\hat{a}_{2}^{in}{\\left(t \\right)} - \\kappa_{2} \\hat{a}_{2}{\\left(t \\right)}$"
     },
     "metadata": {}
    },
    {
     "output_type": "display_data",
     "data": {
      "text/plain": "<IPython.core.display.Math object>",
      "text/latex": "$\\displaystyle \\dot{\\hat{b}}_{2} (t) = \\sqrt{2} \\sqrt{\\gamma_{2}} \\hat{b}_{2}^{in}{\\left(t \\right)} + i g_{2} \\left(\\alpha_{2} \\hat{a}_{2}{\\left(t \\right)}^{\\dagger} + \\overline{\\alpha_{2}} \\hat{a}_{2}{\\left(t \\right)}\\right) + \\left(- \\gamma_{2} - i \\omega_{2}\\right) \\hat{b}_{2}{\\left(t \\right)}$"
     },
     "metadata": {}
    }
   ],
   "source": [
    "# rate equations\n",
    "expr_da_1_dt = (- kappa_1 + I * Delta_1) * a_1_t + I * g_1 * alpha_1 * (Dagger(b_1_t) + b_1_t) + sqrt(2 * kappa_1) * a_1_in_t\n",
    "expr_db_1_dt = (- gamma_1 - I * omega_1) * b_1_t + I * g_1 * (conjugate(alpha_1) * a_1_t + Dagger(a_1_t) * alpha_1) + sqrt(2 * gamma_1) * b_1_in_t\n",
    "expr_da_2_dt = (- kappa_2 + I * Delta_2) * a_2_t + I * g_2 * alpha_2 * (Dagger(b_2_t) + b_2_t) + sqrt(2 * kappa_2) * a_2_in_t\n",
    "expr_db_2_dt = (- gamma_2 - I * omega_2) * b_2_t + I * g_2 * (conjugate(alpha_2) * a_2_t + Dagger(a_2_t) * alpha_2) + sqrt(2 * gamma_2) * b_2_in_t\n",
    "\n",
    "# unidirectional transfer\n",
    "expr_a_1_out_t = a_1_in_t - sqrt(2 * kappa_1) * a_1_t\n",
    "expr_a_2_in_t = sqrt(eta) * expr_a_1_out_t + sqrt(1 - eta) * a_2_in_t \n",
    "# updated rate equations\n",
    "expr_da_2_dt = expr_da_2_dt.subs(a_2_in_t, expr_a_2_in_t).expand()\n",
    "# display rate equations\n",
    "# remove Math function to display LaTeX script\n",
    "display(Math('\\\\dot{\\\\hat{a}}_{1} (t) = ' + latex(expr_da_1_dt)))\n",
    "display(Math('\\\\dot{\\\\hat{b}}_{1} (t) = ' + latex(expr_db_1_dt)))\n",
    "display(Math('\\\\dot{\\\\hat{a}}_{2} (t) = ' + latex(expr_da_2_dt)))\n",
    "display(Math('\\\\dot{\\\\hat{b}}_{2} (t) = ' + latex(expr_db_2_dt)))"
   ]
  },
  {
   "cell_type": "markdown",
   "metadata": {},
   "source": [
    "## Transformations"
   ]
  },
  {
   "cell_type": "code",
   "execution_count": 4,
   "metadata": {},
   "outputs": [
    {
     "output_type": "display_data",
     "data": {
      "text/plain": "<IPython.core.display.Math object>",
      "text/latex": "$\\displaystyle \\hat{\\tilde{a}}_{1}{\\left(t \\right)} = e^{- i \\Delta_{1} t} \\hat{a}_{1}{\\left(t \\right)}, \\quad \\hat{\\tilde{b}}_{1}{\\left(t \\right)} = e^{i \\omega_{1} t} \\hat{b}_{1}{\\left(t \\right)}$"
     },
     "metadata": {}
    },
    {
     "output_type": "display_data",
     "data": {
      "text/plain": "<IPython.core.display.Math object>",
      "text/latex": "$\\displaystyle \\hat{\\tilde{a}}_{2}{\\left(t \\right)} = e^{- i \\Delta_{2} t} \\hat{a}_{2}{\\left(t \\right)}, \\quad \\hat{\\tilde{b}}_{2}{\\left(t \\right)} = e^{i \\omega_{2} t} \\hat{b}_{2}{\\left(t \\right)}$"
     },
     "metadata": {}
    },
    {
     "output_type": "display_data",
     "data": {
      "text/plain": "<IPython.core.display.Math object>",
      "text/latex": "$\\displaystyle \\Delta_{1} = \\omega_{1}, \\quad \\Delta_{2} = \\omega_{2}$"
     },
     "metadata": {}
    },
    {
     "output_type": "display_data",
     "data": {
      "text/plain": "<IPython.core.display.Math object>",
      "text/latex": "$\\displaystyle \\hat{\\tilde{a}}_{1}^{in}{\\left(t \\right)} = e^{- i \\Delta_{1} t} \\hat{a}_{1}^{in}{\\left(t \\right)}, \\quad \\hat{\\tilde{b}}_{1}^{in}{\\left(t \\right)} = e^{i \\omega_{1} t} \\hat{b}_{1}^{in}{\\left(t \\right)}$"
     },
     "metadata": {}
    },
    {
     "output_type": "display_data",
     "data": {
      "text/plain": "<IPython.core.display.Math object>",
      "text/latex": "$\\displaystyle \\hat{\\tilde{a}}_{2}^{in}{\\left(t \\right)} = e^{- i \\Delta_{2} t} \\hat{a}_{2}^{in}{\\left(t \\right)}, \\quad \\hat{\\tilde{b}}_{2}^{in}{\\left(t \\right)} = e^{i \\omega_{2} t} \\hat{b}_{2}^{in}{\\left(t \\right)}$"
     },
     "metadata": {}
    },
    {
     "output_type": "display_data",
     "data": {
      "text/plain": "<IPython.core.display.Math object>",
      "text/latex": "$\\displaystyle \\dot{\\hat{\\tilde{a}}}_{1} (t) = i \\alpha_{1} g_{1} \\hat{\\tilde{b}}_{1}{\\left(t \\right)}^{\\dagger} + i \\alpha_{1} g_{1} e^{- 2 i \\omega_{1} t} \\hat{\\tilde{b}}_{1}{\\left(t \\right)} + \\sqrt{2} \\sqrt{\\kappa_{1}} \\hat{\\tilde{a}}_{1}^{in}{\\left(t \\right)} - \\kappa_{1} \\hat{\\tilde{a}}_{1}{\\left(t \\right)}$"
     },
     "metadata": {}
    },
    {
     "output_type": "display_data",
     "data": {
      "text/plain": "<IPython.core.display.Math object>",
      "text/latex": "$\\displaystyle \\dot{\\hat{\\tilde{b}}}_{1} (t) = i \\alpha_{1} g_{1} \\hat{\\tilde{a}}_{1}{\\left(t \\right)}^{\\dagger} + \\sqrt{2} \\sqrt{\\gamma_{1}} \\hat{\\tilde{b}}_{1}^{in}{\\left(t \\right)} - \\gamma_{1} \\hat{\\tilde{b}}_{1}{\\left(t \\right)} + i g_{1} e^{2 i \\omega_{1} t} \\overline{\\alpha_{1}} \\hat{\\tilde{a}}_{1}{\\left(t \\right)}$"
     },
     "metadata": {}
    },
    {
     "output_type": "display_data",
     "data": {
      "text/plain": "<IPython.core.display.Math object>",
      "text/latex": "$\\displaystyle \\dot{\\hat{\\tilde{a}}}_{2} (t) = i \\alpha_{2} g_{2} \\hat{\\tilde{b}}_{2}{\\left(t \\right)}^{\\dagger} + i \\alpha_{2} g_{2} e^{- 2 i \\omega_{2} t} \\hat{\\tilde{b}}_{2}{\\left(t \\right)} - 2 \\sqrt{\\eta} \\sqrt{\\kappa_{1}} \\sqrt{\\kappa_{2}} e^{i \\omega_{1} t} e^{- i \\omega_{2} t} \\hat{\\tilde{a}}_{1}{\\left(t \\right)} + \\sqrt{2} \\sqrt{\\eta} \\sqrt{\\kappa_{2}} e^{i \\omega_{1} t} e^{- i \\omega_{2} t} \\hat{\\tilde{a}}_{1}^{in}{\\left(t \\right)} + \\sqrt{2} \\sqrt{\\kappa_{2}} \\sqrt{1 - \\eta} \\hat{\\tilde{a}}_{2}^{in}{\\left(t \\right)} - \\kappa_{2} \\hat{\\tilde{a}}_{2}{\\left(t \\right)}$"
     },
     "metadata": {}
    },
    {
     "output_type": "display_data",
     "data": {
      "text/plain": "<IPython.core.display.Math object>",
      "text/latex": "$\\displaystyle \\dot{\\hat{\\tilde{b}}}_{2} (t) = i \\alpha_{2} g_{2} \\hat{\\tilde{a}}_{2}{\\left(t \\right)}^{\\dagger} + \\sqrt{2} \\sqrt{\\gamma_{2}} \\hat{\\tilde{b}}_{2}^{in}{\\left(t \\right)} - \\gamma_{2} \\hat{\\tilde{b}}_{2}{\\left(t \\right)} + i g_{2} e^{2 i \\omega_{2} t} \\overline{\\alpha_{2}} \\hat{\\tilde{a}}_{2}{\\left(t \\right)}$"
     },
     "metadata": {}
    }
   ],
   "source": [
    "# fluctuation transformations\n",
    "expr_a_1_tilde = a_1_t * E**(- I * Delta_1 * t)\n",
    "expr_b_1_tilde = b_1_t * E**(I * omega_1 * t)\n",
    "expr_a_2_tilde = a_2_t * E**(- I * Delta_2 * t)\n",
    "expr_b_2_tilde = b_2_t * E**(I * omega_2 * t)\n",
    "# noise transformations\n",
    "expr_a_1_in_tilde_t = a_1_in_t * E**(- I * Delta_1 * t)\n",
    "expr_b_1_in_tilde_t = b_1_in_t * E**(I * omega_1 * t)\n",
    "expr_a_2_in_tilde_t = a_2_in_t * E**(- I * Delta_2 * t)\n",
    "expr_b_2_in_tilde_t = b_2_in_t * E**(I * omega_2 * t)\n",
    "# substitution list\n",
    "list_subs = [\n",
    "    (a_1_t, a_1_tilde_t * a_1_t / expr_a_1_tilde),\n",
    "    (b_1_t, b_1_tilde_t * b_1_t / expr_b_1_tilde), \n",
    "    (a_2_t, a_2_tilde_t * a_2_t / expr_a_2_tilde),\n",
    "    (b_2_t, b_2_tilde_t * b_2_t / expr_b_2_tilde),\n",
    "    (a_1_in_t, a_1_in_tilde_t / expr_a_1_in_tilde_t * a_1_in_t),\n",
    "    (b_1_in_t, b_1_in_tilde_t / expr_b_1_in_tilde_t * b_1_in_t),\n",
    "    (a_2_in_t, a_2_in_tilde_t / expr_a_2_in_tilde_t * a_2_in_t),\n",
    "    (b_2_in_t, b_2_in_tilde_t / expr_b_2_in_tilde_t * b_2_in_t),\n",
    "    (Delta_1, omega_1), \n",
    "    (Delta_2, omega_2),\n",
    "]\n",
    "# display\n",
    "display(Math(latex(a_1_tilde_t) + ' = ' + latex(expr_a_1_tilde) + ', \\\\quad ' + latex(b_1_tilde_t) + ' = ' + latex(expr_b_1_tilde)))\n",
    "display(Math(latex(a_2_tilde_t) + ' = ' + latex(expr_a_2_tilde) + ', \\\\quad ' + latex(b_2_tilde_t) + ' = ' + latex(expr_b_2_tilde)))\n",
    "display(Math(latex(Delta_1) + ' = ' + latex(omega_1) + ', \\\\quad ' + latex(Delta_2) + ' = ' + latex(omega_2)))\n",
    "display(Math(latex(a_1_in_tilde_t) + ' = ' + latex(expr_a_1_in_tilde_t) + ', \\\\quad ' + latex(b_1_in_tilde_t) + ' = ' + latex(expr_b_1_in_tilde_t)))\n",
    "display(Math(latex(a_2_in_tilde_t) + ' = ' + latex(expr_a_2_in_tilde_t) + ', \\\\quad ' + latex(b_2_in_tilde_t) + ' = ' + latex(expr_b_2_in_tilde_t)))\n",
    "\n",
    "# transformed equations\n",
    "# differentiate and substitute rates in first step \n",
    "# substitute other variables in second step\n",
    "expr_da_1_tilde_dt = diff(expr_a_1_tilde, t).subs(diff(a_1_t), expr_da_1_dt).expand()\n",
    "expr_da_1_tilde_dt = expr_da_1_tilde_dt.subs(expr_a_1_tilde, a_1_tilde_t).subs(list_subs)\n",
    "display(Math('\\\\dot{\\\\hat{\\\\tilde{a}}}_{1} (t) = ' + latex(expr_da_1_tilde_dt)))\n",
    "expr_db_1_tilde_dt = diff(expr_b_1_tilde, t).subs(diff(b_1_t), expr_db_1_dt).expand()\n",
    "expr_db_1_tilde_dt = expr_db_1_tilde_dt.subs(expr_b_1_tilde, b_1_tilde_t).subs(list_subs)\n",
    "display(Math('\\\\dot{\\\\hat{\\\\tilde{b}}}_{1} (t) = ' + latex(expr_db_1_tilde_dt)))\n",
    "expr_da_2_tilde_dt = diff(expr_a_2_tilde, t).subs(diff(a_2_t), expr_da_2_dt).expand()\n",
    "expr_da_2_tilde_dt = expr_da_2_tilde_dt.subs(expr_a_2_tilde, a_2_tilde_t).subs(list_subs)\n",
    "display(Math('\\\\dot{\\\\hat{\\\\tilde{a}}}_{2} (t) = ' + latex(expr_da_2_tilde_dt)))\n",
    "expr_db_2_tilde_dt = diff(expr_b_2_tilde, t).subs(diff(b_2_t), expr_db_2_dt).expand()\n",
    "expr_db_2_tilde_dt = expr_db_2_tilde_dt.subs(expr_b_2_tilde, b_2_tilde_t).subs(list_subs)\n",
    "display(Math('\\\\dot{\\\\hat{\\\\tilde{b}}}_{2} (t) = ' + latex(expr_db_2_tilde_dt)))"
   ]
  },
  {
   "cell_type": "code",
   "execution_count": 5,
   "metadata": {},
   "outputs": [
    {
     "output_type": "display_data",
     "data": {
      "text/plain": "<IPython.core.display.Math object>",
      "text/latex": "$\\displaystyle G_{1} = \\alpha_{1} g_{1}, \\quad G_{2} = \\alpha_{2} g_{2}$"
     },
     "metadata": {}
    },
    {
     "output_type": "display_data",
     "data": {
      "text/plain": "<IPython.core.display.Math object>",
      "text/latex": "$\\displaystyle \\delta = - \\omega_{1} + \\omega_{2}$"
     },
     "metadata": {}
    },
    {
     "output_type": "display_data",
     "data": {
      "text/plain": "<IPython.core.display.Math object>",
      "text/latex": "$\\displaystyle \\dot{\\hat{\\tilde{a}}}_{1} (t) = i G_{1} \\hat{\\tilde{b}}_{1}{\\left(t \\right)}^{\\dagger} + \\sqrt{2} \\sqrt{\\kappa_{1}} \\hat{\\tilde{a}}_{1}^{in}{\\left(t \\right)} - \\kappa_{1} \\hat{\\tilde{a}}_{1}{\\left(t \\right)}$"
     },
     "metadata": {}
    },
    {
     "output_type": "display_data",
     "data": {
      "text/plain": "<IPython.core.display.Math object>",
      "text/latex": "$\\displaystyle \\dot{\\hat{\\tilde{b}}}_{1} (t) = i G_{1} \\hat{\\tilde{a}}_{1}{\\left(t \\right)}^{\\dagger} + \\sqrt{2} \\sqrt{\\gamma_{1}} \\hat{\\tilde{b}}_{1}^{in}{\\left(t \\right)} - \\gamma_{1} \\hat{\\tilde{b}}_{1}{\\left(t \\right)}$"
     },
     "metadata": {}
    },
    {
     "output_type": "display_data",
     "data": {
      "text/plain": "<IPython.core.display.Math object>",
      "text/latex": "$\\displaystyle \\dot{\\hat{\\tilde{a}}}_{2} (t) = i G_{2} \\hat{\\tilde{b}}_{2}{\\left(t \\right)}^{\\dagger} - 2 \\sqrt{\\eta} \\sqrt{\\kappa_{1}} \\sqrt{\\kappa_{2}} e^{- i \\delta t} \\hat{\\tilde{a}}_{1}{\\left(t \\right)} + \\sqrt{2} \\sqrt{\\eta} \\sqrt{\\kappa_{2}} e^{- i \\delta t} \\hat{\\tilde{a}}_{1}^{in}{\\left(t \\right)} + \\sqrt{2} \\sqrt{\\kappa_{2}} \\sqrt{1 - \\eta} \\hat{\\tilde{a}}_{2}^{in}{\\left(t \\right)} - \\kappa_{2} \\hat{\\tilde{a}}_{2}{\\left(t \\right)}$"
     },
     "metadata": {}
    },
    {
     "output_type": "display_data",
     "data": {
      "text/plain": "<IPython.core.display.Math object>",
      "text/latex": "$\\displaystyle \\dot{\\hat{\\tilde{b}}}_{2} (t) = i G_{2} \\hat{\\tilde{a}}_{2}{\\left(t \\right)}^{\\dagger} + \\sqrt{2} \\sqrt{\\gamma_{2}} \\hat{\\tilde{b}}_{2}^{in}{\\left(t \\right)} - \\gamma_{2} \\hat{\\tilde{b}}_{2}{\\left(t \\right)}$"
     },
     "metadata": {}
    }
   ],
   "source": [
    "# effective values\n",
    "expr_delta = omega_2 - omega_1\n",
    "expr_G_1 = g_1 * alpha_1\n",
    "expr_G_2 = g_2 * alpha_2\n",
    "# substitution list\n",
    "list_subs = [\n",
    "    (omega_2, delta + omega_1),\n",
    "    (expr_G_1, G_1), \n",
    "    (expr_G_2, G_2)\n",
    "]\n",
    "# display\n",
    "display(Math(latex(G_1) + ' = ' + latex(expr_G_1) + ', \\\\quad ' + latex(G_2) + ' = ' + latex(expr_G_2)))\n",
    "display(Math(latex(delta) + ' = ' + latex(expr_delta)))\n",
    "\n",
    "# approximated equations\n",
    "# substitute parameters and ignore fast rotating terms\n",
    "expr_da_1_tilde_dt_approx = expr_da_1_tilde_dt.subs(list_subs).expand().subs(E**(- 2 * I * omega_1 * t), 0)\n",
    "display(Math('\\\\dot{\\\\hat{\\\\tilde{a}}}_{1} (t) = ' + latex(expr_da_1_tilde_dt_approx)))\n",
    "expr_db_1_tilde_dt_approx = expr_db_1_tilde_dt.subs(list_subs).expand().subs(E**(2 * I * omega_1 * t), 0)\n",
    "display(Math('\\\\dot{\\\\hat{\\\\tilde{b}}}_{1} (t) = ' + latex(expr_db_1_tilde_dt_approx)))\n",
    "expr_da_2_tilde_dt_approx = expr_da_2_tilde_dt.subs(list_subs).expand().subs(E**(- 2 * I * omega_1 * t), 0)\n",
    "display(Math('\\\\dot{\\\\hat{\\\\tilde{a}}}_{2} (t) = ' + latex(expr_da_2_tilde_dt_approx)))\n",
    "expr_db_2_tilde_dt_approx = expr_db_2_tilde_dt.subs(list_subs).expand().subs(E**(2 * I * omega_1 * t), 0)\n",
    "display(Math('\\\\dot{\\\\hat{\\\\tilde{b}}}_{2} (t) = ' + latex(expr_db_2_tilde_dt_approx)))"
   ]
  },
  {
   "cell_type": "markdown",
   "metadata": {},
   "source": [
    "## Adiabatic Elimination"
   ]
  },
  {
   "cell_type": "code",
   "execution_count": 6,
   "metadata": {},
   "outputs": [
    {
     "output_type": "display_data",
     "data": {
      "text/plain": "<IPython.core.display.Math object>",
      "text/latex": "$\\displaystyle \\hat{\\tilde{a}}_{1} = \\frac{i G_{1} \\hat{\\tilde{b}}_{1}{\\left(t \\right)}^{\\dagger}}{\\kappa_{1}} + \\frac{\\sqrt{2} \\hat{\\tilde{a}}_{1}^{in}{\\left(t \\right)}}{\\sqrt{\\kappa_{1}}}$"
     },
     "metadata": {}
    },
    {
     "output_type": "display_data",
     "data": {
      "text/plain": "<IPython.core.display.Math object>",
      "text/latex": "$\\displaystyle \\hat{\\tilde{a}}_{2} = - \\frac{2 i G_{1} \\sqrt{\\eta} e^{- i \\delta t} \\hat{\\tilde{b}}_{1}{\\left(t \\right)}^{\\dagger}}{\\sqrt{\\kappa_{1}} \\sqrt{\\kappa_{2}}} + \\frac{i G_{2} \\hat{\\tilde{b}}_{2}{\\left(t \\right)}^{\\dagger}}{\\kappa_{2}} - \\frac{\\sqrt{2} \\sqrt{\\eta} e^{- i \\delta t} \\hat{\\tilde{a}}_{1}^{in}{\\left(t \\right)}}{\\sqrt{\\kappa_{2}}} + \\frac{\\sqrt{2 - 2 \\eta} \\hat{\\tilde{a}}_{2}^{in}{\\left(t \\right)}}{\\sqrt{\\kappa_{2}}}$"
     },
     "metadata": {}
    },
    {
     "output_type": "display_data",
     "data": {
      "text/plain": "<IPython.core.display.Math object>",
      "text/latex": "$\\displaystyle \\dot{\\hat{\\tilde{b}}}_{1} (t) = \\frac{G_{1} \\overline{G_{1}} \\hat{\\tilde{b}}_{1}{\\left(t \\right)}}{\\kappa_{1}} + \\frac{\\sqrt{2} i G_{1} \\hat{\\tilde{a}}_{1}^{in}{\\left(t \\right)}^{\\dagger}}{\\sqrt{\\kappa_{1}}} + \\sqrt{2} \\sqrt{\\gamma_{1}} \\hat{\\tilde{b}}_{1}^{in}{\\left(t \\right)} - \\gamma_{1} \\hat{\\tilde{b}}_{1}{\\left(t \\right)}$"
     },
     "metadata": {}
    },
    {
     "output_type": "display_data",
     "data": {
      "text/plain": "<IPython.core.display.Math object>",
      "text/latex": "$\\displaystyle \\dot{\\hat{\\tilde{b}}}_{2} (t) = - \\frac{\\sqrt{2} i G_{2} \\sqrt{\\eta} e^{i \\delta t} \\hat{\\tilde{a}}_{1}^{in}{\\left(t \\right)}^{\\dagger}}{\\sqrt{\\kappa_{2}}} - \\frac{2 G_{2} \\sqrt{\\eta} e^{i \\delta t} \\overline{G_{1}} \\hat{\\tilde{b}}_{1}{\\left(t \\right)}}{\\sqrt{\\kappa_{1}} \\sqrt{\\kappa_{2}}} + \\frac{G_{2} \\overline{G_{2}} \\hat{\\tilde{b}}_{2}{\\left(t \\right)}}{\\kappa_{2}} + \\frac{\\sqrt{2} i G_{2} \\sqrt{1 - \\eta} \\hat{\\tilde{a}}_{2}^{in}{\\left(t \\right)}^{\\dagger}}{\\sqrt{\\kappa_{2}}} + \\sqrt{2} \\sqrt{\\gamma_{2}} \\hat{\\tilde{b}}_{2}^{in}{\\left(t \\right)} - \\gamma_{2} \\hat{\\tilde{b}}_{2}{\\left(t \\right)}$"
     },
     "metadata": {}
    }
   ],
   "source": [
    "# obtain solutions for optical modes\n",
    "sols = solve([expr_da_2_tilde_dt_approx, expr_da_1_tilde_dt_approx], [a_2_tilde_t, a_1_tilde_t])\n",
    "expr_a_1_tilde_adia = sols[0][1].expand()\n",
    "expr_a_2_tilde_adia = sols[0][0].expand()\n",
    "# display solutions\n",
    "display(Math('\\\\hat{\\\\tilde{a}}_{1} = ' + latex(expr_a_1_tilde_adia)))\n",
    "display(Math('\\\\hat{\\\\tilde{a}}_{2} = ' + latex(expr_a_2_tilde_adia)))\n",
    "\n",
    "# substitution list\n",
    "list_subs = [\n",
    "    (a_1_tilde_t, expr_a_1_tilde_adia), \n",
    "    (a_2_tilde_t, expr_a_2_tilde_adia),\n",
    "    (conjugate(sqrt(2 - 2 * eta)), sqrt(2) * sqrt(1 - eta))\n",
    "]\n",
    "# mechanical mode equations\n",
    "expr_db_1_tilde_dt_adia = expr_db_1_tilde_dt_approx.subs(list_subs).expand()\n",
    "display(Math('\\\\dot{\\\\hat{\\\\tilde{b}}}_{1} (t) = ' + latex(expr_db_1_tilde_dt_adia)))\n",
    "expr_db_2_tilde_dt_adia = expr_db_2_tilde_dt_approx.subs(list_subs).expand()\n",
    "display(Math('\\\\dot{\\\\hat{\\\\tilde{b}}}_{2} (t) = ' + latex(expr_db_2_tilde_dt_adia)))"
   ]
  },
  {
   "cell_type": "code",
   "execution_count": 7,
   "metadata": {},
   "outputs": [
    {
     "output_type": "display_data",
     "data": {
      "text/plain": "<IPython.core.display.Math object>",
      "text/latex": "$\\displaystyle \\chi_{1} = \\frac{2 G_{2} \\sqrt{\\eta} \\overline{G_{1}}}{\\sqrt{\\kappa_{1}} \\sqrt{\\kappa_{2}}}, \\quad \\chi_{2} = \\frac{2 G_{1} \\sqrt{\\eta} \\overline{G_{2}}}{\\sqrt{\\kappa_{1}} \\sqrt{\\kappa_{2}}}$"
     },
     "metadata": {}
    },
    {
     "output_type": "display_data",
     "data": {
      "text/plain": "<IPython.core.display.Math object>",
      "text/latex": "$\\displaystyle \\Gamma_{1} = \\frac{G_{1} \\overline{G_{1}}}{\\kappa_{1}}, \\quad \\Gamma_{2} = \\frac{G_{2} \\overline{G_{2}}}{\\kappa_{2}}$"
     },
     "metadata": {}
    },
    {
     "output_type": "display_data",
     "data": {
      "text/plain": "<IPython.core.display.Math object>",
      "text/latex": "$\\displaystyle \\eta_{1} = \\frac{\\sqrt{2} G_{1}}{\\sqrt{\\kappa_{1}}}, \\quad \\eta_{2} = \\frac{\\sqrt{2} G_{2}}{\\sqrt{\\kappa_{2}}}$"
     },
     "metadata": {}
    },
    {
     "output_type": "display_data",
     "data": {
      "text/plain": "<IPython.core.display.Math object>",
      "text/latex": "$\\displaystyle \\dot{\\hat{\\tilde{b}}}_{1} (t) = \\Gamma_{1} \\hat{\\tilde{b}}_{1}{\\left(t \\right)} + i \\eta_{1} \\hat{\\tilde{a}}_{1}^{in}{\\left(t \\right)}^{\\dagger} + \\sqrt{2} \\sqrt{\\gamma_{1}} \\hat{\\tilde{b}}_{1}^{in}{\\left(t \\right)} - \\gamma_{1} \\hat{\\tilde{b}}_{1}{\\left(t \\right)}$"
     },
     "metadata": {}
    },
    {
     "output_type": "display_data",
     "data": {
      "text/plain": "<IPython.core.display.Math object>",
      "text/latex": "$\\displaystyle \\dot{\\hat{\\tilde{b}}}_{2} (t) = \\Gamma_{2} \\hat{\\tilde{b}}_{2}{\\left(t \\right)} - \\chi_{1} e^{i \\delta t} \\hat{\\tilde{b}}_{1}{\\left(t \\right)} + \\eta_{2} \\left(- i \\sqrt{\\eta} e^{i \\delta t} \\hat{\\tilde{a}}_{1}^{in}{\\left(t \\right)}^{\\dagger} + i \\sqrt{1 - \\eta} \\hat{\\tilde{a}}_{2}^{in}{\\left(t \\right)}^{\\dagger}\\right) + \\sqrt{2} \\sqrt{\\gamma_{2}} \\hat{\\tilde{b}}_{2}^{in}{\\left(t \\right)} - \\gamma_{2} \\hat{\\tilde{b}}_{2}{\\left(t \\right)}$"
     },
     "metadata": {}
    }
   ],
   "source": [
    "# substituted values\n",
    "expr_chi_1 = 2 * G_2 * sqrt(eta) * conjugate(G_1) / sqrt(kappa_1 * kappa_2)\n",
    "expr_chi_2 = 2 * G_1 * sqrt(eta) * conjugate(G_2) / sqrt(kappa_1 * kappa_2)\n",
    "expr_eta_1 = sqrt(2) * G_1 / sqrt(kappa_1)\n",
    "expr_eta_2 = sqrt(2) * G_2 / sqrt(kappa_2)\n",
    "expr_Gamma_1 = G_1 * conjugate(G_1) / kappa_1\n",
    "expr_Gamma_2 = G_2 * conjugate(G_2) / kappa_2\n",
    "# substitution list\n",
    "list_subs = [\n",
    "    (expr_chi_1, chi_1),\n",
    "    (expr_chi_2, chi_2),\n",
    "    (expr_Gamma_1, Gamma_1),\n",
    "    (expr_Gamma_2, Gamma_2),\n",
    "    (expr_eta_1, eta_1),\n",
    "    (expr_eta_2, eta_2)\n",
    "]\n",
    "# display\n",
    "display(Math(latex(chi_1) + ' = ' + latex(expr_chi_1) + ', \\\\quad ' + latex(chi_2) + ' = ' + latex(expr_chi_2)))\n",
    "display(Math(latex(Gamma_1) + ' = ' + latex(expr_Gamma_1) + ', \\\\quad ' + latex(Gamma_2) + ' = ' + latex(expr_Gamma_2)))\n",
    "display(Math(latex(eta_1) + ' = ' + latex(expr_eta_1) + ', \\\\quad ' + latex(eta_2) + ' = ' + latex(expr_eta_2)))\n",
    "\n",
    "# substituted equations\n",
    "expr_db_1_tilde_dt_subs = expr_db_1_tilde_dt_adia.collect(E**(I * delta * t)).subs(list_subs).expand()\n",
    "display(Math('\\\\dot{\\\\hat{\\\\tilde{b}}}_{1} (t) = ' + latex(expr_db_1_tilde_dt_subs)))\n",
    "expr_db_2_tilde_dt_subs = expr_db_2_tilde_dt_adia.collect(E**(- I * delta * t)).subs(list_subs).expand()\n",
    "display(Math('\\\\dot{\\\\hat{\\\\tilde{b}}}_{2} (t) = ' + latex(expr_db_2_tilde_dt_subs.collect(eta_2))))"
   ]
  },
  {
   "source": [
    "## Identical Cavities"
   ],
   "cell_type": "markdown",
   "metadata": {}
  },
  {
   "cell_type": "code",
   "execution_count": 8,
   "metadata": {},
   "outputs": [
    {
     "output_type": "display_data",
     "data": {
      "text/plain": "<IPython.core.display.Math object>",
      "text/latex": "$\\displaystyle \\gamma_{1} = \\gamma_{2} = \\gamma, \\quad \\kappa_{1} = \\kappa_{2} = \\kappa, \\quad \\delta = 0$"
     },
     "metadata": {}
    },
    {
     "output_type": "display_data",
     "data": {
      "text/plain": "<IPython.core.display.Math object>",
      "text/latex": "$\\displaystyle \\dot{\\hat{\\tilde{b}}}_{1} (t) = \\Gamma_{1} \\hat{\\tilde{b}}_{1}{\\left(t \\right)} + i \\eta_{1} \\hat{\\tilde{a}}_{1}^{in}{\\left(t \\right)}^{\\dagger} + \\sqrt{2} \\sqrt{\\gamma} \\hat{\\tilde{b}}_{1}^{in}{\\left(t \\right)} - \\gamma \\hat{\\tilde{b}}_{1}{\\left(t \\right)}$"
     },
     "metadata": {}
    },
    {
     "output_type": "display_data",
     "data": {
      "text/plain": "<IPython.core.display.Math object>",
      "text/latex": "$\\displaystyle \\dot{\\hat{\\tilde{b}}}_{2} (t) = \\Gamma_{2} \\hat{\\tilde{b}}_{2}{\\left(t \\right)} - i \\chi_{1} \\sin{\\left(\\delta t \\right)} \\hat{\\tilde{b}}_{1}{\\left(t \\right)} - \\chi_{1} \\cos{\\left(\\delta t \\right)} \\hat{\\tilde{b}}_{1}{\\left(t \\right)} + \\eta_{2} \\left(\\sqrt{\\eta} \\sin{\\left(\\delta t \\right)} \\hat{\\tilde{a}}_{1}^{in}{\\left(t \\right)}^{\\dagger} - i \\sqrt{\\eta} \\cos{\\left(\\delta t \\right)} \\hat{\\tilde{a}}_{1}^{in}{\\left(t \\right)}^{\\dagger} + i \\sqrt{1 - \\eta} \\hat{\\tilde{a}}_{2}^{in}{\\left(t \\right)}^{\\dagger}\\right) + \\sqrt{2} \\sqrt{\\gamma} \\hat{\\tilde{b}}_{2}^{in}{\\left(t \\right)} - \\gamma \\hat{\\tilde{b}}_{2}{\\left(t \\right)}$"
     },
     "metadata": {}
    }
   ],
   "source": [
    "# substitution list\n",
    "list_subs = [\n",
    "    (gamma_1, gamma),\n",
    "    (gamma_2, gamma),\n",
    "    (kappa_1, kappa),\n",
    "    (kappa_2, kappa),\n",
    "    (E**(I * delta * t), cos(delta * t) + I * sin(delta * t))\n",
    "]\n",
    "# display\n",
    "display(Math(latex(gamma_1) + ' = ' + latex(gamma_2) + ' = ' + latex(gamma) + ', \\\\quad ' + latex(kappa_1) + ' = ' + latex(kappa_2) + ' = ' + latex(kappa) + ', \\\\quad ' + latex(delta) + ' = 0'))\n",
    "\n",
    "# substituted equations\n",
    "expr_db_1_tilde_dt_identical = expr_db_1_tilde_dt_subs.subs(list_subs)\n",
    "display(Math('\\\\dot{\\\\hat{\\\\tilde{b}}}_{1} (t) = ' + latex(expr_db_1_tilde_dt_identical)))\n",
    "expr_db_2_tilde_dt_identical = expr_db_2_tilde_dt_subs.subs(list_subs).expand()\n",
    "display(Math('\\\\dot{\\\\hat{\\\\tilde{b}}}_{2} (t) = ' + latex(expr_db_2_tilde_dt_identical.collect(eta_2))))"
   ]
  },
  {
   "source": [
    "## Rotated Mechanical Quadrature Rates"
   ],
   "cell_type": "markdown",
   "metadata": {}
  },
  {
   "cell_type": "code",
   "execution_count": 9,
   "metadata": {},
   "outputs": [
    {
     "output_type": "display_data",
     "data": {
      "text/plain": "<IPython.core.display.Math object>",
      "text/latex": "$\\displaystyle \\hat{\\tilde{b}}_{1}{\\left(t \\right)} = \\frac{\\sqrt{2} \\left(i \\hat{\\tilde{P}}_{1}{\\left(t \\right)} + \\hat{\\tilde{Q}}_{1}{\\left(t \\right)}\\right)}{2}, \\quad \\hat{\\tilde{b}}_{2}{\\left(t \\right)} = \\frac{\\sqrt{2} \\left(i \\hat{\\tilde{P}}_{2}{\\left(t \\right)} + \\hat{\\tilde{Q}}_{2}{\\left(t \\right)}\\right)}{2}$"
     },
     "metadata": {}
    },
    {
     "output_type": "display_data",
     "data": {
      "text/plain": "<IPython.core.display.Math object>",
      "text/latex": "$\\displaystyle \\hat{\\tilde{a}}_{1}^{in}{\\left(t \\right)} = \\frac{\\sqrt{2} \\left(\\hat{\\tilde{X}}_{1}^{in}{\\left(t \\right)} + i \\hat{\\tilde{Y}}_{1}^{in}{\\left(t \\right)}\\right)}{2}, \\quad \\hat{\\tilde{a}}_{2}^{in}{\\left(t \\right)} = \\frac{\\sqrt{2} \\left(\\hat{\\tilde{X}}_{2}^{in}{\\left(t \\right)} + i \\hat{\\tilde{Y}}_{2}^{in}{\\left(t \\right)}\\right)}{2}$"
     },
     "metadata": {}
    },
    {
     "output_type": "display_data",
     "data": {
      "text/plain": "<IPython.core.display.Math object>",
      "text/latex": "$\\displaystyle \\hat{\\tilde{b}}_{1}^{in}{\\left(t \\right)} = \\frac{\\sqrt{2} \\left(i \\hat{\\tilde{P}}_{1}^{in}{\\left(t \\right)} + \\hat{\\tilde{Q}}_{1}^{in}{\\left(t \\right)}\\right)}{2}, \\quad \\hat{\\tilde{b}}_{2}^{in}{\\left(t \\right)} = \\frac{\\sqrt{2} \\left(i \\hat{\\tilde{P}}_{2}^{in}{\\left(t \\right)} + \\hat{\\tilde{Q}}_{2}^{in}{\\left(t \\right)}\\right)}{2}$"
     },
     "metadata": {}
    },
    {
     "output_type": "display_data",
     "data": {
      "text/plain": "<IPython.core.display.Math object>",
      "text/latex": "$\\displaystyle \\dot{\\hat{\\tilde{Q}}}_{1} (t) = \\Gamma_{1} \\hat{\\tilde{Q}}_{1}{\\left(t \\right)} - \\eta_{1I} \\hat{\\tilde{X}}_{1}^{in}{\\left(t \\right)} + \\eta_{1R} \\hat{\\tilde{Y}}_{1}^{in}{\\left(t \\right)} + \\sqrt{2} \\sqrt{\\gamma} \\hat{\\tilde{Q}}_{1}^{in}{\\left(t \\right)} - \\gamma \\hat{\\tilde{Q}}_{1}{\\left(t \\right)}$"
     },
     "metadata": {}
    },
    {
     "output_type": "display_data",
     "data": {
      "text/plain": "<IPython.core.display.Math object>",
      "text/latex": "$\\displaystyle \\dot{\\hat{\\tilde{P}}}_{1} (t) = \\Gamma_{1} \\hat{\\tilde{P}}_{1}{\\left(t \\right)} + \\eta_{1I} \\hat{\\tilde{Y}}_{1}^{in}{\\left(t \\right)} + \\eta_{1R} \\hat{\\tilde{X}}_{1}^{in}{\\left(t \\right)} + \\sqrt{2} \\sqrt{\\gamma} \\hat{\\tilde{P}}_{1}^{in}{\\left(t \\right)} - \\gamma \\hat{\\tilde{P}}_{1}{\\left(t \\right)}$"
     },
     "metadata": {}
    },
    {
     "output_type": "display_data",
     "data": {
      "text/plain": "<IPython.core.display.Math object>",
      "text/latex": "$\\displaystyle \\dot{\\hat{\\tilde{Q}}}_{2} (t) = \\Gamma_{2} \\hat{\\tilde{Q}}_{2}{\\left(t \\right)} + \\chi_{1I} \\sin{\\left(\\delta t \\right)} \\hat{\\tilde{Q}}_{1}{\\left(t \\right)} + \\chi_{1I} \\cos{\\left(\\delta t \\right)} \\hat{\\tilde{P}}_{1}{\\left(t \\right)} + \\chi_{1R} \\sin{\\left(\\delta t \\right)} \\hat{\\tilde{P}}_{1}{\\left(t \\right)} - \\chi_{1R} \\cos{\\left(\\delta t \\right)} \\hat{\\tilde{Q}}_{1}{\\left(t \\right)} + \\sqrt{\\eta} \\eta_{2I} \\sin{\\left(\\delta t \\right)} \\hat{\\tilde{Y}}_{1}^{in}{\\left(t \\right)} + \\sqrt{\\eta} \\eta_{2I} \\cos{\\left(\\delta t \\right)} \\hat{\\tilde{X}}_{1}^{in}{\\left(t \\right)} + \\sqrt{\\eta} \\eta_{2R} \\sin{\\left(\\delta t \\right)} \\hat{\\tilde{X}}_{1}^{in}{\\left(t \\right)} - \\sqrt{\\eta} \\eta_{2R} \\cos{\\left(\\delta t \\right)} \\hat{\\tilde{Y}}_{1}^{in}{\\left(t \\right)} - \\eta_{2I} \\sqrt{1 - \\eta} \\hat{\\tilde{X}}_{2}^{in}{\\left(t \\right)} + \\eta_{2R} \\sqrt{1 - \\eta} \\hat{\\tilde{Y}}_{2}^{in}{\\left(t \\right)} + \\sqrt{2} \\sqrt{\\gamma} \\hat{\\tilde{Q}}_{2}^{in}{\\left(t \\right)} - \\gamma \\hat{\\tilde{Q}}_{2}{\\left(t \\right)}$"
     },
     "metadata": {}
    },
    {
     "output_type": "display_data",
     "data": {
      "text/plain": "<IPython.core.display.Math object>",
      "text/latex": "$\\displaystyle \\dot{\\hat{\\tilde{P}}}_{2} (t) = \\Gamma_{2} \\hat{\\tilde{P}}_{2}{\\left(t \\right)} + \\chi_{1I} \\sin{\\left(\\delta t \\right)} \\hat{\\tilde{P}}_{1}{\\left(t \\right)} - \\chi_{1I} \\cos{\\left(\\delta t \\right)} \\hat{\\tilde{Q}}_{1}{\\left(t \\right)} - \\chi_{1R} \\sin{\\left(\\delta t \\right)} \\hat{\\tilde{Q}}_{1}{\\left(t \\right)} - \\chi_{1R} \\cos{\\left(\\delta t \\right)} \\hat{\\tilde{P}}_{1}{\\left(t \\right)} + \\sqrt{\\eta} \\eta_{2I} \\sin{\\left(\\delta t \\right)} \\hat{\\tilde{X}}_{1}^{in}{\\left(t \\right)} - \\sqrt{\\eta} \\eta_{2I} \\cos{\\left(\\delta t \\right)} \\hat{\\tilde{Y}}_{1}^{in}{\\left(t \\right)} - \\sqrt{\\eta} \\eta_{2R} \\sin{\\left(\\delta t \\right)} \\hat{\\tilde{Y}}_{1}^{in}{\\left(t \\right)} - \\sqrt{\\eta} \\eta_{2R} \\cos{\\left(\\delta t \\right)} \\hat{\\tilde{X}}_{1}^{in}{\\left(t \\right)} + \\eta_{2I} \\sqrt{1 - \\eta} \\hat{\\tilde{Y}}_{2}^{in}{\\left(t \\right)} + \\eta_{2R} \\sqrt{1 - \\eta} \\hat{\\tilde{X}}_{2}^{in}{\\left(t \\right)} + \\sqrt{2} \\sqrt{\\gamma} \\hat{\\tilde{P}}_{2}^{in}{\\left(t \\right)} - \\gamma \\hat{\\tilde{P}}_{2}{\\left(t \\right)}$"
     },
     "metadata": {}
    }
   ],
   "source": [
    "# rotated quadratures\n",
    "expr_b_1_tilde_t = (Q_1_tilde_t + I * P_1_tilde_t) / sqrt(2)\n",
    "expr_b_2_tilde_t = (Q_2_tilde_t + I * P_2_tilde_t) / sqrt(2)\n",
    "expr_a_1_in_tilde_t = (X_1_in_tilde_t + I * Y_1_in_tilde_t) / sqrt(2)\n",
    "expr_b_1_in_tilde_t = (Q_1_in_tilde_t + I * P_1_in_tilde_t) / sqrt(2)\n",
    "expr_a_2_in_tilde_t = (X_2_in_tilde_t + I * Y_2_in_tilde_t) / sqrt(2)\n",
    "expr_b_2_in_tilde_t = (Q_2_in_tilde_t + I * P_2_in_tilde_t) / sqrt(2)\n",
    "# substitution list\n",
    "list_subs = [\n",
    "    (b_1_tilde_t, expr_b_1_tilde_t),\n",
    "    (Dagger(Q_1_tilde_t), Q_1_tilde_t),\n",
    "    (Dagger(P_1_tilde_t), P_1_tilde_t),\n",
    "    (b_2_tilde_t, expr_b_2_tilde_t),\n",
    "    (Dagger(Q_2_tilde_t), Q_2_tilde_t),\n",
    "    (Dagger(P_2_tilde_t), P_2_tilde_t),\n",
    "    (a_1_in_tilde_t, expr_a_1_in_tilde_t),\n",
    "    (Dagger(X_1_in_tilde_t), X_1_in_tilde_t),\n",
    "    (Dagger(Y_1_in_tilde_t), Y_1_in_tilde_t),\n",
    "    (b_1_in_tilde_t, expr_b_1_in_tilde_t),\n",
    "    (Dagger(Q_1_in_tilde_t), Q_1_in_tilde_t),\n",
    "    (Dagger(P_1_in_tilde_t), P_1_in_tilde_t),\n",
    "    (a_2_in_tilde_t, expr_a_2_in_tilde_t),\n",
    "    (Dagger(X_2_in_tilde_t), X_2_in_tilde_t),\n",
    "    (Dagger(Y_2_in_tilde_t), Y_2_in_tilde_t),\n",
    "    (b_2_in_tilde_t, expr_b_2_in_tilde_t),\n",
    "    (Dagger(Q_2_in_tilde_t), Q_2_in_tilde_t),\n",
    "    (Dagger(P_2_in_tilde_t), P_2_in_tilde_t),\n",
    "    (chi_1, chi_1R + I * chi_1I),\n",
    "    (chi_2, chi_2R + I * chi_2I),\n",
    "    (eta_1, eta_1R + I * eta_1I),\n",
    "    (eta_2, eta_2R + I * eta_2I),\n",
    "    (conjugate(sqrt(1 - eta)), sqrt(1 - eta))\n",
    "]\n",
    "# display\n",
    "display(Math(latex(b_1_tilde_t) + ' = ' + latex(expr_b_1_tilde_t) + ', \\\\quad ' + latex(b_2_tilde_t) + ' = ' + latex(expr_b_2_tilde_t)))\n",
    "display(Math(latex(a_1_in_tilde_t) + ' = ' + latex(expr_a_1_in_tilde_t) + ', \\\\quad ' + latex(a_2_in_tilde_t) + ' = ' + latex(expr_a_2_in_tilde_t)))\n",
    "display(Math(latex(b_1_in_tilde_t) + ' = ' + latex(expr_b_1_in_tilde_t) + ', \\\\quad ' + latex(b_2_in_tilde_t) + ' = ' + latex(expr_b_2_in_tilde_t)))\n",
    "\n",
    "# express and substitute\n",
    "expr_dQ_1_tilde_dt = (Dagger(expr_db_1_tilde_dt_identical) + expr_db_1_tilde_dt_identical) / sqrt(2)\n",
    "expr_dQ_1_tilde_dt = expr_dQ_1_tilde_dt.expand().subs(list_subs).expand()\n",
    "display(Math('\\\\dot{\\\\hat{\\\\tilde{Q}}}_{1} (t) = ' + latex(expr_dQ_1_tilde_dt)))\n",
    "expr_dP_1_tilde_dt = I * (Dagger(expr_db_1_tilde_dt_identical) - expr_db_1_tilde_dt_identical) / sqrt(2)\n",
    "expr_dP_1_tilde_dt = expr_dP_1_tilde_dt.expand().subs(list_subs).expand()\n",
    "display(Math('\\\\dot{\\\\hat{\\\\tilde{P}}}_{1} (t) = ' + latex(expr_dP_1_tilde_dt)))\n",
    "expr_dQ_2_tilde_dt = (Dagger(expr_db_2_tilde_dt_identical) + expr_db_2_tilde_dt_identical) / sqrt(2)\n",
    "expr_dQ_2_tilde_dt = expr_dQ_2_tilde_dt.expand().subs(list_subs).expand()\n",
    "display(Math('\\\\dot{\\\\hat{\\\\tilde{Q}}}_{2} (t) = ' + latex(expr_dQ_2_tilde_dt)))\n",
    "expr_dP_2_tilde_dt = I * (Dagger(expr_db_2_tilde_dt_identical) - expr_db_2_tilde_dt_identical) / sqrt(2)\n",
    "expr_dP_2_tilde_dt = expr_dP_2_tilde_dt.expand().subs(list_subs).expand()\n",
    "display(Math('\\\\dot{\\\\hat{\\\\tilde{P}}}_{2} (t) = ' + latex(expr_dP_2_tilde_dt)))"
   ]
  },
  {
   "cell_type": "code",
   "execution_count": 10,
   "metadata": {},
   "outputs": [
    {
     "output_type": "display_data",
     "data": {
      "text/plain": "<IPython.core.display.Math object>",
      "text/latex": "$\\displaystyle G_{1} = \\alpha_{1} g_{1}, \\quad G_{2} = \\alpha_{2} g_{2}$"
     },
     "metadata": {}
    },
    {
     "output_type": "display_data",
     "data": {
      "text/plain": "<IPython.core.display.Math object>",
      "text/latex": "$\\displaystyle \\Delta_{1} = \\omega_{1}, \\quad \\Delta_{2} = \\omega_{2}, \\quad \\delta = - \\omega_{1} + \\omega_{2}$"
     },
     "metadata": {}
    },
    {
     "output_type": "display_data",
     "data": {
      "text/plain": "<IPython.core.display.Math object>",
      "text/latex": "$\\displaystyle \\Gamma_{1} = \\frac{G_{1} \\overline{G_{1}}}{\\kappa_{1}}, \\quad \\Gamma_{2} = \\frac{G_{2} \\overline{G_{2}}}{\\kappa_{2}}$"
     },
     "metadata": {}
    },
    {
     "output_type": "display_data",
     "data": {
      "text/plain": "<IPython.core.display.Math object>",
      "text/latex": "$\\displaystyle \\chi_{1} = \\frac{2 G_{2} \\sqrt{\\eta} \\overline{G_{1}}}{\\sqrt{\\kappa_{1}} \\sqrt{\\kappa_{2}}}, \\quad \\chi_{2} = \\frac{2 G_{1} \\sqrt{\\eta} \\overline{G_{2}}}{\\sqrt{\\kappa_{1}} \\sqrt{\\kappa_{2}}}$"
     },
     "metadata": {}
    },
    {
     "output_type": "display_data",
     "data": {
      "text/plain": "<IPython.core.display.Math object>",
      "text/latex": "$\\displaystyle \\eta_{1} = \\frac{\\sqrt{2} G_{1}}{\\sqrt{\\kappa_{1}}}, \\quad \\eta_{2} = \\frac{\\sqrt{2} G_{2}}{\\sqrt{\\kappa_{2}}}$"
     },
     "metadata": {}
    },
    {
     "output_type": "display_data",
     "data": {
      "text/plain": "<IPython.core.display.Math object>",
      "text/latex": "$\\displaystyle \\gamma_{1} = \\gamma_{2} = \\gamma, \\quad \\kappa_{1} = \\kappa_{2} = \\kappa$"
     },
     "metadata": {}
    },
    {
     "output_type": "display_data",
     "data": {
      "text/plain": "<IPython.core.display.Math object>",
      "text/latex": "$\\displaystyle \\chi_{1}^{+} = \\chi_{1I} \\cos{\\left(\\delta t \\right)} + \\chi_{1R} \\sin{\\left(\\delta t \\right)}, \\quad \\chi_{1}^{-} = - \\chi_{1I} \\sin{\\left(\\delta t \\right)} + \\chi_{1R} \\cos{\\left(\\delta t \\right)}$"
     },
     "metadata": {}
    },
    {
     "output_type": "display_data",
     "data": {
      "text/plain": "<IPython.core.display.Math object>",
      "text/latex": "$\\displaystyle \\eta_{2}^{+} = \\eta_{2I} \\cos{\\left(\\delta t \\right)} + \\eta_{2R} \\sin{\\left(\\delta t \\right)}, \\quad \\eta_{2}^{-} = - \\eta_{2I} \\sin{\\left(\\delta t \\right)} + \\eta_{2R} \\cos{\\left(\\delta t \\right)}$"
     },
     "metadata": {}
    },
    {
     "output_type": "display_data",
     "data": {
      "text/plain": "<IPython.core.display.Math object>",
      "text/latex": "$\\displaystyle \\dot{\\hat{\\tilde{Q}}}_{1} (t) = \\Gamma_{1} \\hat{\\tilde{Q}}_{1}{\\left(t \\right)} - \\eta_{1I} \\hat{\\tilde{X}}_{1}^{in}{\\left(t \\right)} + \\eta_{1R} \\hat{\\tilde{Y}}_{1}^{in}{\\left(t \\right)} + \\sqrt{2} \\sqrt{\\gamma} \\hat{\\tilde{Q}}_{1}^{in}{\\left(t \\right)} - \\gamma \\hat{\\tilde{Q}}_{1}{\\left(t \\right)}$"
     },
     "metadata": {}
    },
    {
     "output_type": "display_data",
     "data": {
      "text/plain": "<IPython.core.display.Math object>",
      "text/latex": "$\\displaystyle \\dot{\\hat{\\tilde{P}}}_{1} (t) = \\Gamma_{1} \\hat{\\tilde{P}}_{1}{\\left(t \\right)} + \\eta_{1I} \\hat{\\tilde{Y}}_{1}^{in}{\\left(t \\right)} + \\eta_{1R} \\hat{\\tilde{X}}_{1}^{in}{\\left(t \\right)} + \\sqrt{2} \\sqrt{\\gamma} \\hat{\\tilde{P}}_{1}^{in}{\\left(t \\right)} - \\gamma \\hat{\\tilde{P}}_{1}{\\left(t \\right)}$"
     },
     "metadata": {}
    },
    {
     "output_type": "display_data",
     "data": {
      "text/plain": "<IPython.core.display.Math object>",
      "text/latex": "$\\displaystyle \\dot{\\hat{\\tilde{Q}}}_{2} (t) = \\Gamma_{2} \\hat{\\tilde{Q}}_{2}{\\left(t \\right)} + \\chi_{1}^{+} \\hat{\\tilde{P}}_{1}{\\left(t \\right)} - \\chi_{1}^{-} \\hat{\\tilde{Q}}_{1}{\\left(t \\right)} + \\sqrt{\\eta} \\eta_{2}^{+} \\hat{\\tilde{X}}_{1}^{in}{\\left(t \\right)} - \\sqrt{\\eta} \\eta_{2}^{-} \\hat{\\tilde{Y}}_{1}^{in}{\\left(t \\right)} - \\eta_{2I} \\sqrt{1 - \\eta} \\hat{\\tilde{X}}_{2}^{in}{\\left(t \\right)} + \\eta_{2R} \\sqrt{1 - \\eta} \\hat{\\tilde{Y}}_{2}^{in}{\\left(t \\right)} + \\sqrt{2} \\sqrt{\\gamma} \\hat{\\tilde{Q}}_{2}^{in}{\\left(t \\right)} - \\gamma \\hat{\\tilde{Q}}_{2}{\\left(t \\right)}$"
     },
     "metadata": {}
    },
    {
     "output_type": "display_data",
     "data": {
      "text/plain": "<IPython.core.display.Math object>",
      "text/latex": "$\\displaystyle \\dot{\\hat{\\tilde{P}}}_{2} (t) = \\Gamma_{2} \\hat{\\tilde{P}}_{2}{\\left(t \\right)} - \\chi_{1}^{+} \\hat{\\tilde{Q}}_{1}{\\left(t \\right)} - \\chi_{1}^{-} \\hat{\\tilde{P}}_{1}{\\left(t \\right)} - \\sqrt{\\eta} \\eta_{2}^{+} \\hat{\\tilde{Y}}_{1}^{in}{\\left(t \\right)} - \\sqrt{\\eta} \\eta_{2}^{-} \\hat{\\tilde{X}}_{1}^{in}{\\left(t \\right)} + \\eta_{2I} \\sqrt{1 - \\eta} \\hat{\\tilde{Y}}_{2}^{in}{\\left(t \\right)} + \\eta_{2R} \\sqrt{1 - \\eta} \\hat{\\tilde{X}}_{2}^{in}{\\left(t \\right)} + \\sqrt{2} \\sqrt{\\gamma} \\hat{\\tilde{P}}_{2}^{in}{\\left(t \\right)} - \\gamma \\hat{\\tilde{P}}_{2}{\\left(t \\right)}$"
     },
     "metadata": {}
    }
   ],
   "source": [
    "# substitution list\n",
    "list_subs = [\n",
    "    (chi_1R * sin(delta * t), chi_1_plus - chi_1I * cos(delta * t)),\n",
    "    (chi_1R * cos(delta * t), chi_1_minus + chi_1I * sin(delta * t)),\n",
    "    (eta_2R * sin(delta * t), eta_2_plus - eta_2I * cos(delta * t)),\n",
    "    (eta_2R * cos(delta * t), eta_2_minus + eta_2I * sin(delta * t))\n",
    "]\n",
    "display(Math(latex(G_1) + ' = ' + latex(expr_G_1) + ', \\\\quad ' + latex(G_2) + ' = ' + latex(expr_G_2)))\n",
    "display(Math(latex(Delta_1) + ' = ' + latex(omega_1) + ', \\\\quad ' + latex(Delta_2) + ' = ' + latex(omega_2) + ', \\\\quad ' + latex(delta) + ' = ' + latex(expr_delta)))\n",
    "display(Math(latex(Gamma_1) + ' = ' + latex(expr_Gamma_1) + ', \\\\quad ' + latex(Gamma_2) + ' = ' + latex(expr_Gamma_2)))\n",
    "display(Math(latex(chi_1) + ' = ' + latex(expr_chi_1) + ', \\\\quad ' + latex(chi_2) + ' = ' + latex(expr_chi_2)))\n",
    "display(Math(latex(eta_1) + ' = ' + latex(expr_eta_1) + ', \\\\quad ' + latex(eta_2) + ' = ' + latex(expr_eta_2)))\n",
    "display(Math(latex(gamma_1) + ' = ' + latex(gamma_2) + ' = ' + latex(gamma) + ', \\\\quad ' + latex(kappa_1) + ' = ' + latex(kappa_2) + ' = ' + latex(kappa)))\n",
    "display(Math(latex(chi_1_plus) + ' = ' + latex(chi_1R * sin(delta * t) + chi_1I * cos(delta * t)) + ', \\\\quad ' + latex(chi_1_minus) + ' = ' + latex(chi_1R * cos(delta * t) - chi_1I * sin(delta * t))))\n",
    "display(Math(latex(eta_2_plus) + ' = ' + latex(eta_2R * sin(delta * t) + eta_2I * cos(delta * t)) + ', \\\\quad ' + latex(eta_2_minus) + ' = ' + latex(eta_2R * cos(delta * t) - eta_2I * sin(delta * t))))\n",
    "\n",
    "# final quadrature rates\n",
    "display(Math('\\\\dot{\\\\hat{\\\\tilde{Q}}}_{1} (t) = ' + latex(expr_dQ_1_tilde_dt)))\n",
    "display(Math('\\\\dot{\\\\hat{\\\\tilde{P}}}_{1} (t) = ' + latex(expr_dP_1_tilde_dt)))\n",
    "expr_dQ_2_tilde_dt_subs = expr_dQ_2_tilde_dt.subs(list_subs).expand()\n",
    "display(Math('\\\\dot{\\\\hat{\\\\tilde{Q}}}_{2} (t) = ' + latex(expr_dQ_2_tilde_dt_subs)))\n",
    "expr_dP_2_tilde_dt_subs = expr_dP_2_tilde_dt.subs(list_subs).expand()\n",
    "display(Math('\\\\dot{\\\\hat{\\\\tilde{P}}}_{2} (t) = ' + latex(expr_dP_2_tilde_dt_subs)))"
   ]
  },
  {
   "source": [
    "## Drift Matrix and Correlation Matrices"
   ],
   "cell_type": "markdown",
   "metadata": {}
  },
  {
   "cell_type": "code",
   "execution_count": 11,
   "metadata": {},
   "outputs": [
    {
     "output_type": "display_data",
     "data": {
      "text/plain": "<IPython.core.display.Math object>",
      "text/latex": "$\\displaystyle A = \\left[\\begin{matrix}\\Gamma_{1} - \\gamma & 0 & 0 & 0\\\\0 & \\Gamma_{1} - \\gamma & 0 & 0\\\\- \\chi_{1}^{-} & \\chi_{1}^{+} & \\Gamma_{2} - \\gamma & 0\\\\- \\chi_{1}^{+} & - \\chi_{1}^{-} & 0 & \\Gamma_{2} - \\gamma\\end{matrix}\\right]$"
     },
     "metadata": {}
    },
    {
     "output_type": "display_data",
     "data": {
      "text/plain": "<IPython.core.display.Math object>",
      "text/latex": "$\\displaystyle D = \\left[\\begin{matrix}\\frac{\\eta_{1I}^{2}}{2} + \\frac{\\eta_{1R}^{2}}{2} + \\gamma \\left(2 n_{th} + 1\\right) & 0 & - \\frac{\\sqrt{\\eta} \\left(\\eta_{1I} \\eta_{2}^{+} + \\eta_{1R} \\eta_{2}^{-}\\right)}{2} & - \\frac{\\sqrt{\\eta} \\left(- \\eta_{1I} \\eta_{2}^{-} + \\eta_{1R} \\eta_{2}^{+}\\right)}{2}\\\\0 & \\frac{\\eta_{1I}^{2}}{2} + \\frac{\\eta_{1R}^{2}}{2} + \\gamma \\left(2 n_{th} + 1\\right) & \\frac{\\sqrt{\\eta} \\left(- \\eta_{1I} \\eta_{2}^{-} + \\eta_{1R} \\eta_{2}^{+}\\right)}{2} & - \\frac{\\sqrt{\\eta} \\left(\\eta_{1I} \\eta_{2}^{+} + \\eta_{1R} \\eta_{2}^{-}\\right)}{2}\\\\- \\frac{\\sqrt{\\eta} \\left(\\eta_{1I} \\eta_{2}^{+} + \\eta_{1R} \\eta_{2}^{-}\\right)}{2} & \\frac{\\sqrt{\\eta} \\left(- \\eta_{1I} \\eta_{2}^{-} + \\eta_{1R} \\eta_{2}^{+}\\right)}{2} & \\frac{\\eta_{2I}^{2}}{2} + \\frac{\\eta_{2R}^{2}}{2} + \\gamma \\left(2 n_{th} + 1\\right) & 0\\\\- \\frac{\\sqrt{\\eta} \\left(- \\eta_{1I} \\eta_{2}^{-} + \\eta_{1R} \\eta_{2}^{+}\\right)}{2} & - \\frac{\\sqrt{\\eta} \\left(\\eta_{1I} \\eta_{2}^{+} + \\eta_{1R} \\eta_{2}^{-}\\right)}{2} & 0 & \\frac{\\eta_{2I}^{2}}{2} + \\frac{\\eta_{2R}^{2}}{2} + \\gamma \\left(2 n_{th} + 1\\right)\\end{matrix}\\right]$"
     },
     "metadata": {}
    },
    {
     "output_type": "display_data",
     "data": {
      "text/plain": "<IPython.core.display.Math object>",
      "text/latex": "$\\displaystyle V = \\left[\\begin{matrix}\\langle \\hat{\\tilde{Q}}_{1}{\\left(t \\right)}\\hat{\\tilde{Q}}_{1}{\\left(t \\right)} \\rangle & \\frac{\\langle \\hat{\\tilde{P}}_{1}{\\left(t \\right)}\\hat{\\tilde{Q}}_{1}{\\left(t \\right)} \\rangle}{2} + \\frac{\\langle \\hat{\\tilde{Q}}_{1}{\\left(t \\right)}\\hat{\\tilde{P}}_{1}{\\left(t \\right)} \\rangle}{2} & \\frac{\\langle \\hat{\\tilde{Q}}_{1}{\\left(t \\right)}\\hat{\\tilde{Q}}_{2}{\\left(t \\right)} \\rangle}{2} + \\frac{\\langle \\hat{\\tilde{Q}}_{2}{\\left(t \\right)}\\hat{\\tilde{Q}}_{1}{\\left(t \\right)} \\rangle}{2} & \\frac{\\langle \\hat{\\tilde{P}}_{2}{\\left(t \\right)}\\hat{\\tilde{Q}}_{1}{\\left(t \\right)} \\rangle}{2} + \\frac{\\langle \\hat{\\tilde{Q}}_{1}{\\left(t \\right)}\\hat{\\tilde{P}}_{2}{\\left(t \\right)} \\rangle}{2}\\\\\\frac{\\langle \\hat{\\tilde{P}}_{1}{\\left(t \\right)}\\hat{\\tilde{Q}}_{1}{\\left(t \\right)} \\rangle}{2} + \\frac{\\langle \\hat{\\tilde{Q}}_{1}{\\left(t \\right)}\\hat{\\tilde{P}}_{1}{\\left(t \\right)} \\rangle}{2} & \\langle \\hat{\\tilde{P}}_{1}{\\left(t \\right)}\\hat{\\tilde{P}}_{1}{\\left(t \\right)} \\rangle & \\frac{\\langle \\hat{\\tilde{P}}_{1}{\\left(t \\right)}\\hat{\\tilde{Q}}_{2}{\\left(t \\right)} \\rangle}{2} + \\frac{\\langle \\hat{\\tilde{Q}}_{2}{\\left(t \\right)}\\hat{\\tilde{P}}_{1}{\\left(t \\right)} \\rangle}{2} & \\frac{\\langle \\hat{\\tilde{P}}_{1}{\\left(t \\right)}\\hat{\\tilde{P}}_{2}{\\left(t \\right)} \\rangle}{2} + \\frac{\\langle \\hat{\\tilde{P}}_{2}{\\left(t \\right)}\\hat{\\tilde{P}}_{1}{\\left(t \\right)} \\rangle}{2}\\\\\\frac{\\langle \\hat{\\tilde{Q}}_{1}{\\left(t \\right)}\\hat{\\tilde{Q}}_{2}{\\left(t \\right)} \\rangle}{2} + \\frac{\\langle \\hat{\\tilde{Q}}_{2}{\\left(t \\right)}\\hat{\\tilde{Q}}_{1}{\\left(t \\right)} \\rangle}{2} & \\frac{\\langle \\hat{\\tilde{P}}_{1}{\\left(t \\right)}\\hat{\\tilde{Q}}_{2}{\\left(t \\right)} \\rangle}{2} + \\frac{\\langle \\hat{\\tilde{Q}}_{2}{\\left(t \\right)}\\hat{\\tilde{P}}_{1}{\\left(t \\right)} \\rangle}{2} & \\langle \\hat{\\tilde{Q}}_{2}{\\left(t \\right)}\\hat{\\tilde{Q}}_{2}{\\left(t \\right)} \\rangle & \\frac{\\langle \\hat{\\tilde{P}}_{2}{\\left(t \\right)}\\hat{\\tilde{Q}}_{2}{\\left(t \\right)} \\rangle}{2} + \\frac{\\langle \\hat{\\tilde{Q}}_{2}{\\left(t \\right)}\\hat{\\tilde{P}}_{2}{\\left(t \\right)} \\rangle}{2}\\\\\\frac{\\langle \\hat{\\tilde{P}}_{2}{\\left(t \\right)}\\hat{\\tilde{Q}}_{1}{\\left(t \\right)} \\rangle}{2} + \\frac{\\langle \\hat{\\tilde{Q}}_{1}{\\left(t \\right)}\\hat{\\tilde{P}}_{2}{\\left(t \\right)} \\rangle}{2} & \\frac{\\langle \\hat{\\tilde{P}}_{1}{\\left(t \\right)}\\hat{\\tilde{P}}_{2}{\\left(t \\right)} \\rangle}{2} + \\frac{\\langle \\hat{\\tilde{P}}_{2}{\\left(t \\right)}\\hat{\\tilde{P}}_{1}{\\left(t \\right)} \\rangle}{2} & \\frac{\\langle \\hat{\\tilde{P}}_{2}{\\left(t \\right)}\\hat{\\tilde{Q}}_{2}{\\left(t \\right)} \\rangle}{2} + \\frac{\\langle \\hat{\\tilde{Q}}_{2}{\\left(t \\right)}\\hat{\\tilde{P}}_{2}{\\left(t \\right)} \\rangle}{2} & \\langle \\hat{\\tilde{P}}_{2}{\\left(t \\right)}\\hat{\\tilde{P}}_{2}{\\left(t \\right)} \\rangle\\end{matrix}\\right]$"
     },
     "metadata": {}
    }
   ],
   "source": [
    "# drift matrix\n",
    "A = Matrix([\n",
    "    [(Gamma_1 - gamma), 0, 0, 0], \n",
    "    [0, (Gamma_1 - gamma), 0, 0], \n",
    "    [- chi_1_minus, chi_1_plus, (Gamma_2 - gamma), 0], \n",
    "    [- chi_1_plus, - chi_1_minus, 0, (Gamma_2 - gamma)]\n",
    "])\n",
    "display(Math('A = ' + latex(A)))\n",
    "\n",
    "# noise matrix\n",
    "diag_1 = eta_1R**2 / 2 + eta_1I**2 / 2 + gamma * (2 * n_th + 1)\n",
    "diag_2 = eta_2R**2 / 2 + eta_2I**2 / 2 + gamma * (2 * n_th + 1)\n",
    "temp_same = - sqrt(eta) / 2 * (eta_1R * eta_2_minus + eta_1I * eta_2_plus)\n",
    "temp_diff = - sqrt(eta) / 2 * (eta_1R * eta_2_plus - eta_1I * eta_2_minus)\n",
    "D = Matrix([[diag_1, 0, temp_same, temp_diff], [0, diag_1, - temp_diff, temp_same], [temp_same, - temp_diff, diag_2, 0], [temp_diff, temp_same, 0, diag_2]])\n",
    "display(Math('D = ' + latex(D)))\n",
    "\n",
    "# correlation matrix\n",
    "u = [Q_1_tilde_t, P_1_tilde_t, Q_2_tilde_t, P_2_tilde_t]\n",
    "correlations_expect = Matrix([[Symbol('\\\\langle ' + latex(u_i) + latex(u_j) + ' \\\\rangle', real=True) for u_i in u] for u_j in u])\n",
    "V = (correlations_expect + correlations_expect.T) / 2\n",
    "display(Math('V = ' + latex(V)))"
   ]
  },
  {
   "source": [
    "## Analytical Expressions for Quadrature Correlations"
   ],
   "cell_type": "markdown",
   "metadata": {}
  },
  {
   "cell_type": "code",
   "execution_count": 12,
   "metadata": {},
   "outputs": [
    {
     "output_type": "display_data",
     "data": {
      "text/plain": "<IPython.core.display.Math object>",
      "text/latex": "$\\displaystyle \\langle \\hat{\\tilde{Q}}_{1}{\\left(t \\right)}\\hat{\\tilde{Q}}_{1}{\\left(t \\right)} \\rangle = - \\frac{\\frac{\\eta_{1I}^{2}}{4} + \\frac{\\eta_{1R}^{2}}{4} + \\gamma n_{th} + \\frac{\\gamma}{2}}{\\Gamma_{1} - \\gamma}$"
     },
     "metadata": {}
    },
    {
     "output_type": "display_data",
     "data": {
      "text/plain": "<IPython.core.display.Math object>",
      "text/latex": "$\\displaystyle \\frac{\\langle \\hat{\\tilde{P}}_{1}{\\left(t \\right)}\\hat{\\tilde{Q}}_{1}{\\left(t \\right)} \\rangle}{2} + \\frac{\\langle \\hat{\\tilde{Q}}_{1}{\\left(t \\right)}\\hat{\\tilde{P}}_{1}{\\left(t \\right)} \\rangle}{2} = 0$"
     },
     "metadata": {}
    },
    {
     "output_type": "display_data",
     "data": {
      "text/plain": "<IPython.core.display.Math object>",
      "text/latex": "$\\displaystyle \\langle \\hat{\\tilde{P}}_{1}{\\left(t \\right)}\\hat{\\tilde{P}}_{1}{\\left(t \\right)} \\rangle = - \\frac{\\frac{\\eta_{1I}^{2}}{4} + \\frac{\\eta_{1R}^{2}}{4} + \\gamma n_{th} + \\frac{\\gamma}{2}}{\\Gamma_{1} - \\gamma}$"
     },
     "metadata": {}
    },
    {
     "output_type": "display_data",
     "data": {
      "text/plain": "<IPython.core.display.Math object>",
      "text/latex": "$\\displaystyle \\langle \\hat{\\tilde{Q}}_{2}{\\left(t \\right)}\\hat{\\tilde{Q}}_{2}{\\left(t \\right)} \\rangle = \\frac{2 \\sqrt{\\eta} \\left(\\Gamma_{1} - \\gamma\\right) \\left(- \\chi_{1}^{+} \\left(\\eta_{1I} \\eta_{2}^{-} - \\eta_{1R} \\eta_{2}^{+}\\right) + \\chi_{1}^{-} \\left(\\eta_{1I} \\eta_{2}^{+} + \\eta_{1R} \\eta_{2}^{-}\\right)\\right) - \\left(\\Gamma_{1} - \\gamma\\right) \\left(\\Gamma_{1} + \\Gamma_{2} - 2 \\gamma\\right) \\left(\\eta_{2I}^{2} + \\eta_{2R}^{2} + 4 \\gamma n_{th} + 2 \\gamma\\right) - \\left(\\left(\\chi_{1}^{+}\\right)^{2} + \\left(\\chi_{1}^{-}\\right)^{2}\\right) \\left(\\eta_{1I}^{2} + \\eta_{1R}^{2} + 4 \\gamma n_{th} + 2 \\gamma\\right)}{4 \\left(\\Gamma_{1} - \\gamma\\right) \\left(\\Gamma_{2} - \\gamma\\right) \\left(\\Gamma_{1} + \\Gamma_{2} - 2 \\gamma\\right)}$"
     },
     "metadata": {}
    },
    {
     "output_type": "display_data",
     "data": {
      "text/plain": "<IPython.core.display.Math object>",
      "text/latex": "$\\displaystyle \\frac{\\langle \\hat{\\tilde{P}}_{2}{\\left(t \\right)}\\hat{\\tilde{Q}}_{2}{\\left(t \\right)} \\rangle}{2} + \\frac{\\langle \\hat{\\tilde{Q}}_{2}{\\left(t \\right)}\\hat{\\tilde{P}}_{2}{\\left(t \\right)} \\rangle}{2} = 0$"
     },
     "metadata": {}
    },
    {
     "output_type": "display_data",
     "data": {
      "text/plain": "<IPython.core.display.Math object>",
      "text/latex": "$\\displaystyle \\langle \\hat{\\tilde{P}}_{2}{\\left(t \\right)}\\hat{\\tilde{P}}_{2}{\\left(t \\right)} \\rangle = \\frac{2 \\sqrt{\\eta} \\left(\\Gamma_{1} - \\gamma\\right) \\left(- \\chi_{1}^{+} \\left(\\eta_{1I} \\eta_{2}^{-} - \\eta_{1R} \\eta_{2}^{+}\\right) + \\chi_{1}^{-} \\left(\\eta_{1I} \\eta_{2}^{+} + \\eta_{1R} \\eta_{2}^{-}\\right)\\right) - \\left(\\Gamma_{1} - \\gamma\\right) \\left(\\Gamma_{1} + \\Gamma_{2} - 2 \\gamma\\right) \\left(\\eta_{2I}^{2} + \\eta_{2R}^{2} + 4 \\gamma n_{th} + 2 \\gamma\\right) - \\left(\\left(\\chi_{1}^{+}\\right)^{2} + \\left(\\chi_{1}^{-}\\right)^{2}\\right) \\left(\\eta_{1I}^{2} + \\eta_{1R}^{2} + 4 \\gamma n_{th} + 2 \\gamma\\right)}{4 \\left(\\Gamma_{1} - \\gamma\\right) \\left(\\Gamma_{2} - \\gamma\\right) \\left(\\Gamma_{1} + \\Gamma_{2} - 2 \\gamma\\right)}$"
     },
     "metadata": {}
    },
    {
     "output_type": "display_data",
     "data": {
      "text/plain": "<IPython.core.display.Math object>",
      "text/latex": "$\\displaystyle \\frac{\\langle \\hat{\\tilde{Q}}_{1}{\\left(t \\right)}\\hat{\\tilde{Q}}_{2}{\\left(t \\right)} \\rangle}{2} + \\frac{\\langle \\hat{\\tilde{Q}}_{2}{\\left(t \\right)}\\hat{\\tilde{Q}}_{1}{\\left(t \\right)} \\rangle}{2} = \\frac{- \\chi_{1}^{-} \\left(\\eta_{1I}^{2} + \\eta_{1R}^{2} + 4 \\gamma n_{th} + 2 \\gamma\\right) + 2 \\sqrt{\\eta} \\left(\\Gamma_{1} - \\gamma\\right) \\left(\\eta_{1I} \\eta_{2}^{+} + \\eta_{1R} \\eta_{2}^{-}\\right)}{4 \\left(\\Gamma_{1} - \\gamma\\right) \\left(\\Gamma_{1} + \\Gamma_{2} - 2 \\gamma\\right)}$"
     },
     "metadata": {}
    },
    {
     "output_type": "display_data",
     "data": {
      "text/plain": "<IPython.core.display.Math object>",
      "text/latex": "$\\displaystyle \\frac{\\langle \\hat{\\tilde{P}}_{2}{\\left(t \\right)}\\hat{\\tilde{Q}}_{1}{\\left(t \\right)} \\rangle}{2} + \\frac{\\langle \\hat{\\tilde{Q}}_{1}{\\left(t \\right)}\\hat{\\tilde{P}}_{2}{\\left(t \\right)} \\rangle}{2} = \\frac{- \\chi_{1}^{+} \\left(\\eta_{1I}^{2} + \\eta_{1R}^{2} + 4 \\gamma n_{th} + 2 \\gamma\\right) + 2 \\sqrt{\\eta} \\left(\\Gamma_{1} - \\gamma\\right) \\left(- \\eta_{1I} \\eta_{2}^{-} + \\eta_{1R} \\eta_{2}^{+}\\right)}{4 \\left(\\Gamma_{1} - \\gamma\\right) \\left(\\Gamma_{1} + \\Gamma_{2} - 2 \\gamma\\right)}$"
     },
     "metadata": {}
    },
    {
     "output_type": "display_data",
     "data": {
      "text/plain": "<IPython.core.display.Math object>",
      "text/latex": "$\\displaystyle \\frac{\\langle \\hat{\\tilde{P}}_{1}{\\left(t \\right)}\\hat{\\tilde{Q}}_{2}{\\left(t \\right)} \\rangle}{2} + \\frac{\\langle \\hat{\\tilde{Q}}_{2}{\\left(t \\right)}\\hat{\\tilde{P}}_{1}{\\left(t \\right)} \\rangle}{2} = \\frac{\\chi_{1}^{+} \\left(\\eta_{1I}^{2} + \\eta_{1R}^{2} + 4 \\gamma n_{th} + 2 \\gamma\\right) + 2 \\sqrt{\\eta} \\left(\\Gamma_{1} - \\gamma\\right) \\left(\\eta_{1I} \\eta_{2}^{-} - \\eta_{1R} \\eta_{2}^{+}\\right)}{4 \\left(\\Gamma_{1} - \\gamma\\right) \\left(\\Gamma_{1} + \\Gamma_{2} - 2 \\gamma\\right)}$"
     },
     "metadata": {}
    },
    {
     "output_type": "display_data",
     "data": {
      "text/plain": "<IPython.core.display.Math object>",
      "text/latex": "$\\displaystyle \\frac{\\langle \\hat{\\tilde{P}}_{1}{\\left(t \\right)}\\hat{\\tilde{P}}_{2}{\\left(t \\right)} \\rangle}{2} + \\frac{\\langle \\hat{\\tilde{P}}_{2}{\\left(t \\right)}\\hat{\\tilde{P}}_{1}{\\left(t \\right)} \\rangle}{2} = \\frac{- \\chi_{1}^{-} \\left(\\eta_{1I}^{2} + \\eta_{1R}^{2} + 4 \\gamma n_{th} + 2 \\gamma\\right) + 2 \\sqrt{\\eta} \\left(\\Gamma_{1} - \\gamma\\right) \\left(\\eta_{1I} \\eta_{2}^{+} + \\eta_{1R} \\eta_{2}^{-}\\right)}{4 \\left(\\Gamma_{1} - \\gamma\\right) \\left(\\Gamma_{1} + \\Gamma_{2} - 2 \\gamma\\right)}$"
     },
     "metadata": {}
    }
   ],
   "source": [
    "# all expressions\r\n",
    "expr_dV_dt = A * V + V * A.T + D\r\n",
    "# unique expressions\r\n",
    "idxs = [(0, 0), (0, 1), (1, 1), (2, 2), (2, 3), (3, 3), (0, 2), (0, 3), (1, 2), (1, 3)]\r\n",
    "expr_unique = [expr_dV_dt[idx[0], idx[1]] for idx in idxs]\r\n",
    "# for i in range(len(idxs)):\r\n",
    "#     display(Math(latex(expr_unique[i]) + ' = 0'))\r\n",
    "\r\n",
    "# solutions\r\n",
    "sols = solve(expr_unique, [V[idx[0], idx[1]] for idx in idxs])\r\n",
    "for idx in idxs:\r\n",
    "    display(Math(latex(V[idx[0], idx[1]]) + ' = ' + latex(sols[V[idx[0], idx[1]]])))"
   ]
  },
  {
   "source": [
    "## Difference in Phonon Numbers"
   ],
   "cell_type": "markdown",
   "metadata": {}
  },
  {
   "cell_type": "code",
   "execution_count": 13,
   "metadata": {},
   "outputs": [
    {
     "output_type": "display_data",
     "data": {
      "text/plain": "<IPython.core.display.Math object>",
      "text/latex": "$\\displaystyle \\Rightarrow n_{b_2} - n_{b_1} = - \\frac{\\gamma \\left(n_{th} + 1\\right) \\left(\\Gamma_{1}^{2} + 4 \\Gamma_{1} \\Gamma_{2} \\eta - 2 \\Gamma_{1} \\gamma - \\Gamma_{2}^{2} + 2 \\Gamma_{2} \\gamma\\right)}{\\left(\\Gamma_{1} - \\gamma\\right) \\left(\\Gamma_{2} - \\gamma\\right) \\left(\\Gamma_{1} + \\Gamma_{2} - 2 \\gamma\\right)}$"
     },
     "metadata": {}
    }
   ],
   "source": [
    "# substitution list\n",
    "list_subs = [\n",
    "    (chi_1_plus, chi_1R * sin(delta * t) + chi_1I * cos(delta * t)),\n",
    "    (chi_1_minus, chi_1R * cos(delta * t) - chi_1I * sin(delta * t)),\n",
    "    (chi_1R, sqrt(eta) / kappa * (G_1 * conjugate(G_2) + conjugate(G_1) * G_2)),\n",
    "    (chi_1I, I * sqrt(eta) / kappa * (G_1 * conjugate(G_2) - conjugate(G_1) * G_2)),\n",
    "    (chi_2R, sqrt(eta) / kappa * (conjugate(G_1) * G_2 + G_1 * conjugate(G_2))),\n",
    "    (chi_2I, I * sqrt(eta) / kappa * (conjugate(G_1) * G_2 - G_1 * conjugate(G_2))),\n",
    "    (eta_2_plus, eta_2R * sin(delta * t) + eta_2I * cos(delta * t)),\n",
    "    (eta_2_minus, eta_2R * cos(delta * t) - eta_2I * sin(delta * t)),\n",
    "    (eta_1R, sqrt(2 / kappa) * (conjugate(G_1) + G_1) / 2),\n",
    "    (eta_1I, I * sqrt(2 / kappa) * (conjugate(G_1) - G_1) / 2),\n",
    "    (eta_2R, sqrt(2 / kappa) * (conjugate(G_2) + G_2) / 2),\n",
    "    (eta_2I, I * sqrt(2 / kappa) * (conjugate(G_2) - G_2) / 2),\n",
    "    (Gamma_1, conjugate(G_1) * G_1 / kappa),\n",
    "    (Gamma_2, conjugate(G_2) * G_2 / kappa)\n",
    "]\n",
    "\n",
    "# phonon number difference\n",
    "expr_n_b_diff = (sols[V[3, 3]] + sols[V[2, 2]] - sols[V[1, 1]] - sols[V[0, 0]]) / 2\n",
    "expr_n_b_diff = expr_n_b_diff.subs(list_subs).expand().factor()\n",
    "# display(Math('n_{b_2} - n_{b_1} = ' + latex(expr_n_b_diff)))\n",
    "\n",
    "# resubstitute\n",
    "expr_n_b_diff = expr_n_b_diff.subs([\n",
    "    (conjugate(G_1) * G_1, Gamma_1 * kappa), \n",
    "    (conjugate(G_2) * G_2, Gamma_2 * kappa),\n",
    "    (sin(delta * t)**2, 1 - cos(delta * t)**2)\n",
    "]).expand().factor()\n",
    "display(Math('\\\\Rightarrow n_{b_2} - n_{b_1} = ' + latex(expr_n_b_diff)))"
   ]
  }
 ],
 "metadata": {
  "kernelspec": {
   "name": "python3",
   "display_name": "Python 3.8.5 64-bit ('base': conda)"
  },
  "language_info": {
   "codemirror_mode": {
    "name": "ipython",
    "version": 3
   },
   "file_extension": ".py",
   "mimetype": "text/x-python",
   "name": "python",
   "nbconvert_exporter": "python",
   "pygments_lexer": "ipython3",
   "version": "3.8.5"
  },
  "interpreter": {
   "hash": "b3ba2566441a7c06988d0923437866b63cedc61552a5af99d1f4fb67d367b25f"
  }
 },
 "nbformat": 4,
 "nbformat_minor": 2
}