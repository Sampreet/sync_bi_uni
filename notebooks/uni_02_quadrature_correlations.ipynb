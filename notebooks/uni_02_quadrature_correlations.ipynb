{
 "metadata": {
  "language_info": {
   "codemirror_mode": {
    "name": "ipython",
    "version": 3
   },
   "file_extension": ".py",
   "mimetype": "text/x-python",
   "name": "python",
   "nbconvert_exporter": "python",
   "pygments_lexer": "ipython3",
   "version": "3.8.5"
  },
  "orig_nbformat": 4,
  "kernelspec": {
   "name": "python3",
   "display_name": "Python 3.8.5 64-bit ('base': conda)"
  },
  "interpreter": {
   "hash": "b3ba2566441a7c06988d0923437866b63cedc61552a5af99d1f4fb67d367b25f"
  }
 },
 "nbformat": 4,
 "nbformat_minor": 2,
 "cells": [
  {
   "source": [
    "# Quadrature Correlations for Unidirectionally-coupled Identical Configuration with Adiabatically Eliminated Optical Modes"
   ],
   "cell_type": "markdown",
   "metadata": {}
  },
  {
   "source": [
    "## Initialization"
   ],
   "cell_type": "markdown",
   "metadata": {}
  },
  {
   "cell_type": "code",
   "execution_count": 1,
   "metadata": {},
   "outputs": [],
   "source": [
    "# dependencies\n",
    "from IPython.display import display, Math\n",
    "from sympy import init_printing, latex\n",
    "from sympy import Function, I, Matrix, solve, sqrt, Symbol, symbols\n",
    "# use mathjax renderer for faster load times\n",
    "init_printing(use_latex='mathjax')"
   ]
  },
  {
   "cell_type": "code",
   "execution_count": 2,
   "metadata": {},
   "outputs": [],
   "source": [
    "# time\n",
    "t = symbols('t', real=True, positive=True)\n",
    "# positive parameters\n",
    "eta, Gamma_1, Gamma_2, gamma, kappa, n_th = symbols('\\\\eta, \\\\Gamma_{1}, \\\\Gamma_{2}, \\\\gamma, \\\\kappa, n_{th}', real=True, positive=True)\n",
    "# real-valued parameters\n",
    "chi_1R, chi_1I, chi_2R, chi_2I, eta_1R, eta_1I, eta_2R, eta_2I = symbols('\\\\chi_{1R}, \\\\chi_{1I}, \\\\chi_{2R}, \\\\chi_{2I}, \\\\eta_{1R}, \\\\eta_{1I}, \\\\eta_{2R}, \\\\eta_{2I}', real=True)\n",
    "\n",
    "# rotated mechanical quadratures\n",
    "Q_1_tilde_t = Function('\\\\hat{\\\\tilde{Q}}_{1}', commutative=False)(t)\n",
    "P_1_tilde_t = Function('\\\\hat{\\\\tilde{P}}_{1}', commutative=False)(t)\n",
    "Q_2_tilde_t = Function('\\\\hat{\\\\tilde{Q}}_{2}', commutative=False)(t)\n",
    "P_2_tilde_t = Function('\\\\hat{\\\\tilde{P}}_{2}', commutative=False)(t)\n",
    "# rotated noise quadratures\n",
    "X_1_in_tilde_t = Function('\\\\hat{\\\\tilde{X}}_{1}^{in}', commutative=False)(t)\n",
    "Y_1_in_tilde_t = Function('\\\\hat{\\\\tilde{Y}}_{1}^{in}', commutative=False)(t)\n",
    "Q_1_in_tilde_t = Function('\\\\hat{\\\\tilde{Q}}_{1}^{in}', commutative=False)(t)\n",
    "P_1_in_tilde_t = Function('\\\\hat{\\\\tilde{P}}_{1}^{in}', commutative=False)(t)\n",
    "X_2_in_tilde_t = Function('\\\\hat{\\\\tilde{X}}_{2}^{in}', commutative=False)(t)\n",
    "Y_2_in_tilde_t = Function('\\\\hat{\\\\tilde{Y}}_{2}^{in}', commutative=False)(t)\n",
    "Q_2_in_tilde_t = Function('\\\\hat{\\\\tilde{Q}}_{2}^{in}', commutative=False)(t)\n",
    "P_2_in_tilde_t = Function('\\\\hat{\\\\tilde{P}}_{2}^{in}', commutative=False)(t)"
   ]
  },
  {
   "source": [
    "## Rotated Mechanical Quadrature Rates"
   ],
   "cell_type": "markdown",
   "metadata": {}
  },
  {
   "cell_type": "code",
   "execution_count": 3,
   "metadata": {},
   "outputs": [
    {
     "output_type": "display_data",
     "data": {
      "text/plain": "<IPython.core.display.Math object>",
      "text/latex": "$\\displaystyle \\dot{\\hat{\\tilde{Q}}}_{1} (t) = - \\eta_{1I} \\hat{\\tilde{X}}_{1}^{in}{\\left(t \\right)} + \\eta_{1R} \\hat{\\tilde{Y}}_{1}^{in}{\\left(t \\right)} + \\sqrt{2} \\sqrt{\\gamma} \\hat{\\tilde{Q}}_{1}^{in}{\\left(t \\right)} + \\left(\\Gamma_{1} - \\gamma\\right) \\hat{\\tilde{Q}}_{1}{\\left(t \\right)}$"
     },
     "metadata": {}
    },
    {
     "output_type": "display_data",
     "data": {
      "text/plain": "<IPython.core.display.Math object>",
      "text/latex": "$\\displaystyle \\dot{\\hat{\\tilde{P}}}_{1} (t) = \\eta_{1I} \\hat{\\tilde{Y}}_{1}^{in}{\\left(t \\right)} + \\eta_{1R} \\hat{\\tilde{X}}_{1}^{in}{\\left(t \\right)} + \\sqrt{2} \\sqrt{\\gamma} \\hat{\\tilde{P}}_{1}^{in}{\\left(t \\right)} + \\left(\\Gamma_{1} - \\gamma\\right) \\hat{\\tilde{P}}_{1}{\\left(t \\right)}$"
     },
     "metadata": {}
    },
    {
     "output_type": "display_data",
     "data": {
      "text/plain": "<IPython.core.display.Math object>",
      "text/latex": "$\\displaystyle \\dot{\\hat{\\tilde{Q}}}_{2} (t) = \\chi_{1I} \\hat{\\tilde{P}}_{1}{\\left(t \\right)} - \\chi_{1R} \\hat{\\tilde{Q}}_{1}{\\left(t \\right)} + \\sqrt{\\eta} \\eta_{2I} \\hat{\\tilde{X}}_{1}^{in}{\\left(t \\right)} - \\sqrt{\\eta} \\eta_{2R} \\hat{\\tilde{Y}}_{1}^{in}{\\left(t \\right)} - \\eta_{2I} \\sqrt{1 - \\eta} \\hat{\\tilde{X}}_{2}^{in}{\\left(t \\right)} + \\eta_{2R} \\sqrt{1 - \\eta} \\hat{\\tilde{Y}}_{2}^{in}{\\left(t \\right)} + \\sqrt{2} \\sqrt{\\gamma} \\hat{\\tilde{Q}}_{2}^{in}{\\left(t \\right)} + \\left(\\Gamma_{2} - \\gamma\\right) \\hat{\\tilde{Q}}_{2}{\\left(t \\right)}$"
     },
     "metadata": {}
    },
    {
     "output_type": "display_data",
     "data": {
      "text/plain": "<IPython.core.display.Math object>",
      "text/latex": "$\\displaystyle \\dot{\\hat{\\tilde{P}}}_{2} (t) = - \\chi_{1I} \\hat{\\tilde{Q}}_{1}{\\left(t \\right)} - \\chi_{1R} \\hat{\\tilde{P}}_{1}{\\left(t \\right)} - \\sqrt{\\eta} \\eta_{2I} \\hat{\\tilde{Y}}_{1}^{in}{\\left(t \\right)} - \\sqrt{\\eta} \\eta_{2R} \\hat{\\tilde{X}}_{1}^{in}{\\left(t \\right)} + \\eta_{2I} \\sqrt{1 - \\eta} \\hat{\\tilde{Y}}_{2}^{in}{\\left(t \\right)} + \\eta_{2R} \\sqrt{1 - \\eta} \\hat{\\tilde{X}}_{2}^{in}{\\left(t \\right)} + \\sqrt{2} \\sqrt{\\gamma} \\hat{\\tilde{P}}_{2}^{in}{\\left(t \\right)} + \\left(\\Gamma_{2} - \\gamma\\right) \\hat{\\tilde{P}}_{2}{\\left(t \\right)}$"
     },
     "metadata": {}
    }
   ],
   "source": [
    "# rate equations\n",
    "expr_dQ_1_tilde_dt_t = (Gamma_1 - gamma) * Q_1_tilde_t - eta_1I * X_1_in_tilde_t + eta_1R * Y_1_in_tilde_t + sqrt(2 * gamma) * Q_1_in_tilde_t \n",
    "display(Math('\\\\dot{\\\\hat{\\\\tilde{Q}}}_{1} (t) = ' + latex(expr_dQ_1_tilde_dt_t)))\n",
    "expr_dP_1_tilde_dt_t = (Gamma_1 - gamma) * P_1_tilde_t + eta_1R * X_1_in_tilde_t + eta_1I * Y_1_in_tilde_t + sqrt(2 * gamma) * P_1_in_tilde_t \n",
    "display(Math('\\\\dot{\\\\hat{\\\\tilde{P}}}_{1} (t) = ' + latex(expr_dP_1_tilde_dt_t)))\n",
    "expr_dQ_2_tilde_dt_t = - chi_1R * Q_1_tilde_t + chi_1I * P_1_tilde_t + (Gamma_2 - gamma) * Q_2_tilde_t + sqrt(eta) * eta_2I * X_1_in_tilde_t - sqrt(eta) * eta_2R * Y_1_in_tilde_t - sqrt(1 - eta) * eta_2I * X_2_in_tilde_t + sqrt(1 - eta) * eta_2R * Y_2_in_tilde_t + sqrt(2 * gamma) * Q_2_in_tilde_t \n",
    "display(Math('\\\\dot{\\\\hat{\\\\tilde{Q}}}_{2} (t) = ' + latex(expr_dQ_2_tilde_dt_t)))\n",
    "expr_dP_2_tilde_dt_t = - chi_1I * Q_1_tilde_t - chi_1R * P_1_tilde_t + (Gamma_2 - gamma) * P_2_tilde_t - sqrt(eta) * eta_2R * X_1_in_tilde_t - sqrt(eta) * eta_2I * Y_1_in_tilde_t + sqrt(1 - eta) * eta_2R * X_2_in_tilde_t + sqrt(1 - eta) * eta_2I * Y_2_in_tilde_t + sqrt(2 * gamma) * P_2_in_tilde_t \n",
    "display(Math('\\\\dot{\\\\hat{\\\\tilde{P}}}_{2} (t) = ' + latex(expr_dP_2_tilde_dt_t)))"
   ]
  },
  {
   "source": [
    "## Correlation Matrix Elements"
   ],
   "cell_type": "markdown",
   "metadata": {}
  },
  {
   "cell_type": "code",
   "execution_count": 4,
   "metadata": {},
   "outputs": [
    {
     "output_type": "display_data",
     "data": {
      "text/plain": "<IPython.core.display.Math object>",
      "text/latex": "$\\displaystyle A = \\left[\\begin{matrix}\\Gamma_{1} - \\gamma & 0 & 0 & 0\\\\0 & \\Gamma_{1} - \\gamma & 0 & 0\\\\- \\chi_{1R} & \\chi_{1I} & \\Gamma_{2} - \\gamma & 0\\\\- \\chi_{1I} & - \\chi_{1R} & 0 & \\Gamma_{2} - \\gamma\\end{matrix}\\right]$"
     },
     "metadata": {}
    },
    {
     "output_type": "display_data",
     "data": {
      "text/plain": "<IPython.core.display.Math object>",
      "text/latex": "$\\displaystyle D = \\left[\\begin{matrix}\\frac{\\eta_{1I}^{2}}{2} + \\frac{\\eta_{1R}^{2}}{2} + \\gamma \\left(2 n_{th} + 1\\right) & 0 & - \\frac{\\sqrt{\\eta} \\left(\\eta_{1I} \\eta_{2I} + \\eta_{1R} \\eta_{2R}\\right)}{2} & - \\frac{\\sqrt{\\eta} \\left(- \\eta_{1I} \\eta_{2R} + \\eta_{1R} \\eta_{2I}\\right)}{2}\\\\0 & \\frac{\\eta_{1I}^{2}}{2} + \\frac{\\eta_{1R}^{2}}{2} + \\gamma \\left(2 n_{th} + 1\\right) & \\frac{\\sqrt{\\eta} \\left(- \\eta_{1I} \\eta_{2R} + \\eta_{1R} \\eta_{2I}\\right)}{2} & - \\frac{\\sqrt{\\eta} \\left(\\eta_{1I} \\eta_{2I} + \\eta_{1R} \\eta_{2R}\\right)}{2}\\\\- \\frac{\\sqrt{\\eta} \\left(\\eta_{1I} \\eta_{2I} + \\eta_{1R} \\eta_{2R}\\right)}{2} & \\frac{\\sqrt{\\eta} \\left(- \\eta_{1I} \\eta_{2R} + \\eta_{1R} \\eta_{2I}\\right)}{2} & \\frac{\\eta_{2I}^{2}}{2} + \\frac{\\eta_{2R}^{2}}{2} + \\gamma \\left(2 n_{th} + 1\\right) & 0\\\\- \\frac{\\sqrt{\\eta} \\left(- \\eta_{1I} \\eta_{2R} + \\eta_{1R} \\eta_{2I}\\right)}{2} & - \\frac{\\sqrt{\\eta} \\left(\\eta_{1I} \\eta_{2I} + \\eta_{1R} \\eta_{2R}\\right)}{2} & 0 & \\frac{\\eta_{2I}^{2}}{2} + \\frac{\\eta_{2R}^{2}}{2} + \\gamma \\left(2 n_{th} + 1\\right)\\end{matrix}\\right]$"
     },
     "metadata": {}
    },
    {
     "output_type": "display_data",
     "data": {
      "text/plain": "<IPython.core.display.Math object>",
      "text/latex": "$\\displaystyle V = \\left[\\begin{matrix}\\langle \\hat{\\tilde{Q}}_{1}{\\left(t \\right)}\\hat{\\tilde{Q}}_{1}{\\left(t \\right)} \\rangle & \\frac{\\langle \\hat{\\tilde{P}}_{1}{\\left(t \\right)}\\hat{\\tilde{Q}}_{1}{\\left(t \\right)} \\rangle}{2} + \\frac{\\langle \\hat{\\tilde{Q}}_{1}{\\left(t \\right)}\\hat{\\tilde{P}}_{1}{\\left(t \\right)} \\rangle}{2} & \\frac{\\langle \\hat{\\tilde{Q}}_{1}{\\left(t \\right)}\\hat{\\tilde{Q}}_{2}{\\left(t \\right)} \\rangle}{2} + \\frac{\\langle \\hat{\\tilde{Q}}_{2}{\\left(t \\right)}\\hat{\\tilde{Q}}_{1}{\\left(t \\right)} \\rangle}{2} & \\frac{\\langle \\hat{\\tilde{P}}_{2}{\\left(t \\right)}\\hat{\\tilde{Q}}_{1}{\\left(t \\right)} \\rangle}{2} + \\frac{\\langle \\hat{\\tilde{Q}}_{1}{\\left(t \\right)}\\hat{\\tilde{P}}_{2}{\\left(t \\right)} \\rangle}{2}\\\\\\frac{\\langle \\hat{\\tilde{P}}_{1}{\\left(t \\right)}\\hat{\\tilde{Q}}_{1}{\\left(t \\right)} \\rangle}{2} + \\frac{\\langle \\hat{\\tilde{Q}}_{1}{\\left(t \\right)}\\hat{\\tilde{P}}_{1}{\\left(t \\right)} \\rangle}{2} & \\langle \\hat{\\tilde{P}}_{1}{\\left(t \\right)}\\hat{\\tilde{P}}_{1}{\\left(t \\right)} \\rangle & \\frac{\\langle \\hat{\\tilde{P}}_{1}{\\left(t \\right)}\\hat{\\tilde{Q}}_{2}{\\left(t \\right)} \\rangle}{2} + \\frac{\\langle \\hat{\\tilde{Q}}_{2}{\\left(t \\right)}\\hat{\\tilde{P}}_{1}{\\left(t \\right)} \\rangle}{2} & \\frac{\\langle \\hat{\\tilde{P}}_{1}{\\left(t \\right)}\\hat{\\tilde{P}}_{2}{\\left(t \\right)} \\rangle}{2} + \\frac{\\langle \\hat{\\tilde{P}}_{2}{\\left(t \\right)}\\hat{\\tilde{P}}_{1}{\\left(t \\right)} \\rangle}{2}\\\\\\frac{\\langle \\hat{\\tilde{Q}}_{1}{\\left(t \\right)}\\hat{\\tilde{Q}}_{2}{\\left(t \\right)} \\rangle}{2} + \\frac{\\langle \\hat{\\tilde{Q}}_{2}{\\left(t \\right)}\\hat{\\tilde{Q}}_{1}{\\left(t \\right)} \\rangle}{2} & \\frac{\\langle \\hat{\\tilde{P}}_{1}{\\left(t \\right)}\\hat{\\tilde{Q}}_{2}{\\left(t \\right)} \\rangle}{2} + \\frac{\\langle \\hat{\\tilde{Q}}_{2}{\\left(t \\right)}\\hat{\\tilde{P}}_{1}{\\left(t \\right)} \\rangle}{2} & \\langle \\hat{\\tilde{Q}}_{2}{\\left(t \\right)}\\hat{\\tilde{Q}}_{2}{\\left(t \\right)} \\rangle & \\frac{\\langle \\hat{\\tilde{P}}_{2}{\\left(t \\right)}\\hat{\\tilde{Q}}_{2}{\\left(t \\right)} \\rangle}{2} + \\frac{\\langle \\hat{\\tilde{Q}}_{2}{\\left(t \\right)}\\hat{\\tilde{P}}_{2}{\\left(t \\right)} \\rangle}{2}\\\\\\frac{\\langle \\hat{\\tilde{P}}_{2}{\\left(t \\right)}\\hat{\\tilde{Q}}_{1}{\\left(t \\right)} \\rangle}{2} + \\frac{\\langle \\hat{\\tilde{Q}}_{1}{\\left(t \\right)}\\hat{\\tilde{P}}_{2}{\\left(t \\right)} \\rangle}{2} & \\frac{\\langle \\hat{\\tilde{P}}_{1}{\\left(t \\right)}\\hat{\\tilde{P}}_{2}{\\left(t \\right)} \\rangle}{2} + \\frac{\\langle \\hat{\\tilde{P}}_{2}{\\left(t \\right)}\\hat{\\tilde{P}}_{1}{\\left(t \\right)} \\rangle}{2} & \\frac{\\langle \\hat{\\tilde{P}}_{2}{\\left(t \\right)}\\hat{\\tilde{Q}}_{2}{\\left(t \\right)} \\rangle}{2} + \\frac{\\langle \\hat{\\tilde{Q}}_{2}{\\left(t \\right)}\\hat{\\tilde{P}}_{2}{\\left(t \\right)} \\rangle}{2} & \\langle \\hat{\\tilde{P}}_{2}{\\left(t \\right)}\\hat{\\tilde{P}}_{2}{\\left(t \\right)} \\rangle\\end{matrix}\\right]$"
     },
     "metadata": {}
    }
   ],
   "source": [
    "# drift matrix\n",
    "A = Matrix([[(Gamma_1 - gamma), 0, 0, 0], [0, (Gamma_1 - gamma), 0, 0], [- chi_1R, chi_1I, (Gamma_2 - gamma), 0], [- chi_1I, - chi_1R, 0, (Gamma_2 - gamma)]])\n",
    "display(Math('A = ' + latex(A)))\n",
    "\n",
    "# noise matrix\n",
    "diag_1 = eta_1R**2 / 2 + eta_1I**2 / 2 + gamma * (2 * n_th + 1)\n",
    "diag_2 = eta_2R**2 / 2 + eta_2I**2 / 2 + gamma * (2 * n_th + 1)\n",
    "temp_same = - sqrt(eta) / 2 * (eta_1R * eta_2R + eta_1I * eta_2I)\n",
    "temp_diff = - sqrt(eta) / 2 * (eta_1R * eta_2I - eta_1I * eta_2R)\n",
    "D = Matrix([[diag_1, 0, temp_same, temp_diff], [0, diag_1, - temp_diff, temp_same], [temp_same, - temp_diff, diag_2, 0], [temp_diff, temp_same, 0, diag_2]])\n",
    "display(Math('D = ' + latex(D)))\n",
    "\n",
    "# correlation matrix\n",
    "u = [Q_1_tilde_t, P_1_tilde_t, Q_2_tilde_t, P_2_tilde_t]\n",
    "correlations_expect = Matrix([[Symbol('\\\\langle ' + latex(u_i) + latex(u_j) + ' \\\\rangle', real=True) for u_i in u] for u_j in u])\n",
    "V = (correlations_expect + correlations_expect.T) / 2\n",
    "display(Math('V = ' + latex(V)))"
   ]
  },
  {
   "cell_type": "code",
   "execution_count": 5,
   "metadata": {},
   "outputs": [
    {
     "output_type": "display_data",
     "data": {
      "text/plain": "<IPython.core.display.Math object>",
      "text/latex": "$\\displaystyle \\frac{\\eta_{1I}^{2}}{2} + \\frac{\\eta_{1R}^{2}}{2} + \\gamma \\left(2 n_{th} + 1\\right) + 2 \\langle \\hat{\\tilde{Q}}_{1}{\\left(t \\right)}\\hat{\\tilde{Q}}_{1}{\\left(t \\right)} \\rangle \\left(\\Gamma_{1} - \\gamma\\right) = 0$"
     },
     "metadata": {}
    },
    {
     "output_type": "display_data",
     "data": {
      "text/plain": "<IPython.core.display.Math object>",
      "text/latex": "$\\displaystyle 2 \\left(\\Gamma_{1} - \\gamma\\right) \\left(\\frac{\\langle \\hat{\\tilde{P}}_{1}{\\left(t \\right)}\\hat{\\tilde{Q}}_{1}{\\left(t \\right)} \\rangle}{2} + \\frac{\\langle \\hat{\\tilde{Q}}_{1}{\\left(t \\right)}\\hat{\\tilde{P}}_{1}{\\left(t \\right)} \\rangle}{2}\\right) = 0$"
     },
     "metadata": {}
    },
    {
     "output_type": "display_data",
     "data": {
      "text/plain": "<IPython.core.display.Math object>",
      "text/latex": "$\\displaystyle \\frac{\\eta_{1I}^{2}}{2} + \\frac{\\eta_{1R}^{2}}{2} + \\gamma \\left(2 n_{th} + 1\\right) + 2 \\langle \\hat{\\tilde{P}}_{1}{\\left(t \\right)}\\hat{\\tilde{P}}_{1}{\\left(t \\right)} \\rangle \\left(\\Gamma_{1} - \\gamma\\right) = 0$"
     },
     "metadata": {}
    },
    {
     "output_type": "display_data",
     "data": {
      "text/plain": "<IPython.core.display.Math object>",
      "text/latex": "$\\displaystyle 2 \\chi_{1I} \\left(\\frac{\\langle \\hat{\\tilde{P}}_{1}{\\left(t \\right)}\\hat{\\tilde{Q}}_{2}{\\left(t \\right)} \\rangle}{2} + \\frac{\\langle \\hat{\\tilde{Q}}_{2}{\\left(t \\right)}\\hat{\\tilde{P}}_{1}{\\left(t \\right)} \\rangle}{2}\\right) - 2 \\chi_{1R} \\left(\\frac{\\langle \\hat{\\tilde{Q}}_{1}{\\left(t \\right)}\\hat{\\tilde{Q}}_{2}{\\left(t \\right)} \\rangle}{2} + \\frac{\\langle \\hat{\\tilde{Q}}_{2}{\\left(t \\right)}\\hat{\\tilde{Q}}_{1}{\\left(t \\right)} \\rangle}{2}\\right) + \\frac{\\eta_{2I}^{2}}{2} + \\frac{\\eta_{2R}^{2}}{2} + \\gamma \\left(2 n_{th} + 1\\right) + 2 \\langle \\hat{\\tilde{Q}}_{2}{\\left(t \\right)}\\hat{\\tilde{Q}}_{2}{\\left(t \\right)} \\rangle \\left(\\Gamma_{2} - \\gamma\\right) = 0$"
     },
     "metadata": {}
    },
    {
     "output_type": "display_data",
     "data": {
      "text/plain": "<IPython.core.display.Math object>",
      "text/latex": "$\\displaystyle \\chi_{1I} \\left(\\frac{\\langle \\hat{\\tilde{P}}_{1}{\\left(t \\right)}\\hat{\\tilde{P}}_{2}{\\left(t \\right)} \\rangle}{2} + \\frac{\\langle \\hat{\\tilde{P}}_{2}{\\left(t \\right)}\\hat{\\tilde{P}}_{1}{\\left(t \\right)} \\rangle}{2}\\right) - \\chi_{1I} \\left(\\frac{\\langle \\hat{\\tilde{Q}}_{1}{\\left(t \\right)}\\hat{\\tilde{Q}}_{2}{\\left(t \\right)} \\rangle}{2} + \\frac{\\langle \\hat{\\tilde{Q}}_{2}{\\left(t \\right)}\\hat{\\tilde{Q}}_{1}{\\left(t \\right)} \\rangle}{2}\\right) - \\chi_{1R} \\left(\\frac{\\langle \\hat{\\tilde{P}}_{1}{\\left(t \\right)}\\hat{\\tilde{Q}}_{2}{\\left(t \\right)} \\rangle}{2} + \\frac{\\langle \\hat{\\tilde{Q}}_{2}{\\left(t \\right)}\\hat{\\tilde{P}}_{1}{\\left(t \\right)} \\rangle}{2}\\right) - \\chi_{1R} \\left(\\frac{\\langle \\hat{\\tilde{P}}_{2}{\\left(t \\right)}\\hat{\\tilde{Q}}_{1}{\\left(t \\right)} \\rangle}{2} + \\frac{\\langle \\hat{\\tilde{Q}}_{1}{\\left(t \\right)}\\hat{\\tilde{P}}_{2}{\\left(t \\right)} \\rangle}{2}\\right) + 2 \\left(\\Gamma_{2} - \\gamma\\right) \\left(\\frac{\\langle \\hat{\\tilde{P}}_{2}{\\left(t \\right)}\\hat{\\tilde{Q}}_{2}{\\left(t \\right)} \\rangle}{2} + \\frac{\\langle \\hat{\\tilde{Q}}_{2}{\\left(t \\right)}\\hat{\\tilde{P}}_{2}{\\left(t \\right)} \\rangle}{2}\\right) = 0$"
     },
     "metadata": {}
    },
    {
     "output_type": "display_data",
     "data": {
      "text/plain": "<IPython.core.display.Math object>",
      "text/latex": "$\\displaystyle - 2 \\chi_{1I} \\left(\\frac{\\langle \\hat{\\tilde{P}}_{2}{\\left(t \\right)}\\hat{\\tilde{Q}}_{1}{\\left(t \\right)} \\rangle}{2} + \\frac{\\langle \\hat{\\tilde{Q}}_{1}{\\left(t \\right)}\\hat{\\tilde{P}}_{2}{\\left(t \\right)} \\rangle}{2}\\right) - 2 \\chi_{1R} \\left(\\frac{\\langle \\hat{\\tilde{P}}_{1}{\\left(t \\right)}\\hat{\\tilde{P}}_{2}{\\left(t \\right)} \\rangle}{2} + \\frac{\\langle \\hat{\\tilde{P}}_{2}{\\left(t \\right)}\\hat{\\tilde{P}}_{1}{\\left(t \\right)} \\rangle}{2}\\right) + \\frac{\\eta_{2I}^{2}}{2} + \\frac{\\eta_{2R}^{2}}{2} + \\gamma \\left(2 n_{th} + 1\\right) + 2 \\langle \\hat{\\tilde{P}}_{2}{\\left(t \\right)}\\hat{\\tilde{P}}_{2}{\\left(t \\right)} \\rangle \\left(\\Gamma_{2} - \\gamma\\right) = 0$"
     },
     "metadata": {}
    },
    {
     "output_type": "display_data",
     "data": {
      "text/plain": "<IPython.core.display.Math object>",
      "text/latex": "$\\displaystyle \\chi_{1I} \\left(\\frac{\\langle \\hat{\\tilde{P}}_{1}{\\left(t \\right)}\\hat{\\tilde{Q}}_{1}{\\left(t \\right)} \\rangle}{2} + \\frac{\\langle \\hat{\\tilde{Q}}_{1}{\\left(t \\right)}\\hat{\\tilde{P}}_{1}{\\left(t \\right)} \\rangle}{2}\\right) - \\chi_{1R} \\langle \\hat{\\tilde{Q}}_{1}{\\left(t \\right)}\\hat{\\tilde{Q}}_{1}{\\left(t \\right)} \\rangle - \\frac{\\sqrt{\\eta} \\left(\\eta_{1I} \\eta_{2I} + \\eta_{1R} \\eta_{2R}\\right)}{2} + \\left(\\Gamma_{1} - \\gamma\\right) \\left(\\frac{\\langle \\hat{\\tilde{Q}}_{1}{\\left(t \\right)}\\hat{\\tilde{Q}}_{2}{\\left(t \\right)} \\rangle}{2} + \\frac{\\langle \\hat{\\tilde{Q}}_{2}{\\left(t \\right)}\\hat{\\tilde{Q}}_{1}{\\left(t \\right)} \\rangle}{2}\\right) + \\left(\\Gamma_{2} - \\gamma\\right) \\left(\\frac{\\langle \\hat{\\tilde{Q}}_{1}{\\left(t \\right)}\\hat{\\tilde{Q}}_{2}{\\left(t \\right)} \\rangle}{2} + \\frac{\\langle \\hat{\\tilde{Q}}_{2}{\\left(t \\right)}\\hat{\\tilde{Q}}_{1}{\\left(t \\right)} \\rangle}{2}\\right) = 0$"
     },
     "metadata": {}
    },
    {
     "output_type": "display_data",
     "data": {
      "text/plain": "<IPython.core.display.Math object>",
      "text/latex": "$\\displaystyle - \\chi_{1I} \\langle \\hat{\\tilde{Q}}_{1}{\\left(t \\right)}\\hat{\\tilde{Q}}_{1}{\\left(t \\right)} \\rangle - \\chi_{1R} \\left(\\frac{\\langle \\hat{\\tilde{P}}_{1}{\\left(t \\right)}\\hat{\\tilde{Q}}_{1}{\\left(t \\right)} \\rangle}{2} + \\frac{\\langle \\hat{\\tilde{Q}}_{1}{\\left(t \\right)}\\hat{\\tilde{P}}_{1}{\\left(t \\right)} \\rangle}{2}\\right) - \\frac{\\sqrt{\\eta} \\left(- \\eta_{1I} \\eta_{2R} + \\eta_{1R} \\eta_{2I}\\right)}{2} + \\left(\\Gamma_{1} - \\gamma\\right) \\left(\\frac{\\langle \\hat{\\tilde{P}}_{2}{\\left(t \\right)}\\hat{\\tilde{Q}}_{1}{\\left(t \\right)} \\rangle}{2} + \\frac{\\langle \\hat{\\tilde{Q}}_{1}{\\left(t \\right)}\\hat{\\tilde{P}}_{2}{\\left(t \\right)} \\rangle}{2}\\right) + \\left(\\Gamma_{2} - \\gamma\\right) \\left(\\frac{\\langle \\hat{\\tilde{P}}_{2}{\\left(t \\right)}\\hat{\\tilde{Q}}_{1}{\\left(t \\right)} \\rangle}{2} + \\frac{\\langle \\hat{\\tilde{Q}}_{1}{\\left(t \\right)}\\hat{\\tilde{P}}_{2}{\\left(t \\right)} \\rangle}{2}\\right) = 0$"
     },
     "metadata": {}
    },
    {
     "output_type": "display_data",
     "data": {
      "text/plain": "<IPython.core.display.Math object>",
      "text/latex": "$\\displaystyle \\chi_{1I} \\langle \\hat{\\tilde{P}}_{1}{\\left(t \\right)}\\hat{\\tilde{P}}_{1}{\\left(t \\right)} \\rangle - \\chi_{1R} \\left(\\frac{\\langle \\hat{\\tilde{P}}_{1}{\\left(t \\right)}\\hat{\\tilde{Q}}_{1}{\\left(t \\right)} \\rangle}{2} + \\frac{\\langle \\hat{\\tilde{Q}}_{1}{\\left(t \\right)}\\hat{\\tilde{P}}_{1}{\\left(t \\right)} \\rangle}{2}\\right) + \\frac{\\sqrt{\\eta} \\left(- \\eta_{1I} \\eta_{2R} + \\eta_{1R} \\eta_{2I}\\right)}{2} + \\left(\\Gamma_{1} - \\gamma\\right) \\left(\\frac{\\langle \\hat{\\tilde{P}}_{1}{\\left(t \\right)}\\hat{\\tilde{Q}}_{2}{\\left(t \\right)} \\rangle}{2} + \\frac{\\langle \\hat{\\tilde{Q}}_{2}{\\left(t \\right)}\\hat{\\tilde{P}}_{1}{\\left(t \\right)} \\rangle}{2}\\right) + \\left(\\Gamma_{2} - \\gamma\\right) \\left(\\frac{\\langle \\hat{\\tilde{P}}_{1}{\\left(t \\right)}\\hat{\\tilde{Q}}_{2}{\\left(t \\right)} \\rangle}{2} + \\frac{\\langle \\hat{\\tilde{Q}}_{2}{\\left(t \\right)}\\hat{\\tilde{P}}_{1}{\\left(t \\right)} \\rangle}{2}\\right) = 0$"
     },
     "metadata": {}
    },
    {
     "output_type": "display_data",
     "data": {
      "text/plain": "<IPython.core.display.Math object>",
      "text/latex": "$\\displaystyle - \\chi_{1I} \\left(\\frac{\\langle \\hat{\\tilde{P}}_{1}{\\left(t \\right)}\\hat{\\tilde{Q}}_{1}{\\left(t \\right)} \\rangle}{2} + \\frac{\\langle \\hat{\\tilde{Q}}_{1}{\\left(t \\right)}\\hat{\\tilde{P}}_{1}{\\left(t \\right)} \\rangle}{2}\\right) - \\chi_{1R} \\langle \\hat{\\tilde{P}}_{1}{\\left(t \\right)}\\hat{\\tilde{P}}_{1}{\\left(t \\right)} \\rangle - \\frac{\\sqrt{\\eta} \\left(\\eta_{1I} \\eta_{2I} + \\eta_{1R} \\eta_{2R}\\right)}{2} + \\left(\\Gamma_{1} - \\gamma\\right) \\left(\\frac{\\langle \\hat{\\tilde{P}}_{1}{\\left(t \\right)}\\hat{\\tilde{P}}_{2}{\\left(t \\right)} \\rangle}{2} + \\frac{\\langle \\hat{\\tilde{P}}_{2}{\\left(t \\right)}\\hat{\\tilde{P}}_{1}{\\left(t \\right)} \\rangle}{2}\\right) + \\left(\\Gamma_{2} - \\gamma\\right) \\left(\\frac{\\langle \\hat{\\tilde{P}}_{1}{\\left(t \\right)}\\hat{\\tilde{P}}_{2}{\\left(t \\right)} \\rangle}{2} + \\frac{\\langle \\hat{\\tilde{P}}_{2}{\\left(t \\right)}\\hat{\\tilde{P}}_{1}{\\left(t \\right)} \\rangle}{2}\\right) = 0$"
     },
     "metadata": {}
    }
   ],
   "source": [
    "# all expressions\n",
    "expr_dV_dt = A * V + V * A.T + D\n",
    "# unique expressions\n",
    "idxs = [(0, 0), (0, 1), (1, 1), (2, 2), (2, 3), (3, 3), (0, 2), (0, 3), (1, 2), (1, 3)]\n",
    "expr_unique = [expr_dV_dt[idx[0], idx[1]] for idx in idxs]\n",
    "for i in range(len(idxs)):\n",
    "    display(Math(latex(expr_unique[i]) + ' = 0'))"
   ]
  },
  {
   "cell_type": "code",
   "execution_count": 6,
   "metadata": {},
   "outputs": [
    {
     "output_type": "display_data",
     "data": {
      "text/plain": "<IPython.core.display.Math object>",
      "text/latex": "$\\displaystyle \\langle \\hat{\\tilde{Q}}_{1}{\\left(t \\right)}\\hat{\\tilde{Q}}_{1}{\\left(t \\right)} \\rangle = - \\frac{\\frac{\\eta_{1I}^{2}}{4} + \\frac{\\eta_{1R}^{2}}{4} + \\gamma n_{th} + \\frac{\\gamma}{2}}{\\Gamma_{1} - \\gamma}$"
     },
     "metadata": {}
    },
    {
     "output_type": "display_data",
     "data": {
      "text/plain": "<IPython.core.display.Math object>",
      "text/latex": "$\\displaystyle \\frac{\\langle \\hat{\\tilde{P}}_{1}{\\left(t \\right)}\\hat{\\tilde{Q}}_{1}{\\left(t \\right)} \\rangle}{2} + \\frac{\\langle \\hat{\\tilde{Q}}_{1}{\\left(t \\right)}\\hat{\\tilde{P}}_{1}{\\left(t \\right)} \\rangle}{2} = 0$"
     },
     "metadata": {}
    },
    {
     "output_type": "display_data",
     "data": {
      "text/plain": "<IPython.core.display.Math object>",
      "text/latex": "$\\displaystyle \\langle \\hat{\\tilde{P}}_{1}{\\left(t \\right)}\\hat{\\tilde{P}}_{1}{\\left(t \\right)} \\rangle = - \\frac{\\frac{\\eta_{1I}^{2}}{4} + \\frac{\\eta_{1R}^{2}}{4} + \\gamma n_{th} + \\frac{\\gamma}{2}}{\\Gamma_{1} - \\gamma}$"
     },
     "metadata": {}
    },
    {
     "output_type": "display_data",
     "data": {
      "text/plain": "<IPython.core.display.Math object>",
      "text/latex": "$\\displaystyle \\langle \\hat{\\tilde{Q}}_{2}{\\left(t \\right)}\\hat{\\tilde{Q}}_{2}{\\left(t \\right)} \\rangle = \\frac{2 \\sqrt{\\eta} \\left(\\Gamma_{1} - \\gamma\\right) \\left(- \\chi_{1I} \\left(\\eta_{1I} \\eta_{2R} - \\eta_{1R} \\eta_{2I}\\right) + \\chi_{1R} \\left(\\eta_{1I} \\eta_{2I} + \\eta_{1R} \\eta_{2R}\\right)\\right) - \\left(\\Gamma_{1} - \\gamma\\right) \\left(\\Gamma_{1} + \\Gamma_{2} - 2 \\gamma\\right) \\left(\\eta_{2I}^{2} + \\eta_{2R}^{2} + 4 \\gamma n_{th} + 2 \\gamma\\right) - \\left(\\chi_{1I}^{2} + \\chi_{1R}^{2}\\right) \\left(\\eta_{1I}^{2} + \\eta_{1R}^{2} + 4 \\gamma n_{th} + 2 \\gamma\\right)}{4 \\left(\\Gamma_{1} - \\gamma\\right) \\left(\\Gamma_{2} - \\gamma\\right) \\left(\\Gamma_{1} + \\Gamma_{2} - 2 \\gamma\\right)}$"
     },
     "metadata": {}
    },
    {
     "output_type": "display_data",
     "data": {
      "text/plain": "<IPython.core.display.Math object>",
      "text/latex": "$\\displaystyle \\frac{\\langle \\hat{\\tilde{P}}_{2}{\\left(t \\right)}\\hat{\\tilde{Q}}_{2}{\\left(t \\right)} \\rangle}{2} + \\frac{\\langle \\hat{\\tilde{Q}}_{2}{\\left(t \\right)}\\hat{\\tilde{P}}_{2}{\\left(t \\right)} \\rangle}{2} = 0$"
     },
     "metadata": {}
    },
    {
     "output_type": "display_data",
     "data": {
      "text/plain": "<IPython.core.display.Math object>",
      "text/latex": "$\\displaystyle \\langle \\hat{\\tilde{P}}_{2}{\\left(t \\right)}\\hat{\\tilde{P}}_{2}{\\left(t \\right)} \\rangle = \\frac{2 \\sqrt{\\eta} \\left(\\Gamma_{1} - \\gamma\\right) \\left(- \\chi_{1I} \\left(\\eta_{1I} \\eta_{2R} - \\eta_{1R} \\eta_{2I}\\right) + \\chi_{1R} \\left(\\eta_{1I} \\eta_{2I} + \\eta_{1R} \\eta_{2R}\\right)\\right) - \\left(\\Gamma_{1} - \\gamma\\right) \\left(\\Gamma_{1} + \\Gamma_{2} - 2 \\gamma\\right) \\left(\\eta_{2I}^{2} + \\eta_{2R}^{2} + 4 \\gamma n_{th} + 2 \\gamma\\right) - \\left(\\chi_{1I}^{2} + \\chi_{1R}^{2}\\right) \\left(\\eta_{1I}^{2} + \\eta_{1R}^{2} + 4 \\gamma n_{th} + 2 \\gamma\\right)}{4 \\left(\\Gamma_{1} - \\gamma\\right) \\left(\\Gamma_{2} - \\gamma\\right) \\left(\\Gamma_{1} + \\Gamma_{2} - 2 \\gamma\\right)}$"
     },
     "metadata": {}
    },
    {
     "output_type": "display_data",
     "data": {
      "text/plain": "<IPython.core.display.Math object>",
      "text/latex": "$\\displaystyle \\frac{\\langle \\hat{\\tilde{Q}}_{1}{\\left(t \\right)}\\hat{\\tilde{Q}}_{2}{\\left(t \\right)} \\rangle}{2} + \\frac{\\langle \\hat{\\tilde{Q}}_{2}{\\left(t \\right)}\\hat{\\tilde{Q}}_{1}{\\left(t \\right)} \\rangle}{2} = \\frac{- \\chi_{1R} \\left(\\eta_{1I}^{2} + \\eta_{1R}^{2} + 4 \\gamma n_{th} + 2 \\gamma\\right) + 2 \\sqrt{\\eta} \\left(\\Gamma_{1} - \\gamma\\right) \\left(\\eta_{1I} \\eta_{2I} + \\eta_{1R} \\eta_{2R}\\right)}{4 \\left(\\Gamma_{1} - \\gamma\\right) \\left(\\Gamma_{1} + \\Gamma_{2} - 2 \\gamma\\right)}$"
     },
     "metadata": {}
    },
    {
     "output_type": "display_data",
     "data": {
      "text/plain": "<IPython.core.display.Math object>",
      "text/latex": "$\\displaystyle \\frac{\\langle \\hat{\\tilde{P}}_{2}{\\left(t \\right)}\\hat{\\tilde{Q}}_{1}{\\left(t \\right)} \\rangle}{2} + \\frac{\\langle \\hat{\\tilde{Q}}_{1}{\\left(t \\right)}\\hat{\\tilde{P}}_{2}{\\left(t \\right)} \\rangle}{2} = \\frac{- \\chi_{1I} \\left(\\eta_{1I}^{2} + \\eta_{1R}^{2} + 4 \\gamma n_{th} + 2 \\gamma\\right) + 2 \\sqrt{\\eta} \\left(\\Gamma_{1} - \\gamma\\right) \\left(- \\eta_{1I} \\eta_{2R} + \\eta_{1R} \\eta_{2I}\\right)}{4 \\left(\\Gamma_{1} - \\gamma\\right) \\left(\\Gamma_{1} + \\Gamma_{2} - 2 \\gamma\\right)}$"
     },
     "metadata": {}
    },
    {
     "output_type": "display_data",
     "data": {
      "text/plain": "<IPython.core.display.Math object>",
      "text/latex": "$\\displaystyle \\frac{\\langle \\hat{\\tilde{P}}_{1}{\\left(t \\right)}\\hat{\\tilde{Q}}_{2}{\\left(t \\right)} \\rangle}{2} + \\frac{\\langle \\hat{\\tilde{Q}}_{2}{\\left(t \\right)}\\hat{\\tilde{P}}_{1}{\\left(t \\right)} \\rangle}{2} = \\frac{\\chi_{1I} \\left(\\eta_{1I}^{2} + \\eta_{1R}^{2} + 4 \\gamma n_{th} + 2 \\gamma\\right) + 2 \\sqrt{\\eta} \\left(\\Gamma_{1} - \\gamma\\right) \\left(\\eta_{1I} \\eta_{2R} - \\eta_{1R} \\eta_{2I}\\right)}{4 \\left(\\Gamma_{1} - \\gamma\\right) \\left(\\Gamma_{1} + \\Gamma_{2} - 2 \\gamma\\right)}$"
     },
     "metadata": {}
    },
    {
     "output_type": "display_data",
     "data": {
      "text/plain": "<IPython.core.display.Math object>",
      "text/latex": "$\\displaystyle \\frac{\\langle \\hat{\\tilde{P}}_{1}{\\left(t \\right)}\\hat{\\tilde{P}}_{2}{\\left(t \\right)} \\rangle}{2} + \\frac{\\langle \\hat{\\tilde{P}}_{2}{\\left(t \\right)}\\hat{\\tilde{P}}_{1}{\\left(t \\right)} \\rangle}{2} = \\frac{- \\chi_{1R} \\left(\\eta_{1I}^{2} + \\eta_{1R}^{2} + 4 \\gamma n_{th} + 2 \\gamma\\right) + 2 \\sqrt{\\eta} \\left(\\Gamma_{1} - \\gamma\\right) \\left(\\eta_{1I} \\eta_{2I} + \\eta_{1R} \\eta_{2R}\\right)}{4 \\left(\\Gamma_{1} - \\gamma\\right) \\left(\\Gamma_{1} + \\Gamma_{2} - 2 \\gamma\\right)}$"
     },
     "metadata": {}
    }
   ],
   "source": [
    "# solutions\n",
    "sols = solve(expr_unique, [V[idx[0], idx[1]] for idx in idxs])\n",
    "for idx in idxs:\n",
    "    display(Math(latex(V[idx[0], idx[1]]) + ' = ' + latex(sols[V[idx[0], idx[1]]])))"
   ]
  }
 ]
}